{
 "cells": [
  {
   "cell_type": "code",
   "execution_count": 87,
   "id": "f94020af",
   "metadata": {},
   "outputs": [],
   "source": [
    "import pandas as pd\n",
    "from sklearn.linear_model import LinearRegression\n",
    "import sys\n",
    "sys.path.append(\"../\")\n",
    "import preproc as preproc\n",
    "import models as models"
   ]
  },
  {
   "cell_type": "markdown",
   "id": "d10e1495",
   "metadata": {},
   "source": [
    "# Data reading"
   ]
  },
  {
   "cell_type": "code",
   "execution_count": 58,
   "id": "fc147c42",
   "metadata": {},
   "outputs": [],
   "source": [
    "# Normalized DMS data and DeMaSk features. Keep 'NA' in wt_mut.\n",
    "norm_dms_demask = pd.read_csv('../data/normalized/normalized_dms_DeMaSk_features.csv', \n",
    "                              index_col=0, na_values=[''], keep_default_na=False)\n",
    "norm_as = pd.read_csv('../data/normalized/normalized_alanine_scanning.csv')\n",
    "\n",
    "# Protein property features (alanine scanning feature is not included).\n",
    "demask_features = ['entropy', 'log2f_var', 'matrix']"
   ]
  },
  {
   "cell_type": "markdown",
   "id": "a2503a2b",
   "metadata": {},
   "source": [
    "# Model with all alanine scanning data"
   ]
  },
  {
   "cell_type": "code",
   "execution_count": 59,
   "id": "94e3cdf6",
   "metadata": {},
   "outputs": [],
   "source": [
    "all_as = norm_as.copy()"
   ]
  },
  {
   "cell_type": "code",
   "execution_count": 76,
   "id": "086d84f9",
   "metadata": {},
   "outputs": [],
   "source": [
    "# Merge in a cartesian product way.\n",
    "dms_all_as = pd.merge(norm_dms_demask, all_as[['uniprot_id', 'u_pos', 'Ascan_id', 'AS_score']], \n",
    "                      on=['uniprot_id', 'u_pos'], how='left')\n",
    "\n",
    "# Identifier for each DMS+AS combined dataset.\n",
    "dms_all_as['dmsa_id'] = dms_all_as['dms_id'] + '@' + dms_all_as['Ascan_id'].astype(str)\n",
    "dms_all_as['Ascan_score_avail'] = ~dms_all_as['AS_score'].isna()\n",
    "\n",
    "# Impute alanine scanning scores by mean and encode wild-type & mutation type amino acids.\n",
    "dms_all_as, encoded_col = preproc.impute_encode_features(dms_all_as, ['aa1', 'aa2'], ['AS_score'], ['aa2'])\n",
    "dms_all_as[encoded_col] = dms_all_as[encoded_col].mul(dms_all_as['AS_score'], axis='index')\n",
    "\n",
    "# Weight each mutatnt.\n",
    "weight = dms_all_as.groupby(['uniprot_id', 'u_pos', 'aa2'])['score'].count()\n",
    "weight = 1 / weight\n",
    "weight.name = 'weight'\n",
    "dms_all_as = pd.merge(dms_all_as, weight, left_on=['uniprot_id', 'u_pos', 'aa2'], right_index=True,\n",
    "                      how='outer', validate='m:1').reset_index(drop=True)"
   ]
  },
  {
   "cell_type": "code",
   "execution_count": 114,
   "id": "63d4161c",
   "metadata": {
    "scrolled": true
   },
   "outputs": [],
   "source": [
    "for unip in dms_all_as['uniprot_id'].unique():  # Leave-one-protein-out cross-validation\n",
    "    train_data = dms_all_as.query(\"uniprot_id != @unip\")\n",
    "    test_data = dms_all_as.query(\"uniprot_id == @unip\")\n",
    "    train_data, test_data = models.refit_matrix_score(train_data, test_data)\n",
    "    \n",
    "    for model in ['with_as', 'no_as']:\n",
    "        output_header = f\"../result/prediction/demask_based/all_as/{unip}_{model}_\"\n",
    "        if model == 'with_as':\n",
    "            model_features = demask_features + encoded_col + ['AS_score']\n",
    "        else:\n",
    "            model_features = demask_features.copy()\n",
    "            \n",
    "        estimator = LinearRegression(n_jobs=1)\n",
    "        predictor = estimator.fit(train_data[model_features], train_data['score'], train_data['weight'])\n",
    "        models.save_compared_prediction(predictor, test_data, model_features, 'score', output_header)"
   ]
  },
  {
   "cell_type": "code",
   "execution_count": null,
   "id": "1c72d5fb",
   "metadata": {},
   "outputs": [],
   "source": []
  },
  {
   "cell_type": "code",
   "execution_count": null,
   "id": "2d9f9033",
   "metadata": {},
   "outputs": [],
   "source": []
  },
  {
   "cell_type": "code",
   "execution_count": null,
   "id": "1844a6d1",
   "metadata": {},
   "outputs": [],
   "source": []
  },
  {
   "cell_type": "code",
   "execution_count": null,
   "id": "fe69c6ea",
   "metadata": {},
   "outputs": [],
   "source": []
  },
  {
   "cell_type": "code",
   "execution_count": 98,
   "id": "ec68a8f6",
   "metadata": {},
   "outputs": [],
   "source": [
    "local_pred = pd.read_csv('../result/prediction/demask_based/all_as/P38398_with_as_prediction.csv',index_col=0)"
   ]
  },
  {
   "cell_type": "code",
   "execution_count": 103,
   "id": "b26df7dc",
   "metadata": {},
   "outputs": [],
   "source": [
    "hpc_pred = pd.read_csv('/Users/fu.j/Documents/Spartan_Process/007_extrapolation/10_missforest/10_selected/10_211203_assay/09_mean_impute/02_no_subset/log/P38398_with_ala_0_test_prediction.csv', index_col=0)"
   ]
  },
  {
   "cell_type": "code",
   "execution_count": 107,
   "id": "b5416966",
   "metadata": {},
   "outputs": [],
   "source": [
    "left = hpc_pred.sort_values(['dmsa_id', 'position', 'aa2']).reset_index(drop=True)\n",
    "right = local_pred.sort_values(['dmsa_id', 'position', 'aa2']).reset_index(drop=True)"
   ]
  },
  {
   "cell_type": "code",
   "execution_count": 95,
   "id": "4f50cc32",
   "metadata": {},
   "outputs": [],
   "source": [
    "hpc_data = pd.read_csv('/Users/fu.j/AnacondaProjects/Project_3_extrapolation_model/data/dmsa_data/211029/demask_imputed_v12/P38398_mat_AS_prep_dmsa.csv', index_col=0)"
   ]
  },
  {
   "cell_type": "markdown",
   "id": "61a09aa4",
   "metadata": {},
   "source": [
    "# Data preprocessing"
   ]
  },
  {
   "cell_type": "markdown",
   "id": "e6fedf53",
   "metadata": {},
   "source": [
    "## Data reading"
   ]
  },
  {
   "cell_type": "code",
   "execution_count": 20,
   "id": "1899e76f",
   "metadata": {},
   "outputs": [],
   "source": [
    "# Normalized DMS data and DeMaSk features. Keep 'NA' in wt_mut.\n",
    "norm_dms_demask = pd.read_csv('../data/normalized/normalized_dms_DeMaSk_features.csv', index_col=0, na_values=[''], keep_default_na=False)\n",
    "norm_dms_envision = pd.read_csv('../data/normalized/normalized_dms_Envision_features.csv', index_col=0, na_values=[''], keep_default_na=False)\n",
    "norm_as = pd.read_csv('../data/normalized/normalized_alanine_scanning.csv')"
   ]
  },
  {
   "cell_type": "markdown",
   "id": "e160a06f",
   "metadata": {},
   "source": [
    "## Preprocess Envision features"
   ]
  },
  {
   "cell_type": "code",
   "execution_count": 3,
   "id": "088546c5",
   "metadata": {},
   "outputs": [],
   "source": [
    "keep_col = ['score', 'dms_id', 'mut_type', 'uniprot_id', 'u_pos', 'pos_id', 'position']\n",
    "features = ['aa1', 'aa2', 'wt_mut', 'aa1_polarity', 'aa2_polarity', 'aa1_PI','aa2_PI', 'deltaPI', \n",
    "            'Grantham', 'aa1_weight', 'aa2_weight', 'deltaWeight', 'aa1vol', 'aa2vol', 'deltavolume',\n",
    "            'aa1_psic', 'aa2_psic', 'delta_psic', 'accessibility', 'dssp_sec_str', 'phi_psi_reg',\n",
    "            'delta_solvent_accessibility', 'b_factor', 'mut_msa_congruency', 'seq_ind_closest_mut', \n",
    "            'mut_mut_msa_congruency', 'evolutionary_coupling_avg']\n",
    "\n",
    "# Set categorical and numerical features.\n",
    "categ_feat = ['aa1', 'aa2', 'wt_mut', 'aa1_polarity', 'aa2_polarity', 'dssp_sec_str', 'phi_psi_reg']\n",
    "numer_feat = [x for x in features if x not in categ_feat]"
   ]
  },
  {
   "cell_type": "code",
   "execution_count": 12,
   "id": "31c1e2e9",
   "metadata": {
    "scrolled": true
   },
   "outputs": [],
   "source": [
    "preproc_data = preproc.impute_encode_features(norm_dms_envision, categ_feat, numer_feat, ['aa1', 'aa2'], \n",
    "                                              '../data/processed/preprocess_encoder.pickle')"
   ]
  },
  {
   "cell_type": "markdown",
   "id": "0b5d1ef1",
   "metadata": {},
   "source": [
    "## Merge DMS and alanine scanning data"
   ]
  },
  {
   "cell_type": "code",
   "execution_count": 25,
   "id": "0258dbb9",
   "metadata": {},
   "outputs": [],
   "source": [
    "# Merge in a cartesian product way.\n",
    "dms_ascan_dem = pd.merge(norm_dms_demask, norm_as[['uniprot_id', 'u_pos', 'Ascan_id', 'AS_score']], \n",
    "                         on=['uniprot_id', 'u_pos'], how='left')\n",
    "\n",
    "# Identifier for each DMS+AS combined dataset.\n",
    "dms_ascan_dem['dmsa_id'] = dms_ascan_dem['dms_id'] + '@' + dms_ascan_dem['Ascan_id'].astype(str)\n",
    "dms_ascan_dem['Ascan_score_avail'] = ~dms_ascan_dem['AS_score'].isna()\n",
    "dms_ascan_dem.to_csv('../data/processed/dms_as_demask.csv')"
   ]
  },
  {
   "cell_type": "code",
   "execution_count": 24,
   "id": "28f32ce6",
   "metadata": {
    "scrolled": true
   },
   "outputs": [],
   "source": [
    "# Merge in a cartesian product way.\n",
    "dms_ascan_env = pd.merge(preproc_data, norm_as[['uniprot_id', 'u_pos', 'Ascan_id', 'AS_score']], \n",
    "                         on=['uniprot_id', 'u_pos'], how='left')\n",
    "\n",
    "# Identifier for each DMS+AS combined dataset.\n",
    "dms_ascan_env['dmsa_id'] = dms_ascan_env['dms_id'] + '@' + dms_ascan_env['Ascan_id'].astype(str)\n",
    "dms_ascan_env['Ascan_score_avail'] = ~dms_ascan_env['AS_score'].isna()\n",
    "dms_ascan_env.to_csv('../data/processed/dms_as_envision.csv')"
   ]
  },
  {
   "cell_type": "markdown",
   "id": "e71781e2",
   "metadata": {},
   "source": [
    "# Modelling"
   ]
  },
  {
   "cell_type": "code",
   "execution_count": 26,
   "id": "5fd30859",
   "metadata": {},
   "outputs": [],
   "source": [
    "dms_ascan_dem = pd.read_csv('../data/processed/dms_as_demask.csv', index_col=0)\n",
    "# Protein property features (alanine scanning feature is not included).\n",
    "demask_features = ['entropy', 'log2f_var', 'matrix']"
   ]
  },
  {
   "cell_type": "markdown",
   "id": "889d6248",
   "metadata": {},
   "source": [
    "## Model with all alanine scanning data"
   ]
  },
  {
   "cell_type": "code",
   "execution_count": 31,
   "id": "0933f7ca",
   "metadata": {},
   "outputs": [],
   "source": [
    "all_ascan_data = dms_ascan_dem.copy().reset_index(drop=True)"
   ]
  },
  {
   "cell_type": "code",
   "execution_count": 37,
   "id": "42e3352c",
   "metadata": {},
   "outputs": [],
   "source": [
    "foo = dms_ascan_dem.copy()"
   ]
  },
  {
   "cell_type": "code",
   "execution_count": null,
   "id": "c13a8180",
   "metadata": {},
   "outputs": [],
   "source": []
  },
  {
   "cell_type": "code",
   "execution_count": 32,
   "id": "369aff05",
   "metadata": {},
   "outputs": [],
   "source": [
    "# Impute alanine scanning scores by mean.\n",
    "all_ascan_data['AS_score'] = all_ascan_data['AS_score'].fillna(all_ascan_data['AS_score'].mean())\n",
    "\n",
    "# Encode with wild-type and mutation type amino acids.\n",
    "encoded_aa = preproc.encode_categorical_feature(all_ascan_data[['aa1', 'aa2']])\n",
    "encoded_as = encoded_aa.mul(all_ascan_data['AS_score'], axis='index')\n",
    "encoded_col = list(encoded_as.columns)\n",
    "all_ascan_data = pd.concat([all_ascan_data, encoded_as], axis=1)"
   ]
  },
  {
   "cell_type": "code",
   "execution_count": null,
   "id": "06b07fc5",
   "metadata": {},
   "outputs": [],
   "source": [
    "all_ascan_data.groupby(['uniprot_id', 'u_pos'])"
   ]
  },
  {
   "cell_type": "code",
   "execution_count": null,
   "id": "94a1bae1",
   "metadata": {},
   "outputs": [],
   "source": [
    "\n",
    "for unip in all_ascan_data['uniprot_id'].unique():  # Leave-one-protein-out cross-validation\n",
    "    "
   ]
  },
  {
   "cell_type": "markdown",
   "id": "9db4d603",
   "metadata": {},
   "source": [
    "# OUTDATED"
   ]
  },
  {
   "cell_type": "code",
   "execution_count": null,
   "id": "4474b5a9",
   "metadata": {},
   "outputs": [],
   "source": [
    "import numpy as np\n",
    "import pandas as pd\n",
    "from sklearn.model_selection import KFold\n",
    "from sklearn.ensemble import RandomForestRegressor\n",
    "import sys\n",
    "sys.path.append(\"../\")\n",
    "import preproc as preproc\n",
    "import models as models"
   ]
  },
  {
   "cell_type": "markdown",
   "id": "c4e97d44",
   "metadata": {},
   "source": [
    "## Data reading"
   ]
  },
  {
   "cell_type": "code",
   "execution_count": null,
   "id": "ef3200f2",
   "metadata": {},
   "outputs": [],
   "source": [
    "dms_ascan = pd.read_csv('../data/processed/dms_as_data.csv', index_col=0)\n",
    "# Protein property features (alanine scanning features are not included).\n",
    "with open('../data/data_info/features.txt', 'r') as file:\n",
    "    basic_features = eval(file.read())"
   ]
  },
  {
   "cell_type": "markdown",
   "id": "4920d488",
   "metadata": {},
   "source": [
    "## Predictor with alanine scanning data available mutants"
   ]
  },
  {
   "cell_type": "code",
   "execution_count": null,
   "id": "936f3fb7",
   "metadata": {},
   "outputs": [],
   "source": [
    "# Prepare for modelling data.\n",
    "model_data = dms_ascan[dms_ascan['uniprot_id'] != 'P51681']  # Remove CCR5 data.\n",
    "# Keep mutants with available alanine scanning data.\n",
    "model_data = model_data[model_data['Ascan_score_avail']].reset_index(drop=True)\n",
    "\n",
    "# Set training weight.\n",
    "unip_weight = model_data[['uniprot_id', 'dmsa_id']].groupby('uniprot_id').nunique()['dmsa_id']\n",
    "unip_weight = 1 / unip_weight\n",
    "model_data['weight'] = model_data['uniprot_id'].map(unip_weight)"
   ]
  },
  {
   "cell_type": "code",
   "execution_count": null,
   "id": "e53f0096",
   "metadata": {},
   "outputs": [],
   "source": [
    "# Set parameters.\n",
    "\"\"\"\n",
    "# These are real parameters\n",
    "seed = 0\n",
    "output_dir = '../result/prediction/mutants_with_AS_data/'\n",
    "search_space = [{'name': 'n_estimators', 'type': 'discrete', 'domain': np.arange(100, 501), 'dtype': int},\n",
    "                {'name': 'max_depth', 'type': 'discrete', 'domain': np.arange(1, 81), 'dtype': int},\n",
    "                {'name': 'min_weight_fraction_leaf', 'type': 'continuous', 'domain': (0, 0.5), 'dtype': float}]\n",
    "bo_kwargs = {'num_iterations': 1000, 'num_cores': 16, 'if_maximize': True, 'random_seed': seed, 'max_time': 165600}\n",
    "cv_kwargs = {'scoring': 'neg_mean_squared_error', 'cv': KFold(10, True), 'n_jobs': 1}\n",
    "\"\"\"\n",
    "# These are trial parameters which are faster to run, but still can take a while (7 min on MacBook Pro 15-inch. 2018).\n",
    "seed = 0\n",
    "output_dir = '../result/prediction/trial/'\n",
    "search_space = [{'name': 'n_estimators', 'type': 'discrete', 'domain': np.arange(1, 3), 'dtype': int},\n",
    "                {'name': 'max_depth', 'type': 'discrete', 'domain': np.arange(1, 3), 'dtype': int}]\n",
    "bo_kwargs = {'num_iterations': 1, 'num_cores': 12, 'if_maximize': True, 'random_seed': seed, 'max_time': 1000}\n",
    "cv_kwargs = {'scoring': 'neg_mean_squared_error', 'cv': KFold(2, True), 'n_jobs': 1}"
   ]
  },
  {
   "cell_type": "code",
   "execution_count": null,
   "id": "27c22c36",
   "metadata": {},
   "outputs": [],
   "source": [
    "for test_unip in model_data['uniprot_id'].unique():\n",
    "    for use_as_data in [True, False]:\n",
    "        # Separate training and testing data.\n",
    "        train_data = model_data[model_data['uniprot_id'] != test_unip]\n",
    "        test_data = model_data[model_data['uniprot_id'] == test_unip]\n",
    "        \n",
    "        # Parameters processing.\n",
    "        cv_kwargs['fit_params'] = {'sample_weight': train_data['weight']}\n",
    "        if use_as_data:\n",
    "            model_feature = basic_features + ['AS_score', 'Ascan_score_avail']\n",
    "            model_name = 'with_ala'\n",
    "        else:\n",
    "            model_feature = basic_features.copy()\n",
    "            model_name = 'nothing'\n",
    "        output_header = f\"{output_dir}{test_unip}_{model_name}_0_\"  # The last 0 was used for replicates.\n",
    "        bo_kwargs['output_header'] = output_header\n",
    "\n",
    "        # Training.\n",
    "        models.monitor_process(output_dir, f\"{output_header[len(output_dir):-1]} starts.\", 0)\n",
    "        estimator = RandomForestRegressor(n_jobs=1, random_state=seed)\n",
    "        predictor = models.fit_best_estimator(search_space, estimator, train_data[model_feature], train_data['score'],\n",
    "                                              cv_kwargs, bo_kwargs)\n",
    "        models.save_feature_importance(predictor, output_header)\n",
    "        models.save_tuned_hyperparameters(predictor, search_space, output_header)\n",
    "        models.save_compared_prediction(predictor, test_data, model_feature, 'score', output_header + 'test_',\n",
    "                                        info_col=[\"dmsa_id\", \"position\", \"aa2\"])\n",
    "        models.monitor_process(output_dir, f\"{output_header[len(output_dir):-1]} ends.\", 0)\n",
    "\n",
    "# For GAL4, '../data/processed/gal4_missing_mutants.csv' can be added to testing data."
   ]
  },
  {
   "cell_type": "markdown",
   "id": "9be10cea",
   "metadata": {},
   "source": [
    "## Predictor with all mutants"
   ]
  },
  {
   "cell_type": "code",
   "execution_count": null,
   "id": "31dbdb4b",
   "metadata": {},
   "outputs": [],
   "source": [
    "# Prepare for modelling data.\n",
    "model_data = dms_ascan[dms_ascan['uniprot_id'] != 'P51681'].reset_index(drop=True)  # Remove CCR5 data.\n",
    "\n",
    "# Set training weight.\n",
    "unip_weight = model_data[['uniprot_id', 'dmsa_id']].groupby('uniprot_id').nunique()['dmsa_id']\n",
    "unip_weight = 1 / unip_weight\n",
    "model_data['weight'] = model_data['uniprot_id'].map(unip_weight)"
   ]
  },
  {
   "cell_type": "code",
   "execution_count": null,
   "id": "081fe039",
   "metadata": {},
   "outputs": [],
   "source": [
    "# Set parameters.\n",
    "\"\"\"\n",
    "# These are real parameters\n",
    "seed = 0\n",
    "output_dir = '../result/prediction/all_mutants/'\n",
    "search_space = [{'name': 'n_estimators', 'type': 'discrete', 'domain': np.arange(100, 501), 'dtype': int},\n",
    "                {'name': 'max_depth', 'type': 'discrete', 'domain': np.arange(1, 81), 'dtype': int},\n",
    "                {'name': 'min_weight_fraction_leaf', 'type': 'continuous', 'domain': (0, 0.5), 'dtype': float}]\n",
    "bo_kwargs = {'num_iterations': 1000, 'num_cores': 16, 'if_maximize': True, 'random_seed': seed, 'max_time': 165600}\n",
    "cv_kwargs = {'scoring': 'neg_mean_squared_error', 'cv': KFold(10, True), 'n_jobs': 1}\n",
    "\"\"\"\n",
    "# These are trial parameters which are faster to run, but still can take a while (24 min MacBook Pro 15-inch. 2018).\n",
    "seed = 0\n",
    "output_dir = '../result/prediction/trial/'\n",
    "search_space = [{'name': 'n_estimators', 'type': 'discrete', 'domain': np.arange(1, 3), 'dtype': int},\n",
    "                {'name': 'max_depth', 'type': 'discrete', 'domain': np.arange(1, 3), 'dtype': int}]\n",
    "bo_kwargs = {'num_iterations': 1, 'num_cores': 12, 'if_maximize': True, 'random_seed': seed, 'max_time': 1000}\n",
    "cv_kwargs = {'scoring': 'neg_mean_squared_error', 'cv': KFold(2, True), 'n_jobs': 1}"
   ]
  },
  {
   "cell_type": "code",
   "execution_count": null,
   "id": "d25c57a5",
   "metadata": {},
   "outputs": [],
   "source": [
    "for test_unip in model_data['uniprot_id'].unique():\n",
    "    for use_as_data in [True, False]:\n",
    "        # Separate training and testing data.\n",
    "        train_data = model_data[model_data['uniprot_id'] != test_unip]\n",
    "        test_data = model_data[model_data['uniprot_id'] == test_unip]\n",
    "        \n",
    "        # Parameters processing.\n",
    "        cv_kwargs['fit_params'] = {'sample_weight': train_data['weight']}\n",
    "        if use_as_data:\n",
    "            model_feature = basic_features + ['AS_score', 'Ascan_score_avail']\n",
    "            model_name = 'with_ala'\n",
    "        else:\n",
    "            model_feature = basic_features.copy()\n",
    "            model_name = 'nothing'\n",
    "        output_header = f\"{output_dir}{test_unip}_{model_name}_0_\"  # The last 0 was used for replicates.\n",
    "        bo_kwargs['output_header'] = output_header\n",
    "\n",
    "        # Training.\n",
    "        models.monitor_process(output_dir, f\"{output_header[len(output_dir):-1]} starts.\", 0)\n",
    "        estimator = RandomForestRegressor(n_jobs=1, random_state=seed)\n",
    "        predictor = models.fit_best_estimator(search_space, estimator, train_data[model_feature], train_data['score'],\n",
    "                                              cv_kwargs, bo_kwargs)\n",
    "        models.save_feature_importance(predictor, output_header)\n",
    "        models.save_tuned_hyperparameters(predictor, search_space, output_header)\n",
    "        models.save_compared_prediction(predictor, test_data, model_feature, 'score', output_header + 'test_',\n",
    "                                        info_col=[\"dmsa_id\", \"position\", \"aa2\"])\n",
    "        models.monitor_process(output_dir, f\"{output_header[len(output_dir):-1]} ends.\", 0)\n",
    "        \n",
    "# For GAL4, '../data/processed/gal4_missing_mutants.csv' can be added to testing data."
   ]
  }
 ],
 "metadata": {
  "kernelspec": {
   "display_name": "Python 3",
   "language": "python",
   "name": "python3"
  },
  "language_info": {
   "codemirror_mode": {
    "name": "ipython",
    "version": 3
   },
   "file_extension": ".py",
   "mimetype": "text/x-python",
   "name": "python",
   "nbconvert_exporter": "python",
   "pygments_lexer": "ipython3",
   "version": "3.6.13"
  },
  "toc": {
   "base_numbering": 1,
   "nav_menu": {},
   "number_sections": true,
   "sideBar": true,
   "skip_h1_title": false,
   "title_cell": "Table of Contents",
   "title_sidebar": "Contents",
   "toc_cell": false,
   "toc_position": {
    "height": "calc(100% - 180px)",
    "left": "10px",
    "top": "150px",
    "width": "262.5px"
   },
   "toc_section_display": true,
   "toc_window_display": true
  }
 },
 "nbformat": 4,
 "nbformat_minor": 5
}
