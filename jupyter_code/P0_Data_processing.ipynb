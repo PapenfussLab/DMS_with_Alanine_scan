{
 "cells": [
  {
   "cell_type": "markdown",
   "id": "778fd7a2",
   "metadata": {},
   "source": [
    "__In this notebook, we collect, annotate and pre-process deep mutational scanning (DMS) and alanine scanning (AS) data for future analysis.__"
   ]
  },
  {
   "cell_type": "code",
   "execution_count": 1,
   "id": "6a5ac2fc",
   "metadata": {
    "scrolled": true
   },
   "outputs": [
    {
     "name": "stderr",
     "output_type": "stream",
     "text": [
      "Duplicate key in file '/Users/fu.j/.matplotlib/matplotlibrc', line 2 ('backend: TkAgg')\n"
     ]
    }
   ],
   "source": [
    "import os\n",
    "from scipy.stats import spearmanr\n",
    "import numpy as np\n",
    "import pandas as pd\n",
    "import matplotlib.pyplot as plt\n",
    "import seaborn as sns\n",
    "\n",
    "import sys\n",
    "sys.path.append('../src/')\n",
    "import mavedb_tool as mtool\n",
    "import preproc as preproc"
   ]
  },
  {
   "cell_type": "code",
   "execution_count": 2,
   "id": "cf60b263",
   "metadata": {
    "scrolled": true
   },
   "outputs": [],
   "source": [
    "data_info = pd.read_csv('../data/data_info/data_compatibility_221024.csv', index_col=0)"
   ]
  },
  {
   "cell_type": "markdown",
   "id": "65cb5cb3",
   "metadata": {},
   "source": [
    "# DMS data"
   ]
  },
  {
   "cell_type": "markdown",
   "id": "6eac73d3",
   "metadata": {},
   "source": [
    "## Download"
   ]
  },
  {
   "cell_type": "markdown",
   "id": "df0d707e",
   "metadata": {},
   "source": [
    "We download all available DMS data from [MaveDB](https://www.mavedb.org/) by the time this study begins."
   ]
  },
  {
   "cell_type": "code",
   "execution_count": 38,
   "id": "cc227a17",
   "metadata": {
    "scrolled": true
   },
   "outputs": [
    {
     "name": "stdout",
     "output_type": "stream",
     "text": [
      "Downloading: urn:mavedb:00000069-a-1 from MaveDB.\n",
      "Downloading: urn:mavedb:00000058-a-1 from MaveDB.\n",
      "Downloading: urn:mavedb:00000003-a-2 from MaveDB.\n",
      "Downloading: urn:mavedb:00000003-b-2 from MaveDB.\n",
      "Downloading: urn:mavedb:00000097-0-1 from MaveDB.\n",
      "Downloading: urn:mavedb:00000001-c-1 from MaveDB.\n",
      "Downloading: urn:mavedb:00000005-a-5 from MaveDB.\n",
      "Downloading: urn:mavedb:00000005-a-6 from MaveDB.\n",
      "Downloading: urn:mavedb:00000047-a-1 from MaveDB.\n",
      "Downloading: urn:mavedb:00000047-b-1 from MaveDB.\n",
      "Downloading: urn:mavedb:00000047-c-1 from MaveDB.\n",
      "Downloading: urn:mavedb:00000046-a-1 from MaveDB.\n",
      "Downloading: urn:mavedb:00000051-a-1 from MaveDB.\n",
      "Downloading: urn:mavedb:00000048-a-1 from MaveDB.\n",
      "Downloading: urn:mavedb:00000048-b-1 from MaveDB.\n",
      "Downloading: urn:mavedb:00000048-c-1 from MaveDB.\n",
      "Downloading: urn:mavedb:00000062-b-1 from MaveDB.\n",
      "Downloading: urn:mavedb:00000062-a-1 from MaveDB.\n",
      "Downloading: urn:mavedb:00000077-a-1 from MaveDB.\n",
      "Downloading: urn:mavedb:00000077-b-1 from MaveDB.\n",
      "Downloading: urn:mavedb:00000063-a-1 from MaveDB.\n",
      "Downloading: urn:mavedb:00000063-b-1 from MaveDB.\n",
      "Downloading: urn:mavedb:00000053-a-2 from MaveDB.\n",
      "Downloading: urn:mavedb:00000090-a-1 from MaveDB.\n",
      "Downloading: urn:mavedb:00000090-b-1 from MaveDB.\n",
      "Downloading: urn:mavedb:00000051-b-1 from MaveDB.\n",
      "Downloading: urn:mavedb:00000076-a-1 from MaveDB.\n",
      "Downloading: urn:mavedb:00000076-b-1 from MaveDB.\n",
      "Downloading: urn:mavedb:00000076-c-1 from MaveDB.\n",
      "Downloading: urn:mavedb:00000076-e-1 from MaveDB.\n",
      "Downloading: urn:mavedb:00000012-a-1 from MaveDB.\n",
      "Downloading: urn:mavedb:00000012-a-2 from MaveDB.\n",
      "Downloading: urn:mavedb:00000012-a-3 from MaveDB.\n",
      "Downloading: urn:mavedb:00000012-a-4 from MaveDB.\n",
      "Downloading: urn:mavedb:00000012-a-5 from MaveDB.\n",
      "Downloading: urn:mavedb:00000012-a-6 from MaveDB.\n",
      "Downloading: urn:mavedb:00000052-a-1 from MaveDB.\n",
      "Downloading: urn:mavedb:00000052-b-1 from MaveDB.\n",
      "Downloading: urn:mavedb:00000066-a-1 from MaveDB.\n",
      "Downloading: urn:mavedb:00000051-c-1 from MaveDB.\n",
      "Downloading: urn:mavedb:00000035-a-1 from MaveDB.\n",
      "Downloading: urn:mavedb:00000035-a-2 from MaveDB.\n",
      "Downloading: urn:mavedb:00000035-a-3 from MaveDB.\n",
      "Downloading: urn:mavedb:00000011-a-1 from MaveDB.\n",
      "Downloading: urn:mavedb:00000039-a-1 from MaveDB.\n",
      "Downloading: urn:mavedb:00000039-a-2 from MaveDB.\n",
      "Downloading: urn:mavedb:00000039-a-3 from MaveDB.\n",
      "Downloading: urn:mavedb:00000039-a-4 from MaveDB.\n",
      "Downloading: urn:mavedb:00000039-a-5 from MaveDB.\n",
      "Downloading: urn:mavedb:00000039-a-6 from MaveDB.\n",
      "Downloading: urn:mavedb:00000039-a-7 from MaveDB.\n",
      "Downloading: urn:mavedb:00000040-a-1 from MaveDB.\n",
      "Downloading: urn:mavedb:00000040-a-2 from MaveDB.\n",
      "Downloading: urn:mavedb:00000040-a-3 from MaveDB.\n",
      "Downloading: urn:mavedb:00000040-a-4 from MaveDB.\n",
      "Downloading: urn:mavedb:00000074-a-1 from MaveDB.\n",
      "Downloading: urn:mavedb:00000036-a-1 from MaveDB.\n",
      "Downloading: urn:mavedb:00000036-a-2 from MaveDB.\n",
      "Downloading: urn:mavedb:00000064-a-1 from MaveDB.\n",
      "Downloading: urn:mavedb:00000064-b-1 from MaveDB.\n",
      "Downloading: urn:mavedb:00000043-a-1 from MaveDB.\n",
      "Downloading: urn:mavedb:00000049-a-1 from MaveDB.\n",
      "Downloading: urn:mavedb:00000049-a-4 from MaveDB.\n",
      "Downloading: urn:mavedb:00000049-a-6 from MaveDB.\n",
      "Downloading: urn:mavedb:00000049-a-7 from MaveDB.\n",
      "Downloading: urn:mavedb:00000065-a-1 from MaveDB.\n",
      "Downloading: urn:mavedb:00000055-a-1 from MaveDB.\n",
      "Downloading: urn:mavedb:00000055-b-1 from MaveDB.\n",
      "Downloading: urn:mavedb:00000010-a-1 from MaveDB.\n",
      "Downloading: urn:mavedb:00000013-a-1 from MaveDB.\n",
      "Downloading: urn:mavedb:00000054-a-1 from MaveDB.\n",
      "Downloading: urn:mavedb:00000079-a-1 from MaveDB.\n",
      "Downloading: urn:mavedb:00000061-a-1 from MaveDB.\n",
      "Downloading: urn:mavedb:00000061-b-1 from MaveDB.\n",
      "Downloading: urn:mavedb:00000061-c-1 from MaveDB.\n",
      "Downloading: urn:mavedb:00000061-d-1 from MaveDB.\n",
      "Downloading: urn:mavedb:00000061-e-1 from MaveDB.\n",
      "Downloading: urn:mavedb:00000061-f-1 from MaveDB.\n",
      "Downloading: urn:mavedb:00000061-g-1 from MaveDB.\n",
      "Downloading: urn:mavedb:00000061-h-1 from MaveDB.\n",
      "Downloading: urn:mavedb:00000061-i-1 from MaveDB.\n",
      "Downloading: urn:mavedb:00000057-a-1 from MaveDB.\n",
      "Downloading: urn:mavedb:00000057-b-1 from MaveDB.\n",
      "Downloading: urn:mavedb:00000057-c-1 from MaveDB.\n",
      "Downloading: urn:mavedb:00000045-a-1 from MaveDB.\n",
      "Downloading: urn:mavedb:00000045-b-1 from MaveDB.\n",
      "Downloading: urn:mavedb:00000045-c-1 from MaveDB.\n",
      "Downloading: urn:mavedb:00000045-d-1 from MaveDB.\n",
      "Downloading: urn:mavedb:00000045-e-1 from MaveDB.\n",
      "Downloading: urn:mavedb:00000045-f-1 from MaveDB.\n",
      "Downloading: urn:mavedb:00000045-g-1 from MaveDB.\n",
      "Downloading: urn:mavedb:00000045-h-1 from MaveDB.\n",
      "Downloading: urn:mavedb:00000045-i-1 from MaveDB.\n",
      "Downloading: urn:mavedb:00000045-j-1 from MaveDB.\n",
      "Downloading: urn:mavedb:00000045-k-1 from MaveDB.\n",
      "Downloading: urn:mavedb:00000045-l-1 from MaveDB.\n",
      "Downloading: urn:mavedb:00000041-a-1 from MaveDB.\n",
      "Downloading: urn:mavedb:00000041-b-1 from MaveDB.\n",
      "Downloading: urn:mavedb:00000001-b-2 from MaveDB.\n",
      "Downloading: urn:mavedb:00000060-a-1 from MaveDB.\n",
      "Downloading: urn:mavedb:00000060-a-2 from MaveDB.\n",
      "Downloading: urn:mavedb:00000067-a-1 from MaveDB.\n",
      "Downloading: urn:mavedb:00000070-a-2 from MaveDB.\n",
      "Downloading: urn:mavedb:00000086-a-1 from MaveDB.\n",
      "Downloading: urn:mavedb:00000086-b-1 from MaveDB.\n",
      "Downloading: urn:mavedb:00000086-c-1 from MaveDB.\n",
      "Downloading: urn:mavedb:00000086-d-1 from MaveDB.\n",
      "Downloading: urn:mavedb:00000086-e-1 from MaveDB.\n",
      "Downloading: urn:mavedb:00000086-f-1 from MaveDB.\n",
      "Downloading: urn:mavedb:00000086-g-1 from MaveDB.\n",
      "Downloading: urn:mavedb:00000059-a-1 from MaveDB.\n",
      "Downloading: urn:mavedb:00000068-b-1 from MaveDB.\n",
      "Downloading: urn:mavedb:00000068-c-1 from MaveDB.\n",
      "Downloading: urn:mavedb:00000001-d-1 from MaveDB.\n",
      "Downloading: urn:mavedb:00000013-b-1 from MaveDB.\n",
      "Downloading: urn:mavedb:00000001-a-2 from MaveDB.\n",
      "Downloading: urn:mavedb:00000001-a-3 from MaveDB.\n",
      "Downloading: urn:mavedb:00000004-a-1 from MaveDB.\n",
      "Downloading: urn:mavedb:00000037-a-1 from MaveDB.\n",
      "Downloading: urn:mavedb:00000038-a-1 from MaveDB.\n",
      "Downloading: urn:mavedb:00000038-b-1 from MaveDB.\n",
      "Downloading: urn:mavedb:00000038-b-2 from MaveDB.\n",
      "Downloading: urn:mavedb:00000078-a-1 from MaveDB.\n",
      "Downloading: urn:mavedb:00000078-b-1 from MaveDB.\n",
      "Downloading: urn:mavedb:00000002-a-2 from MaveDB.\n",
      "Downloading: urn:mavedb:00000080-a-2 from MaveDB.\n"
     ]
    }
   ],
   "source": [
    "for urn_id in data_info.dms_id.unique():\n",
    "    # Temporary, following data to be uploaded to MaveDB.\n",
    "    if urn_id[:3] != 'urn':\n",
    "        continue\n",
    "    # We are going to use score.exp column instead of score column for these datasets. Explained below.\n",
    "    if urn_id[-4:] == '-exp':\n",
    "        urn_id = urn_id[:-4]\n",
    "    #mtool.download_mavedb_score(urn_id, '../data/raw/mavedb_data/')"
   ]
  },
  {
   "cell_type": "markdown",
   "id": "d872ab6f",
   "metadata": {},
   "source": [
    "## Annotate"
   ]
  },
  {
   "cell_type": "markdown",
   "id": "5958f917",
   "metadata": {},
   "source": [
    "We further annotated the downloaded MaveDB data for the analysis of single amino acid variants (SAV).\n",
    "\n",
    "In this analysis, we only use __experimental DMS scores__ which are usually stored in the `score` column of MaveDB data. But some studies may report __computationally imputed/refined scores__ instead, and store the experimental ones in `exp.score`. So, we swapped these columns in these cases.\n",
    "\n",
    "For each variant entry:\n",
    "1. If it is a __single amino acid missense variant__, the wild-type amino acid, variant type amino acid and location of substitution will be recorded\n",
    "2. If it is a synonymous (or unchanged), nonsense or deletion variant, only the type (synonymous, ...) will be recorded\n",
    "3. For multi-variants, frameshift or other types of variants, no detailed information will be recorded"
   ]
  },
  {
   "cell_type": "code",
   "execution_count": 7,
   "id": "daee953e",
   "metadata": {
    "scrolled": true
   },
   "outputs": [],
   "source": [
    "annot_data = dict()\n",
    "for dms_id in data_info.dms_id.unique():\n",
    "    if dms_id[-4:] == '-exp':\n",
    "        urn_id = dms_id[:-4]\n",
    "        # We are going to use score.exp column instead of score column for these datasets.\n",
    "        mave_data = pd.read_csv(f\"../data/raw/mavedb_data/{urn_id}.csv\", header=4)\n",
    "        mave_data['score'] = mave_data['exp.score']\n",
    "        mave_data = mave_data.drop(columns='exp.score')\n",
    "    else:\n",
    "        urn_id = dms_id\n",
    "        mave_data = pd.read_csv(f\"../data/raw/mavedb_data/{urn_id}.csv\", header=4)\n",
    "        if urn_id == 'urn:mavedb:00000097-0-1':  # Special hgvs_pro format.\n",
    "            mave_data = mave_data[mave_data['hgvs_pro'].notna()]  # Remove non-coding variants.\n",
    "            mave_data['hgvs_pro'] = mave_data.hgvs_pro.str[12:]\n",
    "    \n",
    "    mave_data = mtool.clean_mavedb_scores(mave_data)\n",
    "    mave_data = mtool.annotate_mavedb_sav_data(mave_data)\n",
    "    mave_data['dms_id'] = dms_id\n",
    "    annot_data[dms_id] = mave_data"
   ]
  },
  {
   "cell_type": "markdown",
   "id": "b486de05",
   "metadata": {},
   "source": [
    "## Normalize"
   ]
  },
  {
   "cell_type": "markdown",
   "id": "15a141f2",
   "metadata": {},
   "source": [
    "We normalize each DMS dataset by the scores of wildtype-like (wildtype or synonymous) and nonsense-like variants. Only single amino acid missense variant will be kept after this process.\n",
    "\n",
    "__For wildtype-like scores__, we use the scores of synonymous variants in the data, if available. Otherwise, we referred to the paper, especially the method for score calculation, to identify the wildtype-like scores, as shown in the below cell.\n",
    "\n",
    "__For nonsense-like scores__, it is defined as the median DMS scores for the 1% missense variants with the strongest loss of function in each DMS dataset, which are usually lower in scores (indicated as `negative`). But in some cases, according to the paper, high DMS scores may represent loss of protein functions (indicated as `positive`). We listed these datasets with positive-loss below for a correct normalisation."
   ]
  },
  {
   "cell_type": "code",
   "execution_count": 8,
   "id": "67899e6e",
   "metadata": {},
   "outputs": [],
   "source": [
    "defined_wt_scores = {'urn:mavedb:00000004-a-1': 0,  # Indicated by score calculation.\n",
    "                     'urn:mavedb:00000010-a-1': 1,  # Defined by the paper.\n",
    "                     'urn:mavedb:00000012-a-1': 0,  # Indicated by score calculation.\n",
    "                     'urn:mavedb:00000012-a-2': 0,  # Indicated by score calculation.,\n",
    "                     'urn:mavedb:00000012-a-3': 0,  # Indicated by score calculation.,\n",
    "                     'urn:mavedb:00000012-a-4': 0,  # Indicated by score calculation.,\n",
    "                     'urn:mavedb:00000012-a-5': 0,  # Indicated by score calculation.,\n",
    "                     'urn:mavedb:00000012-a-6': 0,  # Indicated by score calculation.,\n",
    "                     'urn:mavedb:00000041-a-1': 0,  # Defined by the paper.\n",
    "                     'urn:mavedb:00000041-b-1': 0,  # Defined by the paper.\n",
    "                     'urn:mavedb:00000053-a-2': 0,  # Defined by the paper.\n",
    "                     'urn:mavedb:00000060-a-1': 0,  # Defined by the paper.\n",
    "                     'urn:mavedb:00000060-a-2': 0,  # Defined by the paper.\n",
    "                     'urn:mavedb:00000062-b-1': 0.7050428,  # Referred from urn:mavedb:00000062-a-1\n",
    "                     'urn:mavedb:00000077-b-1': 0,  # Indicated by score calculation.\n",
    "                     'urn:mavedb:00000079-a-1': 0,  # Indicated by score calculation.\n",
    "                     'urn:mavedb:00000086-a-1': 0,  # Defined by the paper.\n",
    "                     'urn:mavedb:00000086-b-1': 0,  # Defined by the paper.\n",
    "                     'urn:mavedb:00000086-c-1': 0,  # Defined by the paper.\n",
    "                     'urn:mavedb:00000086-d-1': 0,  # Defined by the paper.\n",
    "                     'urn:mavedb:00000086-e-1': 0,  # Defined by the paper.\n",
    "                     'urn:mavedb:00000086-f-1': 0,  # Defined by the paper.\n",
    "                     'urn:mavedb:00000086-g-1': 0,  # Defined by the paper.\n",
    "                     'urn:mavedb:00000081-a-2': 0,  # Indicated by score calculation.\n",
    "                     'tmp:UCrl0vQc6AQv4KH4': 1,  # Indicated by score calculation.\n",
    "                     }\n",
    "\n",
    "# Nonsense-like variants in the following DMS data have positive scores, either identified according \n",
    "# to assay setup or directly from scores of nonsense variants.\n",
    "positive_loss = ['urn:mavedb:00000041-a-1', 'urn:mavedb:00000041-b-1', 'urn:mavedb:00000045-a-1', \n",
    "                 'urn:mavedb:00000045-b-1', 'urn:mavedb:00000045-c-1', 'urn:mavedb:00000045-d-1', \n",
    "                 'urn:mavedb:00000045-e-1', 'urn:mavedb:00000045-f-1', 'urn:mavedb:00000045-g-1', \n",
    "                 'urn:mavedb:00000045-h-1', 'urn:mavedb:00000045-i-1', 'urn:mavedb:00000045-j-1', \n",
    "                 'urn:mavedb:00000045-k-1', 'urn:mavedb:00000045-l-1', 'urn:mavedb:00000051-a-1', \n",
    "                 'urn:mavedb:00000051-b-1', 'urn:mavedb:00000060-a-1', 'urn:mavedb:00000060-a-2', \n",
    "                 'urn:mavedb:00000076-a-1', 'urn:mavedb:00000076-b-1', 'urn:mavedb:00000076-c-1', \n",
    "                 'urn:mavedb:00000076-e-1', 'urn:mavedb:00000051-c-1', 'urn:mavedb:00000058-a-1', \n",
    "                 'urn:mavedb:00000059-a-1', 'urn:mavedb:00000068-b-1']"
   ]
  },
  {
   "cell_type": "code",
   "execution_count": 9,
   "id": "935e286b",
   "metadata": {},
   "outputs": [],
   "source": [
    "normed_data = dict()\n",
    "for dms_id, input_data in annot_data.items():\n",
    "    # Theses data are specially normalised as shown below.\n",
    "    if dms_id in ['urn:mavedb:00000105-a-1', 'urn:mavedb:00000054-a-1']: \n",
    "        continue\n",
    "        \n",
    "    # Set wildtype-like and nonsense-variant-like scores.\n",
    "    wt_score = mtool.get_dms_wiltype_like_score(input_data)\n",
    "    if np.isnan(wt_score):\n",
    "        wt_score = defined_wt_scores[dms_id]\n",
    "    if dms_id in positive_loss:\n",
    "        non_score = 'positive'\n",
    "    else:\n",
    "        non_score = 'negative'\n",
    "        \n",
    "    data = input_data.query(\"mut_type == 'missense'\").copy()\n",
    "    data = preproc.normalize_dms_score(data, wt_score, non_score)\n",
    "    normed_data[dms_id] = data"
   ]
  },
  {
   "cell_type": "code",
   "execution_count": 10,
   "id": "943b854f",
   "metadata": {},
   "outputs": [],
   "source": [
    "# In this dataset, the original scoring methods is not log-transformed but most other DMS data are.\n",
    "dms_id = 'urn:mavedb:00000105-a-1'\n",
    "input_data = annot_data[dms_id]\n",
    "\n",
    "data = input_data.query(\"mut_type == 'missense'\").copy()\n",
    "data['score'] = np.log(data['score'])  # log-transformation.\n",
    "wt_score = 0  # Indicated by score calculation (original: 1, log-transformed: 0).\n",
    "non_score = 'negative'\n",
    "data = preproc.normalize_dms_score(data, wt_score, non_score)\n",
    "normed_data[dms_id] = data"
   ]
  },
  {
   "cell_type": "code",
   "execution_count": 11,
   "id": "a9be1c2f",
   "metadata": {},
   "outputs": [],
   "source": [
    "# Wildtype score of this data is questionable. Corrected score is confirmed from the paper.\n",
    "dms_id = 'urn:mavedb:00000054-a-1'\n",
    "input_data = annot_data[dms_id]\n",
    "\n",
    "wt_score = 0  # Corrected.\n",
    "non_score = 'negative'\n",
    "\n",
    "data = input_data.query(\"mut_type == 'missense'\").copy()\n",
    "data = preproc.normalize_dms_score(data, wt_score, non_score)\n",
    "normed_data[dms_id] = data"
   ]
  },
  {
   "cell_type": "markdown",
   "id": "ca1cb7d7",
   "metadata": {},
   "source": [
    "## Position mapping"
   ]
  },
  {
   "cell_type": "markdown",
   "id": "2f654ac9",
   "metadata": {},
   "source": [
    "We then map each DMS residue to the reference protein sequence from UniProt.\n",
    "\n",
    "To do this, we first curated the `UniProtKB ID` for each DMS target and added the rational `offset` between DMS variant position and reference sequence in `data_info`.\n",
    "\n",
    "Residues conform with the reference sequence will be kept, adding its position in the reference sequence. Otherwise the residue will be removed with notice."
   ]
  },
  {
   "cell_type": "code",
   "execution_count": 12,
   "id": "5ac437f3",
   "metadata": {},
   "outputs": [],
   "source": [
    "def get_uniprot_seq(uniprot_id):\n",
    "    \"\"\"Read UniProt sequence as pandas.Series format from reference folder.\n",
    "    \"\"\"\n",
    "    with open(f\"../data/reference/{uniprot_id}.fasta\", 'r') as file:\n",
    "        str_seq = file.read()\n",
    "    str_seq = ''.join(str_seq.split('\\n')[1:-1])\n",
    "    # Adding 1 to make the positions start with 1 rather than 0.\n",
    "    pro_seq = pd.Series(dict(zip(np.arange(len(str_seq))+1, str_seq)))\n",
    "    return pro_seq\n",
    "\n",
    "\n",
    "def get_uniprot_matched_dms_residues(dms_id, dms_seq, pro_seq):\n",
    "    \"\"\"\n",
    "    The function reports mismatched DMS residues compared to the UniProt sequence. Then it returns \n",
    "    the matched DMS residues in a list.\n",
    "    \"\"\"\n",
    "    matched_dms_seq = dms_seq.copy()  # This is for visualizing the final matched sequence.\n",
    "    matched_res = []\n",
    "    # Go through each DMS residue to check with reference sequence.\n",
    "    for i, upos_res in enumerate(matched_dms_seq.index):\n",
    "        if matched_dms_seq[upos_res] != pro_seq[upos_res]:\n",
    "            print(f\"Delete: Residue {upos_res}. DMS wildtype: {dms_seq[upos_res]}. UniProt wildtype: {pro_seq[upos_res]}\")\n",
    "            matched_dms_seq[upos_res] = '-'\n",
    "        else:\n",
    "            matched_res.append(upos_res)\n",
    "    print('Matcheded DMS seq.: >',''.join(matched_dms_seq))\n",
    "    return matched_res"
   ]
  },
  {
   "cell_type": "code",
   "execution_count": 13,
   "id": "c7fc947d",
   "metadata": {
    "scrolled": true
   },
   "outputs": [
    {
     "name": "stdout",
     "output_type": "stream",
     "text": [
      "MISMATCH FOUND IN urn:mavedb:00000003-a-2:\n",
      "Delete: Residue 175. DMS wildtype: R. UniProt wildtype: K\n",
      "Matcheded DMS seq.: > DLSALRVEEVQNVINAMQKILECPICLELIKEPVSTKCDHIFCKFCMLKLLNQKKGPSQCPLCKNDITKRSLQESTRFSQLVEELLKIICAFQLDTGLEYANSYNFAKKENNSPHLKDEVSIIQSMGYRNRAKRLLQSEPENPSLQETSLSVQLSNLGTVRTLRTKQRIQPQ-TSVIELGSDSSEDTVNKATYCSVGDQELLQITPQGTRDEISLDSAKKAACEFSETDVTNTEHHQPSNNDLNTTEKRAAERHPEKYQGSSVSNLHVEPCGTNTHASSLQHENSSLLLTKDRMNVEKAEF\n",
      "********************************************************************************\n",
      "MISMATCH FOUND IN urn:mavedb:00000003-b-2:\n",
      "Delete: Residue 175. DMS wildtype: R. UniProt wildtype: K\n",
      "Matcheded DMS seq.: > DLSALRVEEVQNVINAMQKILECPICLELIKEPVSTKCDHIFCKFCMLKLLNQKKGPSQCPLCKNDITKRSLQESTRFSQLVEELLKIICAFQLDTGLEYANSYNFAKKENNSPEHLKDEVSIIQSMGYRNRAKRLLQSEPENPSLQETSLSVQLSNLGTVRTLRTKQRIQPQ-TSVYIELGSDSSEDTVNKATYCSVGDQELLQITPQGTRDEISLDSAKKAACEFSETDVTNTEHHQPSNNDLNTTEKRAAERHPEKYQGSSVSNLHVEPCGTNTHASSLQHENSSLLLTKDRMNVEKAEF\n",
      "********************************************************************************\n",
      "MISMATCH FOUND IN urn:mavedb:00000051-a-1:\n",
      "Delete: Residue 356. DMS wildtype: T. UniProt wildtype: R\n",
      "Delete: Residue 357. DMS wildtype: S. UniProt wildtype: R\n",
      "Delete: Residue 358. DMS wildtype: G. UniProt wildtype: L\n",
      "Delete: Residue 359. DMS wildtype: G. UniProt wildtype: K\n",
      "Matcheded DMS seq.: > PLFIPVAVMVTAFSGLAFIIWLA----\n",
      "********************************************************************************\n",
      "MISMATCH FOUND IN urn:mavedb:00000062-b-1:\n",
      "Delete: Residue 331. DMS wildtype: V. UniProt wildtype: I\n",
      "Matcheded DMS seq.: > LIWQKLTLGVTRMEGELGGVNWERRTRGREARAANCRDQMTPCDPESDHIRDFMNQTIVITTSALAR-NRSCDMPAEYIDTVFLPEMRAKGRETNLDVPP\n",
      "********************************************************************************\n",
      "MISMATCH FOUND IN urn:mavedb:00000077-a-1:\n",
      "Delete: Residue 179. DMS wildtype: M. UniProt wildtype: V\n",
      "Delete: Residue 180. DMS wildtype: A. UniProt wildtype: P\n",
      "Matcheded DMS seq.: > --SDGVVVEIGKVTGSVGTTVEIPVYFRGVPSKGIANCDFVFRYDPNVLEIIGIDPGDIIVDPNPTKSFDTAIYPDRKIIVFLFAEDSGTGAYAITKDGVFAKIRATVKSSAPGYITFDEVGGFADNDLVEQKVSFIDGGVNVGNATPTKGATPTNTATPTK\n",
      "********************************************************************************\n",
      "MISMATCH FOUND IN urn:mavedb:00000077-b-1:\n",
      "Delete: Residue 276. DMS wildtype: M. UniProt wildtype: I\n",
      "Matcheded DMS seq.: > -TVLPKDIPGDSLKVTVGTANGKPGDTVTVPVTFADVAKMKNVGTCNFYLGYDASLLEVVSVDAGPIVKNAAVNFSSSASNGTISFLFLDNTITDELITADGVFANIKFKLKSVTAKTTTPVTFKDGGAFGDGTMSKIASVTKTNGSVTIDP\n",
      "********************************************************************************\n",
      "MISMATCH FOUND IN urn:mavedb:00000036-a-1-exp:\n",
      "Delete: Residue 202. DMS wildtype: P. UniProt wildtype: S\n",
      "Matcheded DMS seq.: > DALKSAGRALIRSPSLAKQSWGGGGRHRKLPENWTDTRETLLEGMLFSLKYLGMTLVEQPKGEELSAAAIKRIVATAKASGKKLQKVTLKVSPRGIILTDNLTNQLIENVSIYRISYCTADKMHDKVFAYIAQSQHNQSLECHAFLCTKRKMAQAVTLTVAQAFKVAFEFWQVSKEEKEKRDKASQEGGDVLGARQDCTP-LKSLVATGNLLDLEETAKAPLSTVSANTTNMDEVPRPQALSGSSVVWELDDGLDEAFSRLAQSRTNPQVLDTGLTAQDMHYAQCLSPVDWDKPDSSGTEQDDLFS\n",
      "********************************************************************************\n",
      "MISMATCH FOUND IN urn:mavedb:00000036-a-2-exp:\n",
      "Delete: Residue 202. DMS wildtype: P. UniProt wildtype: S\n",
      "Matcheded DMS seq.: > DALKSAGRALIRSPSLAKQSWGGGGRHRKLPENWTDTRETLLEGMLFSLKYLGMTLVEQPKGEELSAAAIKRIVATAKASGKKLQKVTLKVSPRGIILTDNLTNQLIENVSIYRISYCTADKMHDKVFAYIAQSQHNQSLECHAFLCTKRKMAQAVTLTVAQAFKVAFEFWQVSKEEKEKRDKASQEGGDVLGARQDCTP-LKSLVATGNLLDLEETAKAPLSTVSANTTNMDEVPRPQALSGSSVVWELDDGLDEAFSRLAQSRTNPQVLDTGLTAQDMHYAQCLSPVDWDKPDSSGTEQDDLFS\n",
      "********************************************************************************\n",
      "MISMATCH FOUND IN urn:mavedb:00000068-b-1:\n",
      "Delete: Residue 72. DMS wildtype: R. UniProt wildtype: P\n",
      "Matcheded DMS seq.: > MEEPQSDPSVEPPLSQETFSDLWKLLPENNVLSPLPSQAMDDLMLSPDDIEQWFTEDPGPDEAPRMPEAAP-VAPAPAAPTPAAPAPAPSWPLSSSVPSQKTYQGSYGFRLGFLHSGTAKSVTCTYSPALNKMFCQLAKTCPVQLWVDSTPPPGTRVRAMAIYKQSQHMTEVVRRCPHHERCSDSDGLAPPQHLIRVEGNLRVEYLDDRNTFRHSVVVPYEPPEVGSDCTTIHYNYMCNSSCMGGMNRRPILTIITLEDSSGNLLGRNSFEVRVCACPGRDRRTEEENLRKKGEPHHELPPGSTKRALPNNTSSSPQPKKKPLDGEYFTLQIRGRERFEMFRELNEALELKDAQAGKEPGGSRAHSSHLKSKKGQSTSRHKKLMFKTEGPDSD\n",
      "********************************************************************************\n",
      "MISMATCH FOUND IN urn:mavedb:00000068-c-1:\n",
      "Delete: Residue 72. DMS wildtype: R. UniProt wildtype: P\n",
      "Matcheded DMS seq.: > MEEPQSDPSVEPPLSQETFSDLWKLLPENNVLSPLPSQAMDDLMLSPDDIEQWFTEDPGPDEAPRMPEAAP-VAPAPAAPTPAAPAPAPSWPLSSSVPSQKTYQGSYGFRLGFLHSGTAKSVTCTYSPALNKMFCQLAKTCPVQLWVDSTPPPGTRVRAMAIYKQSQHMTEVVRRCPHHERCSDSDGLAPPQHLIRVEGNLRVEYLDDRNTFRHSVVVPYEPPEVGSDCTTIHYNYMCNSSCMGGMNRRPILTIITLEDSSGNLLGRNSFEVRVCACPGRDRRTEEENLRKKGEPHHELPPGSTKRALPNNTSSSPQPKKKPLDGEYFTLQIRGRERFEMFRELNEALELKDAQAGKEPGGSRAHSSHLKSKKGQSTSRHKKLMFKTEGPDSD\n",
      "********************************************************************************\n",
      "MISMATCH FOUND IN urn:mavedb:00000001-d-1:\n",
      "Delete: Residue 193. DMS wildtype: S. UniProt wildtype: M\n",
      "Matcheded DMS seq.: > EHAFTPLEPLLSTGNLKYCLVILNQPLDNYFRHLWNKALLRACADGGANRLYDITEGERESFLPEFINGDFDSIRPEVREYYATKGCELISTPDQDHTDFTKCLKMLQKKIEEKDLKVDVIVTLGGLAGRFDQIMASVNTLFQATHITPFPIIIIQEESLIYLLQPGKHRLHVDTGMEGDWCGLIPVGQPC-QVTTTGLKWNLTNDVLAFGTLVSTSNTYDGSGVVTVETDHPLLWTMAIKS\n",
      "********************************************************************************\n",
      "MISMATCH FOUND IN urn:mavedb:00000080-a-2:\n",
      "Delete: Residue 64. DMS wildtype: L. UniProt wildtype: F\n",
      "Matcheded DMS seq.: > KGEELFTGVVPILVELDGDVNGHKFSVSGEGEGDATYGKLTLKFICTTGKLPVPWPTLVTT-SYGVQCFSRYPDHMKQHDFFKSAMPEGYVQERTIFFKDDGNYKTRAEVKFEGDTNRIELKGIDFKEDGNILGHKLEYNYNSHNVYIMADKQKNGIKVNFKIRHNIEDGSVQLADHYQQNTPIGDGPVLLPDNHYLSTQSALSKDPNEKRDHMVLLEFVTAAGITHGMDELY\n",
      "********************************************************************************\n",
      "MISMATCH FOUND IN urn:mavedb:00000105-a-1:\n",
      "Delete: Residue 228. DMS wildtype: Q. UniProt wildtype: T\n",
      "Matcheded DMS seq.: > -YKLILNGKTLKGETTTEAVDAATAEKVFKQYANDNGVDGEWTYDDATKTFTVTE\n",
      "********************************************************************************\n"
     ]
    }
   ],
   "source": [
    "unip_info = data_info.groupby('dms_id')[['uniprot_id', 'offset']].first()\n",
    "\n",
    "mapped_data = dict()\n",
    "for dms_id, input_data in normed_data.items():\n",
    "    # Set UniProt positions.\n",
    "    unip = unip_info.loc[dms_id]['uniprot_id']\n",
    "    offset = int(unip_info.loc[dms_id]['offset'])\n",
    "    input_data['uniprot_id'] = unip\n",
    "    input_data['u_pos'] = input_data['position'].astype(int) + offset\n",
    "    \n",
    "    # Check if DMS indicated protein sequence conforms with UniProt sequence.\n",
    "    pro_seq = get_uniprot_seq(unip)\n",
    "    dms_seq = input_data.groupby('u_pos')['aa1'].first()\n",
    "    if any(dms_seq != pro_seq.loc[dms_seq.index]):\n",
    "        print(f\"MISMATCH FOUND IN {dms_id}:\")\n",
    "        matched_res = get_uniprot_matched_dms_residues(dms_id, dms_seq, pro_seq)\n",
    "        input_data = input_data[input_data['u_pos'].isin(matched_res)]  # Drop wildtype mismatched residues.\n",
    "        print('*'*80)\n",
    "    mapped_data[dms_id] = input_data"
   ]
  },
  {
   "cell_type": "markdown",
   "id": "c8cd766a",
   "metadata": {},
   "source": [
    "In most cases there are only one mismatched residue for each DMS dataset which may related to polymorphism.\n",
    "\n",
    "Only two DMS datasets show more than one mismatched residues which are all at the start or end of the scanned sequences, that may related to experimental setup."
   ]
  },
  {
   "cell_type": "markdown",
   "id": "b95595b9",
   "metadata": {},
   "source": [
    "## Add DeMaSk features"
   ]
  },
  {
   "cell_type": "markdown",
   "id": "f389a0fb",
   "metadata": {},
   "source": [
    "Raw feature values were downloaded from [DeMaSk website](https://demask.princeton.edu/query/), using whole protein sequence."
   ]
  },
  {
   "cell_type": "code",
   "execution_count": 14,
   "id": "f4775b15",
   "metadata": {
    "scrolled": true
   },
   "outputs": [],
   "source": [
    "demask_dms = dict()\n",
    "for dms_id, input_data in mapped_data.items():\n",
    "    unip = input_data.iloc[0]['uniprot_id']\n",
    "    feat_data = pd.read_csv(f\"../data/raw/protein_feature/demask/{unip}.txt\")\n",
    "    featured_data = pd.merge(input_data, feat_data, left_on=['u_pos', 'aa1', 'aa2'], \n",
    "                             right_on=['pos', 'WT', 'var'], how='left', \n",
    "                             suffixes=['', '_online_pred'])\n",
    "    featured_data['sub_type'] = featured_data['aa1'] + featured_data['aa2']\n",
    "    demask_dms[dms_id] = featured_data[['dms_id', 'position', 'aa2', 'aa1', 'sub_type', 'score', \n",
    "                                        'u_pos', 'uniprot_id', 'entropy', 'log2f_var', 'matrix']]\n",
    "demask_dms = pd.concat(demask_dms.values(), ignore_index=True)\n",
    "demask_dms = demask_dms.astype({'position': int})\n",
    "#demask_dms.to_csv('../data/normalized/dms_DeMaSk_features_221024.csv')"
   ]
  },
  {
   "cell_type": "markdown",
   "id": "a770676e",
   "metadata": {},
   "source": [
    "## Add Envision features"
   ]
  },
  {
   "cell_type": "markdown",
   "id": "98d6844b",
   "metadata": {},
   "source": [
    "Features used in Envision were downloaded from its [online toolkit](https://envision.gs.washington.edu/shiny/envision_new/). Protein data were excluded if their feature values were not available. "
   ]
  },
  {
   "cell_type": "code",
   "execution_count": 15,
   "id": "63eaf158",
   "metadata": {},
   "outputs": [],
   "source": [
    "envision_feature_map = {\n",
    "    \"AA1\": \"aa1\",\n",
    "    \"AA2\": \"aa2\",\n",
    "    \"WT_Mut\": \"wt_mut\",\n",
    "    \"AA1_polarity\": \"aa1_polarity\",\n",
    "    \"AA2_polarity\": \"aa2_polarity\",\n",
    "    \"AA1_pI\": \"aa1_PI\",\n",
    "    \"AA2_pI\": \"aa2_PI\",\n",
    "    \"AA1_weight\": \"aa1_weight\",\n",
    "    \"AA2_weight\": \"aa2_weight\",\n",
    "    \"AA1_volume\": \"aa1vol\",\n",
    "    \"AA2_volume\": \"aa2vol\",\n",
    "    \"AA1_PSIC\": \"aa1_psic\",\n",
    "    \"AA2_PSIC\": \"aa2_psic\",\n",
    "    \"delta_PSIC\": \"delta_psic\",\n",
    "    \"solvent_accessibility\": \"accessibility\",\n",
    "    \"SecondaryStructure\": \"dssp_sec_str\",\n",
    "    \"phi_psi_angles\": \"phi_psi_reg\",\n",
    "    \"Uniprot\": \"uniprot_id\",\n",
    "    \"position\": \"u_pos\",\n",
    "}"
   ]
  },
  {
   "cell_type": "code",
   "execution_count": 17,
   "id": "25cac18a",
   "metadata": {
    "scrolled": true
   },
   "outputs": [
    {
     "name": "stdout",
     "output_type": "stream",
     "text": [
      "urn:mavedb:00000001-c-1 (P0DP23) has no Envision feature and will be removed.\n",
      "urn:mavedb:00000077-a-1 (Q06851) has no Envision feature and will be removed.\n",
      "urn:mavedb:00000077-b-1 (B8I7V0) has no Envision feature and will be removed.\n",
      "urn:mavedb:00000063-a-1 (P0ABQ4) has no Envision feature and will be removed.\n",
      "urn:mavedb:00000063-b-1 (P0ABQ4) has no Envision feature and will be removed.\n",
      "urn:mavedb:00000090-a-1 (P31016) has no Envision feature and will be removed.\n",
      "urn:mavedb:00000090-b-1 (P31016) has no Envision feature and will be removed.\n",
      "urn:mavedb:00000076-a-1 (P40515) has no Envision feature and will be removed.\n",
      "urn:mavedb:00000076-b-1 (P40515) has no Envision feature and will be removed.\n",
      "urn:mavedb:00000076-c-1 (P40515) has no Envision feature and will be removed.\n",
      "urn:mavedb:00000076-e-1 (P40515) has no Envision feature and will be removed.\n",
      "urn:mavedb:00000011-a-1 (P02829) has no Envision feature and will be removed.\n",
      "urn:mavedb:00000039-a-1 (P02829) has no Envision feature and will be removed.\n",
      "urn:mavedb:00000039-a-2 (P02829) has no Envision feature and will be removed.\n",
      "urn:mavedb:00000039-a-3 (P02829) has no Envision feature and will be removed.\n",
      "urn:mavedb:00000039-a-4 (P02829) has no Envision feature and will be removed.\n",
      "urn:mavedb:00000039-a-5 (P02829) has no Envision feature and will be removed.\n",
      "urn:mavedb:00000039-a-6 (P02829) has no Envision feature and will be removed.\n",
      "urn:mavedb:00000039-a-7 (P02829) has no Envision feature and will be removed.\n",
      "urn:mavedb:00000040-a-1 (P02829) has no Envision feature and will be removed.\n",
      "urn:mavedb:00000040-a-2 (P02829) has no Envision feature and will be removed.\n",
      "urn:mavedb:00000040-a-3 (P02829) has no Envision feature and will be removed.\n",
      "urn:mavedb:00000040-a-4 (P02829) has no Envision feature and will be removed.\n",
      "urn:mavedb:00000074-a-1 (P02829) has no Envision feature and will be removed.\n",
      "urn:mavedb:00000064-a-1 (P02943) has no Envision feature and will be removed.\n",
      "urn:mavedb:00000064-b-1 (P02943) has no Envision feature and will be removed.\n",
      "urn:mavedb:00000079-a-1 (A0A3G4RHW3_ATRBE) has no Envision feature and will be removed.\n",
      "urn:mavedb:00000070-a-2 (P62593) has no Envision feature and will be removed.\n",
      "urn:mavedb:00000086-a-1 (P62593) has no Envision feature and will be removed.\n",
      "urn:mavedb:00000086-b-1 (P62593) has no Envision feature and will be removed.\n",
      "urn:mavedb:00000086-c-1 (P62593) has no Envision feature and will be removed.\n",
      "urn:mavedb:00000086-d-1 (P62593) has no Envision feature and will be removed.\n",
      "urn:mavedb:00000086-e-1 (P62593) has no Envision feature and will be removed.\n",
      "urn:mavedb:00000086-f-1 (P62593) has no Envision feature and will be removed.\n",
      "urn:mavedb:00000086-g-1 (P62593) has no Envision feature and will be removed.\n",
      "urn:mavedb:00000080-a-2 (P42212) has no Envision feature and will be removed.\n",
      "urn:mavedb:00000105-a-1 (P06654) has no Envision feature and will be removed.\n"
     ]
    }
   ],
   "source": [
    "envision_dms = dict()\n",
    "for dms_id, input_data in mapped_data.items():\n",
    "    input_data = input_data[['dms_id', 'position', 'aa2', 'aa1', 'score', 'u_pos', 'uniprot_id']].copy()\n",
    "    unip = input_data.iloc[0]['uniprot_id']\n",
    "    \n",
    "    try:\n",
    "        feat_data = pd.read_csv(f\"../data/raw/protein_feature/envision/{unip}_envisionData.csv\", \n",
    "                                index_col=0, na_values=[''], keep_default_na=False, low_memory=False)\n",
    "    except FileNotFoundError:\n",
    "        print(f\"{dms_id} ({unip}) has no Envision feature and will be removed.\")\n",
    "        continue\n",
    "    feat_data = feat_data.rename(columns=envision_feature_map)\n",
    "    # Drop not used columns.\n",
    "    feat_data = feat_data.drop(columns=['X1', 'id2', 'Variant', 'evolutionary_coupling_prop', \n",
    "                                        'evolutionary_coupling_avg_norm', 'Envision_predictions'])\n",
    "    feat_data = feat_data.astype({\"u_pos\": int})\n",
    "    feat_data['wt_mut'] = feat_data['aa1'] + feat_data['aa2']\n",
    "    \n",
    "    featured_data = pd.merge(input_data, feat_data, left_on=['uniprot_id', 'u_pos', 'aa1', 'aa2'], \n",
    "                             right_on=['uniprot_id', 'u_pos', 'aa1', 'aa2'], how='left')\n",
    "    envision_dms[dms_id] = featured_data\n",
    "    \n",
    "envision_dms = pd.concat(envision_dms.values(), ignore_index=True)\n",
    "envision_dms = envision_dms.astype({'position': int})\n",
    "#envision_dms.to_csv('../data/normalized/dms_Envision_features_221024.csv')"
   ]
  },
  {
   "cell_type": "markdown",
   "id": "ccec23fd",
   "metadata": {},
   "source": [
    "# AS data"
   ]
  },
  {
   "cell_type": "markdown",
   "id": "a4c7a2a1",
   "metadata": {},
   "source": [
    "We searched for alanine scanning studies with key phrase `(alanine scanning) OR (alanine scan)` together with protein names or identifiers with DMS data available.\n",
    "\n",
    "Appropriate AS data were collected and curated if:\n",
    "* they match the target protein\n",
    "* they are in numeric format\n",
    "* their wildtype-like and nonsense-like scores are available (tested or can be identified)\n",
    "* they contain single alanine substitutions\n",
    "* they are experimental rather than computational scores\n",
    "\n",
    "Raw published values are curated in the `score` column for input data. For results presented in bar plots, we measured and stored the length of each bar. For results presented in Western blot, we used ImageJ to quantify the intensity for each entry. Residue positions are mapped and checked to UniProt sequences.\n",
    "\n",
    "AS scores are normalized in a same way as DMS, except that the nonsense-like scores are defined from the experiment directly (more details in `note` column)."
   ]
  },
  {
   "cell_type": "code",
   "execution_count": 18,
   "id": "07f45c96",
   "metadata": {},
   "outputs": [],
   "source": [
    "root = '../data/raw/low-throughput_data/'\n",
    "norm_as = []\n",
    "for file_name in os.listdir(root):\n",
    "    if file_name == '.DS_Store':\n",
    "        continue\n",
    "    ascan_id = file_name[:-4]\n",
    "    as_data = pd.read_csv(f\"{root}{file_name}\", index_col=0)\n",
    "    \n",
    "    nons = float(as_data.loc[as_data['aa1'] == 'non', 'score'])\n",
    "    wts = float(as_data.loc[as_data['aa1'] == 'wt', 'score'])\n",
    "    as_data = as_data[as_data['aa2'] == 'A']\n",
    "    as_data = as_data.astype({'u_pos': int, 'position': int}).rename(columns={'score': 'AS_score'})\n",
    "    as_data['AS_score'] = (as_data['AS_score'] - nons) / (wts - nons)  # Normalize.\n",
    "    norm_as.append(as_data)\n",
    "    \n",
    "norm_as = pd.concat(norm_as, ignore_index=True)\n",
    "#norm_as.to_csv('../data/normalized/as_data_221024.csv')"
   ]
  },
  {
   "cell_type": "markdown",
   "id": "a9926157",
   "metadata": {},
   "source": [
    "# DMS-AS correlation"
   ]
  },
  {
   "cell_type": "markdown",
   "id": "467c9e6d",
   "metadata": {},
   "source": [
    "We then calculate the Spearman's correlation between each DMS-AS pair.  \n",
    "\n",
    "We first merge (map) each DMS and AS data by protein positions, and add information about the DMS-AS pair.\n",
    "\n",
    "Then the correlation and regularized correlation values are calculate between __AS scores__ and __DMS scores of alanine substitutions__."
   ]
  },
  {
   "cell_type": "code",
   "execution_count": 19,
   "id": "061f791c",
   "metadata": {},
   "outputs": [],
   "source": [
    "# Merge in a cartesian product way.\n",
    "dms_all_as = pd.merge(demask_dms, norm_as[['uniprot_id', 'u_pos', 'Ascan_id', 'AS_score']], \n",
    "                      on=['uniprot_id', 'u_pos'], how='left')\n",
    "\n",
    "# Identifier for each DMS+AS combined dataset.\n",
    "dms_all_as['dmsa_id'] = dms_all_as['dms_id'] + '@' + dms_all_as['Ascan_id'].astype(str)\n",
    "dms_all_as['Ascan_score_avail'] = ~dms_all_as['AS_score'].isna()"
   ]
  },
  {
   "cell_type": "code",
   "execution_count": 33,
   "id": "ceb23f00",
   "metadata": {},
   "outputs": [],
   "source": [
    "corr_stat = []\n",
    "for dmsa, df in dms_all_as.groupby('dmsa_id'):\n",
    "    if dmsa[-4:] == '@nan':  # No AS data available.\n",
    "        continue\n",
    "        \n",
    "    df = df[df['aa2'] == 'A']\n",
    "    row = dict()\n",
    "    row['dmsa_id'] = dmsa\n",
    "    row['n_ala'] = len(df)\n",
    "    corr = spearmanr(df['score'], df['AS_score'])[0]\n",
    "    if np.isnan(corr):\n",
    "        # Impute missing value by 0 which is caused by only one or no alanine residue available.\n",
    "        row['ala_score_correlation'] = 0.\n",
    "    else:\n",
    "        row['ala_score_correlation'] = corr\n",
    "    row['regularized_correlation'] = (row['n_ala']-1) / (row['n_ala']+1) * row['ala_score_correlation']\n",
    "    corr_stat.append(row)\n",
    "    \n",
    "# Right merge: some DMS and AS data have no overlapping residues (e.g.: urn:mavedb:00000003-a-2@brca1_yeast_growth),\n",
    "# that should be removed.\n",
    "data_corr = pd.merge(data_info, pd.DataFrame(corr_stat), on='dmsa_id', how='right', validate='1:1')\n",
    "data_corr = data_corr.sort_values(['protein_name', 'dmsa_id']).reset_index(drop=True)\n",
    "#data_corr.to_csv('../data/data_info/dms_as_info_221024.csv')"
   ]
  },
  {
   "cell_type": "code",
   "execution_count": null,
   "id": "05c0fc9a",
   "metadata": {},
   "outputs": [],
   "source": []
  }
 ],
 "metadata": {
  "kernelspec": {
   "display_name": "Python 3",
   "language": "python",
   "name": "python3"
  },
  "language_info": {
   "codemirror_mode": {
    "name": "ipython",
    "version": 3
   },
   "file_extension": ".py",
   "mimetype": "text/x-python",
   "name": "python",
   "nbconvert_exporter": "python",
   "pygments_lexer": "ipython3",
   "version": "3.6.13"
  },
  "toc": {
   "base_numbering": 1,
   "nav_menu": {},
   "number_sections": true,
   "sideBar": true,
   "skip_h1_title": false,
   "title_cell": "Table of Contents",
   "title_sidebar": "Contents",
   "toc_cell": false,
   "toc_position": {
    "height": "calc(100% - 180px)",
    "left": "10px",
    "top": "150px",
    "width": "349.5px"
   },
   "toc_section_display": true,
   "toc_window_display": true
  }
 },
 "nbformat": 4,
 "nbformat_minor": 5
}
