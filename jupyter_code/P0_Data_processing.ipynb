{
 "cells": [
  {
   "cell_type": "markdown",
   "id": "778fd7a2",
   "metadata": {},
   "source": [
    "__In this notebook, we collect, annotate and pre-process deep mutational scanning (DMS) and alanine scanning (AS) data for future analysis.__"
   ]
  },
  {
   "cell_type": "code",
   "execution_count": 2,
   "id": "6a5ac2fc",
   "metadata": {
    "scrolled": true
   },
   "outputs": [
    {
     "name": "stderr",
     "output_type": "stream",
     "text": [
      "Duplicate key in file '/Users/fu.j/.matplotlib/matplotlibrc', line 2 ('backend: TkAgg')\n"
     ]
    }
   ],
   "source": [
    "import os\n",
    "from scipy.stats import spearmanr\n",
    "import numpy as np\n",
    "import pandas as pd\n",
    "import matplotlib.pyplot as plt\n",
    "import seaborn as sns\n",
    "\n",
    "import sys\n",
    "sys.path.append('../')\n",
    "import mavedb_tool as mtool\n",
    "import preproc as preproc"
   ]
  },
  {
   "cell_type": "code",
   "execution_count": 57,
   "id": "cf60b263",
   "metadata": {
    "scrolled": true
   },
   "outputs": [],
   "source": [
    "data_info = pd.read_csv('../data/data_info/data_compatibility_221024.csv', index_col=0)"
   ]
  },
  {
   "cell_type": "markdown",
   "id": "65cb5cb3",
   "metadata": {},
   "source": [
    "# DMS data"
   ]
  },
  {
   "cell_type": "markdown",
   "id": "6eac73d3",
   "metadata": {},
   "source": [
    "## Download"
   ]
  },
  {
   "cell_type": "markdown",
   "id": "df0d707e",
   "metadata": {},
   "source": [
    "We download all available DMS data from [MaveDB](https://www.mavedb.org/) by the time this study begins."
   ]
  },
  {
   "cell_type": "code",
   "execution_count": 168,
   "id": "c7477904",
   "metadata": {},
   "outputs": [
    {
     "name": "stdout",
     "output_type": "stream",
     "text": [
      "Downloading: urn:mavedb:00000081-a-2 from MaveDB.\n",
      "Downloading: urn:mavedb:00000105-a-1 from MaveDB.\n",
      "Downloading: urn:mavedb:00000106-c-1 from MaveDB.\n"
     ]
    }
   ],
   "source": [
    "for urn_id in ['urn:mavedb:00000081-a-2', 'urn:mavedb:00000105-a-1', 'urn:mavedb:00000106-c-1']:\n",
    "    #mtool.download_mavedb_score(urn_id, '../data/raw/mavedb_data/')"
   ]
  },
  {
   "cell_type": "code",
   "execution_count": 38,
   "id": "cc227a17",
   "metadata": {
    "scrolled": true
   },
   "outputs": [
    {
     "name": "stdout",
     "output_type": "stream",
     "text": [
      "Downloading: urn:mavedb:00000069-a-1 from MaveDB.\n",
      "Downloading: urn:mavedb:00000058-a-1 from MaveDB.\n",
      "Downloading: urn:mavedb:00000003-a-2 from MaveDB.\n",
      "Downloading: urn:mavedb:00000003-b-2 from MaveDB.\n",
      "Downloading: urn:mavedb:00000097-0-1 from MaveDB.\n",
      "Downloading: urn:mavedb:00000001-c-1 from MaveDB.\n",
      "Downloading: urn:mavedb:00000005-a-5 from MaveDB.\n",
      "Downloading: urn:mavedb:00000005-a-6 from MaveDB.\n",
      "Downloading: urn:mavedb:00000047-a-1 from MaveDB.\n",
      "Downloading: urn:mavedb:00000047-b-1 from MaveDB.\n",
      "Downloading: urn:mavedb:00000047-c-1 from MaveDB.\n",
      "Downloading: urn:mavedb:00000046-a-1 from MaveDB.\n",
      "Downloading: urn:mavedb:00000051-a-1 from MaveDB.\n",
      "Downloading: urn:mavedb:00000048-a-1 from MaveDB.\n",
      "Downloading: urn:mavedb:00000048-b-1 from MaveDB.\n",
      "Downloading: urn:mavedb:00000048-c-1 from MaveDB.\n",
      "Downloading: urn:mavedb:00000062-b-1 from MaveDB.\n",
      "Downloading: urn:mavedb:00000062-a-1 from MaveDB.\n",
      "Downloading: urn:mavedb:00000077-a-1 from MaveDB.\n",
      "Downloading: urn:mavedb:00000077-b-1 from MaveDB.\n",
      "Downloading: urn:mavedb:00000063-a-1 from MaveDB.\n",
      "Downloading: urn:mavedb:00000063-b-1 from MaveDB.\n",
      "Downloading: urn:mavedb:00000053-a-2 from MaveDB.\n",
      "Downloading: urn:mavedb:00000090-a-1 from MaveDB.\n",
      "Downloading: urn:mavedb:00000090-b-1 from MaveDB.\n",
      "Downloading: urn:mavedb:00000051-b-1 from MaveDB.\n",
      "Downloading: urn:mavedb:00000076-a-1 from MaveDB.\n",
      "Downloading: urn:mavedb:00000076-b-1 from MaveDB.\n",
      "Downloading: urn:mavedb:00000076-c-1 from MaveDB.\n",
      "Downloading: urn:mavedb:00000076-e-1 from MaveDB.\n",
      "Downloading: urn:mavedb:00000012-a-1 from MaveDB.\n",
      "Downloading: urn:mavedb:00000012-a-2 from MaveDB.\n",
      "Downloading: urn:mavedb:00000012-a-3 from MaveDB.\n",
      "Downloading: urn:mavedb:00000012-a-4 from MaveDB.\n",
      "Downloading: urn:mavedb:00000012-a-5 from MaveDB.\n",
      "Downloading: urn:mavedb:00000012-a-6 from MaveDB.\n",
      "Downloading: urn:mavedb:00000052-a-1 from MaveDB.\n",
      "Downloading: urn:mavedb:00000052-b-1 from MaveDB.\n",
      "Downloading: urn:mavedb:00000066-a-1 from MaveDB.\n",
      "Downloading: urn:mavedb:00000051-c-1 from MaveDB.\n",
      "Downloading: urn:mavedb:00000035-a-1 from MaveDB.\n",
      "Downloading: urn:mavedb:00000035-a-2 from MaveDB.\n",
      "Downloading: urn:mavedb:00000035-a-3 from MaveDB.\n",
      "Downloading: urn:mavedb:00000011-a-1 from MaveDB.\n",
      "Downloading: urn:mavedb:00000039-a-1 from MaveDB.\n",
      "Downloading: urn:mavedb:00000039-a-2 from MaveDB.\n",
      "Downloading: urn:mavedb:00000039-a-3 from MaveDB.\n",
      "Downloading: urn:mavedb:00000039-a-4 from MaveDB.\n",
      "Downloading: urn:mavedb:00000039-a-5 from MaveDB.\n",
      "Downloading: urn:mavedb:00000039-a-6 from MaveDB.\n",
      "Downloading: urn:mavedb:00000039-a-7 from MaveDB.\n",
      "Downloading: urn:mavedb:00000040-a-1 from MaveDB.\n",
      "Downloading: urn:mavedb:00000040-a-2 from MaveDB.\n",
      "Downloading: urn:mavedb:00000040-a-3 from MaveDB.\n",
      "Downloading: urn:mavedb:00000040-a-4 from MaveDB.\n",
      "Downloading: urn:mavedb:00000074-a-1 from MaveDB.\n",
      "Downloading: urn:mavedb:00000036-a-1 from MaveDB.\n",
      "Downloading: urn:mavedb:00000036-a-2 from MaveDB.\n",
      "Downloading: urn:mavedb:00000064-a-1 from MaveDB.\n",
      "Downloading: urn:mavedb:00000064-b-1 from MaveDB.\n",
      "Downloading: urn:mavedb:00000043-a-1 from MaveDB.\n",
      "Downloading: urn:mavedb:00000049-a-1 from MaveDB.\n",
      "Downloading: urn:mavedb:00000049-a-4 from MaveDB.\n",
      "Downloading: urn:mavedb:00000049-a-6 from MaveDB.\n",
      "Downloading: urn:mavedb:00000049-a-7 from MaveDB.\n",
      "Downloading: urn:mavedb:00000065-a-1 from MaveDB.\n",
      "Downloading: urn:mavedb:00000055-a-1 from MaveDB.\n",
      "Downloading: urn:mavedb:00000055-b-1 from MaveDB.\n",
      "Downloading: urn:mavedb:00000010-a-1 from MaveDB.\n",
      "Downloading: urn:mavedb:00000013-a-1 from MaveDB.\n",
      "Downloading: urn:mavedb:00000054-a-1 from MaveDB.\n",
      "Downloading: urn:mavedb:00000079-a-1 from MaveDB.\n",
      "Downloading: urn:mavedb:00000061-a-1 from MaveDB.\n",
      "Downloading: urn:mavedb:00000061-b-1 from MaveDB.\n",
      "Downloading: urn:mavedb:00000061-c-1 from MaveDB.\n",
      "Downloading: urn:mavedb:00000061-d-1 from MaveDB.\n",
      "Downloading: urn:mavedb:00000061-e-1 from MaveDB.\n",
      "Downloading: urn:mavedb:00000061-f-1 from MaveDB.\n",
      "Downloading: urn:mavedb:00000061-g-1 from MaveDB.\n",
      "Downloading: urn:mavedb:00000061-h-1 from MaveDB.\n",
      "Downloading: urn:mavedb:00000061-i-1 from MaveDB.\n",
      "Downloading: urn:mavedb:00000057-a-1 from MaveDB.\n",
      "Downloading: urn:mavedb:00000057-b-1 from MaveDB.\n",
      "Downloading: urn:mavedb:00000057-c-1 from MaveDB.\n",
      "Downloading: urn:mavedb:00000045-a-1 from MaveDB.\n",
      "Downloading: urn:mavedb:00000045-b-1 from MaveDB.\n",
      "Downloading: urn:mavedb:00000045-c-1 from MaveDB.\n",
      "Downloading: urn:mavedb:00000045-d-1 from MaveDB.\n",
      "Downloading: urn:mavedb:00000045-e-1 from MaveDB.\n",
      "Downloading: urn:mavedb:00000045-f-1 from MaveDB.\n",
      "Downloading: urn:mavedb:00000045-g-1 from MaveDB.\n",
      "Downloading: urn:mavedb:00000045-h-1 from MaveDB.\n",
      "Downloading: urn:mavedb:00000045-i-1 from MaveDB.\n",
      "Downloading: urn:mavedb:00000045-j-1 from MaveDB.\n",
      "Downloading: urn:mavedb:00000045-k-1 from MaveDB.\n",
      "Downloading: urn:mavedb:00000045-l-1 from MaveDB.\n",
      "Downloading: urn:mavedb:00000041-a-1 from MaveDB.\n",
      "Downloading: urn:mavedb:00000041-b-1 from MaveDB.\n",
      "Downloading: urn:mavedb:00000001-b-2 from MaveDB.\n",
      "Downloading: urn:mavedb:00000060-a-1 from MaveDB.\n",
      "Downloading: urn:mavedb:00000060-a-2 from MaveDB.\n",
      "Downloading: urn:mavedb:00000067-a-1 from MaveDB.\n",
      "Downloading: urn:mavedb:00000070-a-2 from MaveDB.\n",
      "Downloading: urn:mavedb:00000086-a-1 from MaveDB.\n",
      "Downloading: urn:mavedb:00000086-b-1 from MaveDB.\n",
      "Downloading: urn:mavedb:00000086-c-1 from MaveDB.\n",
      "Downloading: urn:mavedb:00000086-d-1 from MaveDB.\n",
      "Downloading: urn:mavedb:00000086-e-1 from MaveDB.\n",
      "Downloading: urn:mavedb:00000086-f-1 from MaveDB.\n",
      "Downloading: urn:mavedb:00000086-g-1 from MaveDB.\n",
      "Downloading: urn:mavedb:00000059-a-1 from MaveDB.\n",
      "Downloading: urn:mavedb:00000068-b-1 from MaveDB.\n",
      "Downloading: urn:mavedb:00000068-c-1 from MaveDB.\n",
      "Downloading: urn:mavedb:00000001-d-1 from MaveDB.\n",
      "Downloading: urn:mavedb:00000013-b-1 from MaveDB.\n",
      "Downloading: urn:mavedb:00000001-a-2 from MaveDB.\n",
      "Downloading: urn:mavedb:00000001-a-3 from MaveDB.\n",
      "Downloading: urn:mavedb:00000004-a-1 from MaveDB.\n",
      "Downloading: urn:mavedb:00000037-a-1 from MaveDB.\n",
      "Downloading: urn:mavedb:00000038-a-1 from MaveDB.\n",
      "Downloading: urn:mavedb:00000038-b-1 from MaveDB.\n",
      "Downloading: urn:mavedb:00000038-b-2 from MaveDB.\n",
      "Downloading: urn:mavedb:00000078-a-1 from MaveDB.\n",
      "Downloading: urn:mavedb:00000078-b-1 from MaveDB.\n",
      "Downloading: urn:mavedb:00000002-a-2 from MaveDB.\n",
      "Downloading: urn:mavedb:00000080-a-2 from MaveDB.\n"
     ]
    }
   ],
   "source": [
    "for urn_id in data_info.dms_id.unique():\n",
    "    # Temporary, following data to be uploaded to MaveDB.\n",
    "    if urn_id[:3] != 'urn':\n",
    "        continue\n",
    "    # We are going to use score.exp column instead of score column for these datasets. Explained below.\n",
    "    if urn_id[-4:] == '-exp':\n",
    "        urn_id = urn_id[:-4]\n",
    "    #mtool.download_mavedb_score(urn_id, '../data/raw/mavedb_data/')"
   ]
  },
  {
   "cell_type": "markdown",
   "id": "d872ab6f",
   "metadata": {},
   "source": [
    "## Annotate"
   ]
  },
  {
   "cell_type": "markdown",
   "id": "5958f917",
   "metadata": {},
   "source": [
    "We further annotated the downloaded MaveDB data for the analysis of single amino acid variants (SAV).\n",
    "\n",
    "In this analysis, we only use __experimental DMS scores__ which are usually stored in the `score` column of MaveDB data. But some studies may report __computationally imputed/refined scores__ instead, and store the experimental ones in `exp.score`. So, we swapped these columns in these cases.\n",
    "\n",
    "For each variant entry:\n",
    "1. If it is a __single amino acid missense variant__, the wild-type amino acid, variant type amino acid and location of substitution will be recorded\n",
    "2. If it is a synonymous (or unchanged), nonsense or deletion variant, only the type (synonymous, ...) will be recorded\n",
    "3. For multi-variants, frameshift or other types of variants, no detailed information will be recorded"
   ]
  },
  {
   "cell_type": "code",
   "execution_count": 58,
   "id": "daee953e",
   "metadata": {
    "scrolled": true
   },
   "outputs": [],
   "source": [
    "annot_data = dict()\n",
    "for dms_id in data_info.dms_id.unique():\n",
    "    if dms_id[-4:] == '-exp':\n",
    "        urn_id = dms_id[:-4]\n",
    "        # We are going to use score.exp column instead of score column for these datasets.\n",
    "        mave_data = pd.read_csv(f\"../data/raw/mavedb_data/{urn_id}.csv\", header=4)\n",
    "        mave_data['score'] = mave_data['exp.score']\n",
    "        mave_data = mave_data.drop(columns='exp.score')\n",
    "    else:\n",
    "        urn_id = dms_id\n",
    "        mave_data = pd.read_csv(f\"../data/raw/mavedb_data/{urn_id}.csv\", header=4)\n",
    "        if urn_id == 'urn:mavedb:00000097-0-1':  # Special hgvs_pro format.\n",
    "            mave_data = mave_data[mave_data['hgvs_pro'].notna()]  # Remove non-coding variants.\n",
    "            mave_data['hgvs_pro'] = mave_data.hgvs_pro.str[12:]\n",
    "    \n",
    "    mave_data = mtool.clean_mavedb_scores(mave_data)\n",
    "    mave_data = mtool.annotate_mavedb_sav_data(mave_data)\n",
    "    mave_data['dms_id'] = dms_id\n",
    "    annot_data[dms_id] = mave_data"
   ]
  },
  {
   "cell_type": "markdown",
   "id": "b486de05",
   "metadata": {},
   "source": [
    "## Normalize"
   ]
  },
  {
   "cell_type": "markdown",
   "id": "15a141f2",
   "metadata": {},
   "source": [
    "We normalize each DMS dataset by the scores of wildtype-like (wildtype or synonymous) and nonsense-like variants. Only single amino acid missense variant will be kept after this process.\n",
    "\n",
    "__For wildtype-like scores__, we use the scores of synonymous variants in the data, if available. Otherwise, we referred to the paper, especially the method for score calculation, to identify the wildtype-like scores, as shown in the below cell.\n",
    "\n",
    "__For nonsense-like scores__, it is defined as the median DMS scores for the 1% missense variants with the strongest loss of function in each DMS dataset, which are usually lower in scores (indicated as `negative`). But in some cases, according to the paper, high DMS scores may represent loss of protein functions (indicated as `positive`). We listed these datasets with positive-losss below for a correct normalisation."
   ]
  },
  {
   "cell_type": "code",
   "execution_count": 59,
   "id": "67899e6e",
   "metadata": {},
   "outputs": [],
   "source": [
    "defined_wt_scores = {'urn:mavedb:00000004-a-1': 0,  # Indicated by score calculation.\n",
    "                     'urn:mavedb:00000010-a-1': 1,  # Defined by the paper.\n",
    "                     'urn:mavedb:00000012-a-1': 0,  # Indicated by score calculation.\n",
    "                     'urn:mavedb:00000012-a-2': 0,  # Indicated by score calculation.,\n",
    "                     'urn:mavedb:00000012-a-3': 0,  # Indicated by score calculation.,\n",
    "                     'urn:mavedb:00000012-a-4': 0,  # Indicated by score calculation.,\n",
    "                     'urn:mavedb:00000012-a-5': 0,  # Indicated by score calculation.,\n",
    "                     'urn:mavedb:00000012-a-6': 0,  # Indicated by score calculation.,\n",
    "                     'urn:mavedb:00000041-a-1': 0,  # Defined by the paper.\n",
    "                     'urn:mavedb:00000041-b-1': 0,  # Defined by the paper.\n",
    "                     'urn:mavedb:00000053-a-2': 0,  # Defined by the paper.\n",
    "                     'urn:mavedb:00000060-a-1': 0,  # Defined by the paper.\n",
    "                     'urn:mavedb:00000060-a-2': 0,  # Defined by the paper.\n",
    "                     'urn:mavedb:00000062-b-1': 0.7050428,  # Referred from urn:mavedb:00000062-a-1\n",
    "                     'urn:mavedb:00000077-b-1': 0,  # Indicated by score calculation.\n",
    "                     'urn:mavedb:00000079-a-1': 0,  # Indicated by score calculation.\n",
    "                     'urn:mavedb:00000086-a-1': 0,  # Defined by the paper.\n",
    "                     'urn:mavedb:00000086-b-1': 0,  # Defined by the paper.\n",
    "                     'urn:mavedb:00000086-c-1': 0,  # Defined by the paper.\n",
    "                     'urn:mavedb:00000086-d-1': 0,  # Defined by the paper.\n",
    "                     'urn:mavedb:00000086-e-1': 0,  # Defined by the paper.\n",
    "                     'urn:mavedb:00000086-f-1': 0,  # Defined by the paper.\n",
    "                     'urn:mavedb:00000086-g-1': 0,  # Defined by the paper.\n",
    "                     'urn:mavedb:00000081-a-2': 0,  # Indicated by score calculation.\n",
    "                     'tmp:UCrl0vQc6AQv4KH4': 1,  # Indicated by score calculation.\n",
    "                     }\n",
    "\n",
    "# Nonsense-like variants in the following DMS data have positive scores, either identified according \n",
    "# to assay setup or directly from scores of nonsense variants.\n",
    "positive_loss = ['urn:mavedb:00000041-a-1', 'urn:mavedb:00000041-b-1', 'urn:mavedb:00000045-a-1', \n",
    "                 'urn:mavedb:00000045-b-1', 'urn:mavedb:00000045-c-1', 'urn:mavedb:00000045-d-1', \n",
    "                 'urn:mavedb:00000045-e-1', 'urn:mavedb:00000045-f-1', 'urn:mavedb:00000045-g-1', \n",
    "                 'urn:mavedb:00000045-h-1', 'urn:mavedb:00000045-i-1', 'urn:mavedb:00000045-j-1', \n",
    "                 'urn:mavedb:00000045-k-1', 'urn:mavedb:00000045-l-1', 'urn:mavedb:00000051-a-1', \n",
    "                 'urn:mavedb:00000051-b-1', 'urn:mavedb:00000060-a-1', 'urn:mavedb:00000060-a-2', \n",
    "                 'urn:mavedb:00000076-a-1', 'urn:mavedb:00000076-b-1', 'urn:mavedb:00000076-c-1', \n",
    "                 'urn:mavedb:00000076-e-1', 'urn:mavedb:00000051-c-1', 'urn:mavedb:00000058-a-1', \n",
    "                 'urn:mavedb:00000059-a-1', 'urn:mavedb:00000068-b-1']"
   ]
  },
  {
   "cell_type": "code",
   "execution_count": 60,
   "id": "935e286b",
   "metadata": {},
   "outputs": [],
   "source": [
    "normed_data = dict()\n",
    "for dms_id, input_data in annot_data.items():\n",
    "    # Theses data are specially normalised as shown below.\n",
    "    if dms_id in ['urn:mavedb:00000105-a-1', 'urn:mavedb:00000054-a-1']: \n",
    "        continue\n",
    "        \n",
    "    # Set wildtype-like and nonsense-variant-like scores.\n",
    "    wt_score = mtool.get_dms_wiltype_like_score(input_data)\n",
    "    if np.isnan(wt_score):\n",
    "        wt_score = defined_wt_scores[dms_id]\n",
    "    if dms_id in positive_loss:\n",
    "        non_score = 'positive'\n",
    "    else:\n",
    "        non_score = 'negative'\n",
    "        \n",
    "    data = input_data.query(\"mut_type == 'missense'\").copy()\n",
    "    data = preproc.normalize_dms_score(data, wt_score, non_score)\n",
    "    normed_data[dms_id] = data"
   ]
  },
  {
   "cell_type": "code",
   "execution_count": 61,
   "id": "943b854f",
   "metadata": {},
   "outputs": [],
   "source": [
    "# In this dataset, the original scoring methods is not log-transformed but most other DMS data are.\n",
    "dms_id = 'urn:mavedb:00000105-a-1'\n",
    "input_data = annot_data[dms_id]\n",
    "\n",
    "data = input_data.query(\"mut_type == 'missense'\").copy()\n",
    "data['score'] = np.log(data['score'])  # log-transformation.\n",
    "wt_score = 0  # Indicated by score calculation (original: 1, log-transformed: 0).\n",
    "non_score = 'negative'\n",
    "data = preproc.normalize_dms_score(data, wt_score, non_score)\n",
    "normed_data[dms_id] = data"
   ]
  },
  {
   "cell_type": "code",
   "execution_count": 62,
   "id": "a9be1c2f",
   "metadata": {},
   "outputs": [],
   "source": [
    "# Wildtype score of this data is questionable. Corrected score is confirmed from the paper.\n",
    "dms_id = 'urn:mavedb:00000054-a-1'\n",
    "input_data = annot_data[dms_id]\n",
    "\n",
    "wt_score = 0  # Corrected.\n",
    "non_score = 'negative'\n",
    "\n",
    "data = input_data.query(\"mut_type == 'missense'\").copy()\n",
    "data = preproc.normalize_dms_score(data, wt_score, non_score)\n",
    "normed_data[dms_id] = data"
   ]
  },
  {
   "cell_type": "markdown",
   "id": "ca1cb7d7",
   "metadata": {},
   "source": [
    "## Position mapping"
   ]
  },
  {
   "cell_type": "markdown",
   "id": "2f654ac9",
   "metadata": {},
   "source": [
    "We then map each DMS residue to the reference protein sequence from UniProt.\n",
    "\n",
    "To do this, we first curated the `UniProtKB ID` for each DMS target and added the rational `offset` between DMS variant position and reference sequence in `data_info`.\n",
    "\n",
    "Residues conform with the reference sequence will be kept, adding its position in the reference sequence. Otherwise the residue will be removed with notice."
   ]
  },
  {
   "cell_type": "code",
   "execution_count": 63,
   "id": "5ac437f3",
   "metadata": {},
   "outputs": [],
   "source": [
    "def get_uniprot_seq(uniprot_id):\n",
    "    \"\"\"Read UniProt sequence as pandas.Series format from reference folder.\n",
    "    \"\"\"\n",
    "    with open(f\"../data/reference/{uniprot_id}.fasta\", 'r') as file:\n",
    "        str_seq = file.read()\n",
    "    str_seq = ''.join(str_seq.split('\\n')[1:-1])\n",
    "    # Adding 1 to make the positions start with 1 rather than 0.\n",
    "    pro_seq = pd.Series(dict(zip(np.arange(len(str_seq))+1, str_seq)))\n",
    "    return pro_seq\n",
    "\n",
    "\n",
    "def get_uniprot_matched_dms_residues(dms_id, dms_seq, pro_seq):\n",
    "    \"\"\"\n",
    "    The function reports mismatched DMS residues compared to the UniProt sequence. Then it returns \n",
    "    the matched DMS residues in a list.\n",
    "    \"\"\"\n",
    "    matched_dms_seq = dms_seq.copy()  # This is for visualizing the final matched sequence.\n",
    "    matched_res = []\n",
    "    # Go through each DMS residue to check with reference sequence.\n",
    "    for i, upos_res in enumerate(matched_dms_seq.index):\n",
    "        if matched_dms_seq[upos_res] != pro_seq[upos_res]:\n",
    "            print(f\"Delete: Residue {upos_res}. DMS wildtype: {dms_seq[upos_res]}. UniProt wildtype: {pro_seq[upos_res]}\")\n",
    "            matched_dms_seq[upos_res] = '-'\n",
    "        else:\n",
    "            matched_res.append(upos_res)\n",
    "    print('Matcheded DMS seq.: >',''.join(matched_dms_seq))\n",
    "    return matched_res"
   ]
  },
  {
   "cell_type": "code",
   "execution_count": 64,
   "id": "07d46689",
   "metadata": {
    "scrolled": true
   },
   "outputs": [
    {
     "name": "stdout",
     "output_type": "stream",
     "text": [
      "MISMATCH FOUND IN urn:mavedb:00000003-a-2:\n",
      "Delete: Residue 175. DMS wildtype: R. UniProt wildtype: K\n",
      "Matcheded DMS seq.: > DLSALRVEEVQNVINAMQKILECPICLELIKEPVSTKCDHIFCKFCMLKLLNQKKGPSQCPLCKNDITKRSLQESTRFSQLVEELLKIICAFQLDTGLEYANSYNFAKKENNSPHLKDEVSIIQSMGYRNRAKRLLQSEPENPSLQETSLSVQLSNLGTVRTLRTKQRIQPQ-TSVIELGSDSSEDTVNKATYCSVGDQELLQITPQGTRDEISLDSAKKAACEFSETDVTNTEHHQPSNNDLNTTEKRAAERHPEKYQGSSVSNLHVEPCGTNTHASSLQHENSSLLLTKDRMNVEKAEF\n",
      "********************************************************************************\n",
      "MISMATCH FOUND IN urn:mavedb:00000003-b-2:\n",
      "Delete: Residue 175. DMS wildtype: R. UniProt wildtype: K\n",
      "Matcheded DMS seq.: > DLSALRVEEVQNVINAMQKILECPICLELIKEPVSTKCDHIFCKFCMLKLLNQKKGPSQCPLCKNDITKRSLQESTRFSQLVEELLKIICAFQLDTGLEYANSYNFAKKENNSPEHLKDEVSIIQSMGYRNRAKRLLQSEPENPSLQETSLSVQLSNLGTVRTLRTKQRIQPQ-TSVYIELGSDSSEDTVNKATYCSVGDQELLQITPQGTRDEISLDSAKKAACEFSETDVTNTEHHQPSNNDLNTTEKRAAERHPEKYQGSSVSNLHVEPCGTNTHASSLQHENSSLLLTKDRMNVEKAEF\n",
      "********************************************************************************\n",
      "MISMATCH FOUND IN urn:mavedb:00000051-a-1:\n",
      "Delete: Residue 356. DMS wildtype: T. UniProt wildtype: R\n",
      "Delete: Residue 357. DMS wildtype: S. UniProt wildtype: R\n",
      "Delete: Residue 358. DMS wildtype: G. UniProt wildtype: L\n",
      "Delete: Residue 359. DMS wildtype: G. UniProt wildtype: K\n",
      "Matcheded DMS seq.: > PLFIPVAVMVTAFSGLAFIIWLA----\n",
      "********************************************************************************\n",
      "MISMATCH FOUND IN urn:mavedb:00000062-b-1:\n",
      "Delete: Residue 331. DMS wildtype: V. UniProt wildtype: I\n",
      "Matcheded DMS seq.: > LIWQKLTLGVTRMEGELGGVNWERRTRGREARAANCRDQMTPCDPESDHIRDFMNQTIVITTSALAR-NRSCDMPAEYIDTVFLPEMRAKGRETNLDVPP\n",
      "********************************************************************************\n",
      "MISMATCH FOUND IN urn:mavedb:00000077-a-1:\n",
      "Delete: Residue 179. DMS wildtype: M. UniProt wildtype: V\n",
      "Delete: Residue 180. DMS wildtype: A. UniProt wildtype: P\n",
      "Matcheded DMS seq.: > --SDGVVVEIGKVTGSVGTTVEIPVYFRGVPSKGIANCDFVFRYDPNVLEIIGIDPGDIIVDPNPTKSFDTAIYPDRKIIVFLFAEDSGTGAYAITKDGVFAKIRATVKSSAPGYITFDEVGGFADNDLVEQKVSFIDGGVNVGNATPTKGATPTNTATPTK\n",
      "********************************************************************************\n",
      "MISMATCH FOUND IN urn:mavedb:00000077-b-1:\n",
      "Delete: Residue 276. DMS wildtype: M. UniProt wildtype: I\n",
      "Matcheded DMS seq.: > -TVLPKDIPGDSLKVTVGTANGKPGDTVTVPVTFADVAKMKNVGTCNFYLGYDASLLEVVSVDAGPIVKNAAVNFSSSASNGTISFLFLDNTITDELITADGVFANIKFKLKSVTAKTTTPVTFKDGGAFGDGTMSKIASVTKTNGSVTIDP\n",
      "********************************************************************************\n",
      "MISMATCH FOUND IN urn:mavedb:00000036-a-1-exp:\n",
      "Delete: Residue 202. DMS wildtype: P. UniProt wildtype: S\n",
      "Matcheded DMS seq.: > DALKSAGRALIRSPSLAKQSWGGGGRHRKLPENWTDTRETLLEGMLFSLKYLGMTLVEQPKGEELSAAAIKRIVATAKASGKKLQKVTLKVSPRGIILTDNLTNQLIENVSIYRISYCTADKMHDKVFAYIAQSQHNQSLECHAFLCTKRKMAQAVTLTVAQAFKVAFEFWQVSKEEKEKRDKASQEGGDVLGARQDCTP-LKSLVATGNLLDLEETAKAPLSTVSANTTNMDEVPRPQALSGSSVVWELDDGLDEAFSRLAQSRTNPQVLDTGLTAQDMHYAQCLSPVDWDKPDSSGTEQDDLFS\n",
      "********************************************************************************\n",
      "MISMATCH FOUND IN urn:mavedb:00000036-a-2-exp:\n",
      "Delete: Residue 202. DMS wildtype: P. UniProt wildtype: S\n",
      "Matcheded DMS seq.: > DALKSAGRALIRSPSLAKQSWGGGGRHRKLPENWTDTRETLLEGMLFSLKYLGMTLVEQPKGEELSAAAIKRIVATAKASGKKLQKVTLKVSPRGIILTDNLTNQLIENVSIYRISYCTADKMHDKVFAYIAQSQHNQSLECHAFLCTKRKMAQAVTLTVAQAFKVAFEFWQVSKEEKEKRDKASQEGGDVLGARQDCTP-LKSLVATGNLLDLEETAKAPLSTVSANTTNMDEVPRPQALSGSSVVWELDDGLDEAFSRLAQSRTNPQVLDTGLTAQDMHYAQCLSPVDWDKPDSSGTEQDDLFS\n",
      "********************************************************************************\n",
      "MISMATCH FOUND IN urn:mavedb:00000068-b-1:\n",
      "Delete: Residue 72. DMS wildtype: R. UniProt wildtype: P\n",
      "Matcheded DMS seq.: > MEEPQSDPSVEPPLSQETFSDLWKLLPENNVLSPLPSQAMDDLMLSPDDIEQWFTEDPGPDEAPRMPEAAP-VAPAPAAPTPAAPAPAPSWPLSSSVPSQKTYQGSYGFRLGFLHSGTAKSVTCTYSPALNKMFCQLAKTCPVQLWVDSTPPPGTRVRAMAIYKQSQHMTEVVRRCPHHERCSDSDGLAPPQHLIRVEGNLRVEYLDDRNTFRHSVVVPYEPPEVGSDCTTIHYNYMCNSSCMGGMNRRPILTIITLEDSSGNLLGRNSFEVRVCACPGRDRRTEEENLRKKGEPHHELPPGSTKRALPNNTSSSPQPKKKPLDGEYFTLQIRGRERFEMFRELNEALELKDAQAGKEPGGSRAHSSHLKSKKGQSTSRHKKLMFKTEGPDSD\n",
      "********************************************************************************\n",
      "MISMATCH FOUND IN urn:mavedb:00000068-c-1:\n",
      "Delete: Residue 72. DMS wildtype: R. UniProt wildtype: P\n",
      "Matcheded DMS seq.: > MEEPQSDPSVEPPLSQETFSDLWKLLPENNVLSPLPSQAMDDLMLSPDDIEQWFTEDPGPDEAPRMPEAAP-VAPAPAAPTPAAPAPAPSWPLSSSVPSQKTYQGSYGFRLGFLHSGTAKSVTCTYSPALNKMFCQLAKTCPVQLWVDSTPPPGTRVRAMAIYKQSQHMTEVVRRCPHHERCSDSDGLAPPQHLIRVEGNLRVEYLDDRNTFRHSVVVPYEPPEVGSDCTTIHYNYMCNSSCMGGMNRRPILTIITLEDSSGNLLGRNSFEVRVCACPGRDRRTEEENLRKKGEPHHELPPGSTKRALPNNTSSSPQPKKKPLDGEYFTLQIRGRERFEMFRELNEALELKDAQAGKEPGGSRAHSSHLKSKKGQSTSRHKKLMFKTEGPDSD\n",
      "********************************************************************************\n",
      "MISMATCH FOUND IN urn:mavedb:00000001-d-1:\n",
      "Delete: Residue 193. DMS wildtype: S. UniProt wildtype: M\n",
      "Matcheded DMS seq.: > EHAFTPLEPLLSTGNLKYCLVILNQPLDNYFRHLWNKALLRACADGGANRLYDITEGERESFLPEFINGDFDSIRPEVREYYATKGCELISTPDQDHTDFTKCLKMLQKKIEEKDLKVDVIVTLGGLAGRFDQIMASVNTLFQATHITPFPIIIIQEESLIYLLQPGKHRLHVDTGMEGDWCGLIPVGQPC-QVTTTGLKWNLTNDVLAFGTLVSTSNTYDGSGVVTVETDHPLLWTMAIKS\n",
      "********************************************************************************\n",
      "MISMATCH FOUND IN urn:mavedb:00000080-a-2:\n",
      "Delete: Residue 64. DMS wildtype: L. UniProt wildtype: F\n",
      "Matcheded DMS seq.: > KGEELFTGVVPILVELDGDVNGHKFSVSGEGEGDATYGKLTLKFICTTGKLPVPWPTLVTT-SYGVQCFSRYPDHMKQHDFFKSAMPEGYVQERTIFFKDDGNYKTRAEVKFEGDTNRIELKGIDFKEDGNILGHKLEYNYNSHNVYIMADKQKNGIKVNFKIRHNIEDGSVQLADHYQQNTPIGDGPVLLPDNHYLSTQSALSKDPNEKRDHMVLLEFVTAAGITHGMDELY\n",
      "********************************************************************************\n",
      "MISMATCH FOUND IN urn:mavedb:00000105-a-1:\n",
      "Delete: Residue 228. DMS wildtype: Q. UniProt wildtype: T\n",
      "Matcheded DMS seq.: > -YKLILNGKTLKGETTTEAVDAATAEKVFKQYANDNGVDGEWTYDDATKTFTVTE\n",
      "********************************************************************************\n"
     ]
    }
   ],
   "source": [
    "unip_info = data_info.groupby('dms_id')[['uniprot_id', 'offset']].first()\n",
    "\n",
    "mapped_data = dict()\n",
    "for dms_id, input_data in normed_data.items():\n",
    "    # Set UniProt positions.\n",
    "    unip = unip_info.loc[dms_id]['uniprot_id']\n",
    "    offset = int(unip_info.loc[dms_id]['offset'])\n",
    "    input_data['uniprot_id'] = unip\n",
    "    input_data['u_pos'] = input_data['position'].astype(int) + offset\n",
    "    \n",
    "    # Check if DMS indicated protein sequence conforms with UniProt sequence.\n",
    "    pro_seq = get_uniprot_seq(unip)\n",
    "    dms_seq = input_data.groupby('u_pos')['aa1'].first()\n",
    "    if any(dms_seq != pro_seq.loc[dms_seq.index]):\n",
    "        print(f\"MISMATCH FOUND IN {dms_id}:\")\n",
    "        matched_res = get_uniprot_matched_dms_residues(dms_id, dms_seq, pro_seq)\n",
    "        input_data = input_data[input_data['u_pos'].isin(matched_res)]  # Drop wildtype mismatched residues.\n",
    "        print('*'*80)\n",
    "    mapped_data[dms_id] = input_data"
   ]
  },
  {
   "cell_type": "markdown",
   "id": "c8cd766a",
   "metadata": {},
   "source": [
    "In most cases there are only one mismatched residue for each DMS dataset which may related to polymorphism.\n",
    "\n",
    "Only two DMS datasets show more than one mismatched residues which are all at the start or end of the scanned sequences, that may related to experimental setup."
   ]
  },
  {
   "cell_type": "markdown",
   "id": "b95595b9",
   "metadata": {},
   "source": [
    "## Add DeMaSk features"
   ]
  },
  {
   "cell_type": "markdown",
   "id": "f389a0fb",
   "metadata": {},
   "source": [
    "Raw feature values were downloaded from [DeMaSk website](https://demask.princeton.edu/query/), using whole protein sequence."
   ]
  },
  {
   "cell_type": "code",
   "execution_count": 291,
   "id": "f4775b15",
   "metadata": {
    "scrolled": true
   },
   "outputs": [],
   "source": [
    "demask_dms = dict()\n",
    "for dms_id, input_data in mapped_data.items():\n",
    "    unip = input_data.iloc[0]['uniprot_id']\n",
    "    feat_data = pd.read_csv(f\"../data/raw/protein_feature/demask/{unip}.txt\")\n",
    "    featured_data = pd.merge(input_data, feat_data, left_on=['u_pos', 'aa1', 'aa2'], \n",
    "                             right_on=['pos', 'WT', 'var'], how='left', \n",
    "                             suffixes=['', '_online_pred'])\n",
    "    featured_data['sub_type'] = featured_data['aa1'] + featured_data['aa2']\n",
    "    demask_dms[dms_id] = featured_data[['dms_id', 'position', 'aa2', 'aa1', 'sub_type', 'score', \n",
    "                                        'u_pos', 'uniprot_id', 'entropy', 'log2f_var', 'matrix']]\n",
    "demask_dms = pd.concat(demask_dms.values(), ignore_index=True)\n",
    "demask_dms = demask_dms.astype({'position': int})\n",
    "#demask_dms.to_csv('../data/normalized/dms_DeMaSk_features_221024.csv')"
   ]
  },
  {
   "cell_type": "markdown",
   "id": "a770676e",
   "metadata": {},
   "source": [
    "## Add Envision features"
   ]
  },
  {
   "cell_type": "markdown",
   "id": "98d6844b",
   "metadata": {},
   "source": [
    "Raw feature values were downloaded from [Envision website](https://envision.gs.washington.edu/shiny/envision_new/).\n",
    "\n",
    "Protein data were excluded if their feature values were not available. "
   ]
  },
  {
   "cell_type": "code",
   "execution_count": 65,
   "id": "63eaf158",
   "metadata": {},
   "outputs": [],
   "source": [
    "envision_feature_map = {\n",
    "    \"AA1\": \"aa1\",\n",
    "    \"AA2\": \"aa2\",\n",
    "    \"WT_Mut\": \"wt_mut\",\n",
    "    \"AA1_polarity\": \"aa1_polarity\",\n",
    "    \"AA2_polarity\": \"aa2_polarity\",\n",
    "    \"AA1_pI\": \"aa1_PI\",\n",
    "    \"AA2_pI\": \"aa2_PI\",\n",
    "    \"AA1_weight\": \"aa1_weight\",\n",
    "    \"AA2_weight\": \"aa2_weight\",\n",
    "    \"AA1_volume\": \"aa1vol\",\n",
    "    \"AA2_volume\": \"aa2vol\",\n",
    "    \"AA1_PSIC\": \"aa1_psic\",\n",
    "    \"AA2_PSIC\": \"aa2_psic\",\n",
    "    \"delta_PSIC\": \"delta_psic\",\n",
    "    \"solvent_accessibility\": \"accessibility\",\n",
    "    \"SecondaryStructure\": \"dssp_sec_str\",\n",
    "    \"phi_psi_angles\": \"phi_psi_reg\",\n",
    "    \"Uniprot\": \"uniprot_id\",\n",
    "    \"position\": \"u_pos\",\n",
    "}"
   ]
  },
  {
   "cell_type": "code",
   "execution_count": 361,
   "id": "31921212",
   "metadata": {
    "scrolled": true
   },
   "outputs": [
    {
     "name": "stdout",
     "output_type": "stream",
     "text": [
      "urn:mavedb:00000001-c-1 (P0DP23) has no Envision feature and will be removed.\n",
      "urn:mavedb:00000077-a-1 (Q06851) has no Envision feature and will be removed.\n",
      "urn:mavedb:00000077-b-1 (B8I7V0) has no Envision feature and will be removed.\n",
      "urn:mavedb:00000063-a-1 (P0ABQ4) has no Envision feature and will be removed.\n",
      "urn:mavedb:00000063-b-1 (P0ABQ4) has no Envision feature and will be removed.\n",
      "urn:mavedb:00000090-a-1 (P31016) has no Envision feature and will be removed.\n",
      "urn:mavedb:00000090-b-1 (P31016) has no Envision feature and will be removed.\n",
      "urn:mavedb:00000076-a-1 (P40515) has no Envision feature and will be removed.\n",
      "urn:mavedb:00000076-b-1 (P40515) has no Envision feature and will be removed.\n",
      "urn:mavedb:00000076-c-1 (P40515) has no Envision feature and will be removed.\n",
      "urn:mavedb:00000076-e-1 (P40515) has no Envision feature and will be removed.\n",
      "urn:mavedb:00000011-a-1 (P02829) has no Envision feature and will be removed.\n",
      "urn:mavedb:00000039-a-1 (P02829) has no Envision feature and will be removed.\n",
      "urn:mavedb:00000039-a-2 (P02829) has no Envision feature and will be removed.\n",
      "urn:mavedb:00000039-a-3 (P02829) has no Envision feature and will be removed.\n",
      "urn:mavedb:00000039-a-4 (P02829) has no Envision feature and will be removed.\n",
      "urn:mavedb:00000039-a-5 (P02829) has no Envision feature and will be removed.\n",
      "urn:mavedb:00000039-a-6 (P02829) has no Envision feature and will be removed.\n",
      "urn:mavedb:00000039-a-7 (P02829) has no Envision feature and will be removed.\n",
      "urn:mavedb:00000040-a-1 (P02829) has no Envision feature and will be removed.\n",
      "urn:mavedb:00000040-a-2 (P02829) has no Envision feature and will be removed.\n",
      "urn:mavedb:00000040-a-3 (P02829) has no Envision feature and will be removed.\n",
      "urn:mavedb:00000040-a-4 (P02829) has no Envision feature and will be removed.\n",
      "urn:mavedb:00000074-a-1 (P02829) has no Envision feature and will be removed.\n",
      "urn:mavedb:00000064-a-1 (P02943) has no Envision feature and will be removed.\n",
      "urn:mavedb:00000064-b-1 (P02943) has no Envision feature and will be removed.\n",
      "urn:mavedb:00000079-a-1 (A0A3G4RHW3_ATRBE) has no Envision feature and will be removed.\n",
      "urn:mavedb:00000070-a-2 (P62593) has no Envision feature and will be removed.\n",
      "urn:mavedb:00000086-a-1 (P62593) has no Envision feature and will be removed.\n",
      "urn:mavedb:00000086-b-1 (P62593) has no Envision feature and will be removed.\n",
      "urn:mavedb:00000086-c-1 (P62593) has no Envision feature and will be removed.\n",
      "urn:mavedb:00000086-d-1 (P62593) has no Envision feature and will be removed.\n",
      "urn:mavedb:00000086-e-1 (P62593) has no Envision feature and will be removed.\n",
      "urn:mavedb:00000086-f-1 (P62593) has no Envision feature and will be removed.\n",
      "urn:mavedb:00000086-g-1 (P62593) has no Envision feature and will be removed.\n",
      "urn:mavedb:00000080-a-2 (P42212) has no Envision feature and will be removed.\n",
      "urn:mavedb:00000105-a-1 (P06654) has no Envision feature and will be removed.\n"
     ]
    }
   ],
   "source": [
    "envision_dms = dict()\n",
    "for dms_id, input_data in mapped_data.items():\n",
    "    input_data = input_data[['dms_id', 'position', 'aa2', 'aa1', 'score', 'u_pos', 'uniprot_id']].copy()\n",
    "    unip = input_data.iloc[0]['uniprot_id']\n",
    "    \n",
    "    try:\n",
    "        feat_data = pd.read_csv(f\"../data/raw/protein_feature/envision/{unip}_envisionData.csv\", \n",
    "                                index_col=0, na_values=[''], keep_default_na=False)\n",
    "    except FileNotFoundError:\n",
    "        print(f\"{dms_id} ({unip}) has no Envision feature and will be removed.\")\n",
    "        continue\n",
    "    feat_data = feat_data.rename(columns=envision_feature_map)\n",
    "    # Drop not used columns.\n",
    "    feat_data = feat_data.drop(columns=['X1', 'id2', 'Variant', 'evolutionary_coupling_prop', \n",
    "                                        'evolutionary_coupling_avg_norm', 'Envision_predictions'])\n",
    "    feat_data = feat_data.astype({\"u_pos\": int})\n",
    "    feat_data['wt_mut'] = feat_data['aa1'] + feat_data['aa2']\n",
    "    \n",
    "    featured_data = pd.merge(input_data, feat_data, left_on=['uniprot_id', 'u_pos', 'aa1', 'aa2'], \n",
    "                             right_on=['uniprot_id', 'u_pos', 'aa1', 'aa2'], how='left')\n",
    "    envision_dms[dms_id] = featured_data\n",
    "    \n",
    "envision_dms = pd.concat(envision_dms.values(), ignore_index=True)\n",
    "envision_dms = envision_dms.astype({'position': int})\n",
    "#envision_dms.to_csv('../data/normalized/dms_Envision_features_221024.csv')"
   ]
  },
  {
   "cell_type": "code",
   "execution_count": 363,
   "id": "3743e183",
   "metadata": {
    "scrolled": true
   },
   "outputs": [
    {
     "data": {
      "text/plain": [
       "dms_id                         False\n",
       "position                       False\n",
       "aa2                            False\n",
       "aa1                            False\n",
       "score                          False\n",
       "u_pos                          False\n",
       "uniprot_id                     False\n",
       "wt_mut                         False\n",
       "aa1_polarity                   False\n",
       "aa2_polarity                   False\n",
       "aa1_PI                         False\n",
       "aa2_PI                         False\n",
       "deltaPI                        False\n",
       "aa1_weight                     False\n",
       "aa2_weight                     False\n",
       "deltaWeight                    False\n",
       "aa1vol                         False\n",
       "aa2vol                         False\n",
       "deltavolume                    False\n",
       "Grantham                        True\n",
       "aa1_psic                        True\n",
       "aa2_psic                        True\n",
       "delta_psic                      True\n",
       "accessibility                   True\n",
       "dssp_sec_str                    True\n",
       "phi_psi_reg                     True\n",
       "delta_solvent_accessibility     True\n",
       "b_factor                        True\n",
       "mut_msa_congruency              True\n",
       "mut_mut_msa_congruency          True\n",
       "seq_ind_closest_mut             True\n",
       "evolutionary_coupling_avg       True\n",
       "dtype: bool"
      ]
     },
     "execution_count": 363,
     "metadata": {},
     "output_type": "execute_result"
    }
   ],
   "source": [
    "envision_dms.isna().any()"
   ]
  },
  {
   "cell_type": "markdown",
   "id": "abf79296",
   "metadata": {},
   "source": [
    "### Add Envision features + paper derived"
   ]
  },
  {
   "cell_type": "code",
   "execution_count": 66,
   "id": "f16e611d",
   "metadata": {},
   "outputs": [
    {
     "data": {
      "text/plain": [
       "False"
      ]
     },
     "execution_count": 66,
     "metadata": {},
     "output_type": "execute_result"
    }
   ],
   "source": [
    "env_supp = pd.read_csv('/Users/fu.j/AnacondaProjects/Envision2017-master/data/dmsTraining_2017-02-20.csv')\n",
    "env_supp = env_supp[env_supp['mut_type']=='missense']\n",
    "env_supp['wt_mut'] = env_supp['aa1'] + env_supp['aa2']\n",
    "env_supp = env_supp[['uniprot_id', 'aa1', 'aa2', 'wt_mut', 'position', 'aa1_polarity', 'aa2_polarity', \n",
    "     'aa1_PI', 'aa2_PI', 'deltaPI', 'aa1_weight', 'aa2_weight', 'deltaWeight', 'aa1vol', \n",
    "     'aa2vol', 'deltavolume', 'Grantham', 'aa1_psic', 'aa2_psic', 'delta_psic', 'accessibility',\n",
    "     'dssp_sec_str', 'phi_psi_reg', 'delta_solvent_accessibility', 'b_factor', 'mut_msa_congruency', \n",
    "     'mut_mut_msa_congruency', 'seq_ind_closest_mut', 'evolutionary_coupling_avg']].drop_duplicates()\n",
    "\n",
    "paper_derive_unips = ['P06654', 'P02829', 'P62593', 'P31016']\n",
    "supp_feat = env_supp.query(\"uniprot_id in @paper_derive_unips\")\n",
    "supp_feat[['uniprot_id', 'position', 'aa2']].duplicated().any()  # Variant entries are unique."
   ]
  },
  {
   "cell_type": "code",
   "execution_count": 67,
   "id": "90272266",
   "metadata": {},
   "outputs": [
    {
     "name": "stdout",
     "output_type": "stream",
     "text": [
      "PERFECT MATCH FOR P02829\n",
      "MISMATCH FOUND IN P06654:\n",
      "Delete: Residue 228. DMS wildtype: Q. UniProt wildtype: T\n",
      "Matcheded DMS seq.: > -YKLILNGKTLKGETTTEAVDAATAEKVFKQYANDNGVDGEWTYDDATKTFTVTE\n",
      "********************************************************************************\n",
      "PERFECT MATCH FOR P31016\n",
      "PERFECT MATCH FOR P62593\n"
     ]
    },
    {
     "name": "stderr",
     "output_type": "stream",
     "text": [
      "/Users/fu.j/.conda/envs/ala_proj_finalize/lib/python3.6/site-packages/ipykernel_launcher.py:4: SettingWithCopyWarning: \n",
      "A value is trying to be set on a copy of a slice from a DataFrame.\n",
      "Try using .loc[row_indexer,col_indexer] = value instead\n",
      "\n",
      "See the caveats in the documentation: http://pandas.pydata.org/pandas-docs/stable/user_guide/indexing.html#returning-a-view-versus-a-copy\n",
      "  after removing the cwd from sys.path.\n"
     ]
    }
   ],
   "source": [
    "clean_supp_feat = []\n",
    "for unip, input_data in supp_feat.groupby('uniprot_id'):\n",
    "    offset = 0\n",
    "    input_data['u_pos'] = input_data['position'].astype(int) + offset\n",
    "    \n",
    "    grouped = input_data.groupby('u_pos')['aa1']\n",
    "    if (grouped.nunique()!=1).any():\n",
    "        raise ValueError('None unique wildt-ype amino acid!')\n",
    "    dms_seq = grouped.first()\n",
    "    \n",
    "    # Check if protein sequence conforms with UniProt sequence.\n",
    "    pro_seq = get_uniprot_seq(unip)\n",
    "    if any(dms_seq != pro_seq.loc[dms_seq.index]):\n",
    "        print(f\"MISMATCH FOUND IN {unip}:\")\n",
    "        matched_res = get_uniprot_matched_dms_residues(unip, dms_seq, pro_seq)\n",
    "        input_data = input_data[input_data['u_pos'].isin(matched_res)]  # Drop wildtype mismatched residues.\n",
    "        print('*'*80)\n",
    "    else:\n",
    "        print(f\"PERFECT MATCH FOR {unip}\")\n",
    "        \n",
    "    clean_supp_feat.append(input_data.drop(columns='position'))\n",
    "clean_supp_feat = pd.concat(clean_supp_feat, ignore_index=True)"
   ]
  },
  {
   "cell_type": "code",
   "execution_count": 110,
   "id": "6e5c6f78",
   "metadata": {},
   "outputs": [
    {
     "name": "stdout",
     "output_type": "stream",
     "text": [
      "urn:mavedb:00000001-c-1 (P0DP23) has no Envision feature and will be removed.\n",
      "urn:mavedb:00000077-a-1 (Q06851) has no Envision feature and will be removed.\n",
      "urn:mavedb:00000077-b-1 (B8I7V0) has no Envision feature and will be removed.\n",
      "urn:mavedb:00000063-a-1 (P0ABQ4) has no Envision feature and will be removed.\n",
      "urn:mavedb:00000063-b-1 (P0ABQ4) has no Envision feature and will be removed.\n",
      "urn:mavedb:00000076-a-1 (P40515) has no Envision feature and will be removed.\n",
      "urn:mavedb:00000076-b-1 (P40515) has no Envision feature and will be removed.\n",
      "urn:mavedb:00000076-c-1 (P40515) has no Envision feature and will be removed.\n",
      "urn:mavedb:00000076-e-1 (P40515) has no Envision feature and will be removed.\n",
      "urn:mavedb:00000064-a-1 (P02943) has no Envision feature and will be removed.\n",
      "urn:mavedb:00000064-b-1 (P02943) has no Envision feature and will be removed.\n",
      "urn:mavedb:00000079-a-1 (A0A3G4RHW3_ATRBE) has no Envision feature and will be removed.\n",
      "urn:mavedb:00000080-a-2 (P42212) has no Envision feature and will be removed.\n"
     ]
    }
   ],
   "source": [
    "envision_dms_extra = dict()\n",
    "for dms_id, input_data in mapped_data.items():\n",
    "    input_data = input_data[['dms_id', 'position', 'aa2', 'aa1', 'score', 'u_pos', 'uniprot_id']].copy()\n",
    "    unip = input_data.iloc[0]['uniprot_id']\n",
    "    \n",
    "    if unip not in ['P06654', 'P02829', 'P62593', 'P31016']:\n",
    "        try:\n",
    "            feat_data = pd.read_csv(f\"../data/raw/protein_feature/envision/{unip}_envisionData.csv\", \n",
    "                                    index_col=0, na_values=[''], keep_default_na=False)\n",
    "        except FileNotFoundError:\n",
    "            print(f\"{dms_id} ({unip}) has no Envision feature and will be removed.\")\n",
    "            continue\n",
    "        feat_data = feat_data.rename(columns=envision_feature_map)\n",
    "        # Drop not used columns.\n",
    "        feat_data = feat_data.drop(columns=['X1', 'id2', 'Variant', 'evolutionary_coupling_prop', \n",
    "                                            'evolutionary_coupling_avg_norm', 'Envision_predictions'])\n",
    "        feat_data = feat_data.astype({\"u_pos\": int})\n",
    "    else:\n",
    "        feat_data = clean_supp_feat.query(\"uniprot_id == @unip\")\n",
    "    \n",
    "    featured_data = pd.merge(input_data, feat_data, left_on=['uniprot_id', 'u_pos', 'aa1', 'aa2'], \n",
    "                             right_on=['uniprot_id', 'u_pos', 'aa1', 'aa2'], how='left')\n",
    "    envision_dms_extra[dms_id] = featured_data\n",
    "    \n",
    "envision_dms_extra = pd.concat(envision_dms_extra.values(), ignore_index=True)\n",
    "envision_dms_extra = envision_dms_extra.astype({'position': int})\n",
    "envision_dms_extra['wt_mut'] = envision_dms_extra['aa1'] + envision_dms_extra['aa2']\n",
    "#envision_dms_extra.to_csv('../data/normalized/dms_Envision_features_extra_221027.csv')"
   ]
  },
  {
   "cell_type": "code",
   "execution_count": 111,
   "id": "fb46d8bc",
   "metadata": {
    "scrolled": true
   },
   "outputs": [
    {
     "data": {
      "text/plain": [
       "dms_id                         False\n",
       "position                       False\n",
       "aa2                            False\n",
       "aa1                            False\n",
       "score                          False\n",
       "u_pos                          False\n",
       "uniprot_id                     False\n",
       "wt_mut                         False\n",
       "aa1_polarity                    True\n",
       "aa2_polarity                    True\n",
       "aa1_PI                          True\n",
       "aa2_PI                          True\n",
       "deltaPI                         True\n",
       "aa1_weight                      True\n",
       "aa2_weight                      True\n",
       "deltaWeight                     True\n",
       "aa1vol                          True\n",
       "aa2vol                          True\n",
       "deltavolume                     True\n",
       "Grantham                        True\n",
       "aa1_psic                        True\n",
       "aa2_psic                        True\n",
       "delta_psic                      True\n",
       "accessibility                   True\n",
       "dssp_sec_str                    True\n",
       "phi_psi_reg                     True\n",
       "delta_solvent_accessibility     True\n",
       "b_factor                        True\n",
       "mut_msa_congruency              True\n",
       "mut_mut_msa_congruency          True\n",
       "seq_ind_closest_mut             True\n",
       "evolutionary_coupling_avg       True\n",
       "dtype: bool"
      ]
     },
     "execution_count": 111,
     "metadata": {},
     "output_type": "execute_result"
    }
   ],
   "source": [
    "envision_dms_extra.isna().any()"
   ]
  },
  {
   "cell_type": "markdown",
   "id": "ccec23fd",
   "metadata": {},
   "source": [
    "# AS data"
   ]
  },
  {
   "cell_type": "markdown",
   "id": "a4c7a2a1",
   "metadata": {},
   "source": [
    "We searched for alanine scanning studies with key phrase `(alanine scanning) OR (alanine scan)` together with protein names or identifiers with DMS data available.\n",
    "\n",
    "Appropriate AS data were collected and curated if:\n",
    "* they match the target protein\n",
    "* they are in numeric format\n",
    "* their wildtype-like and nonsense-like scores are available (tested or can be identified)\n",
    "* they contain single alanine substitutions\n",
    "* they are experimental rather than computational scores\n",
    "\n",
    "Raw published values are curated in the `score` column for input data. For results presented in bar plots, we measured and stored the length of each bar. For results presented in Western blot, we used ImageJ to quantify the intensity for each entry. Residue positions are mapped and checked to UniProt sequences.\n",
    "\n",
    "AS scores are normalized in a same way as DMS, except that the nonsense-like scores are defined from the experiment directly (more details in `note` column)."
   ]
  },
  {
   "cell_type": "code",
   "execution_count": 640,
   "id": "07f45c96",
   "metadata": {},
   "outputs": [],
   "source": [
    "root = '../data/raw/low-throughput_data/'\n",
    "norm_as = []\n",
    "for file_name in os.listdir(root):\n",
    "    if file_name == '.DS_Store':\n",
    "        continue\n",
    "    ascan_id = file_name[:-4]\n",
    "    as_data = pd.read_csv(f\"{root}{file_name}\", index_col=0)\n",
    "    \n",
    "    nons = float(as_data.loc[as_data['aa1'] == 'non', 'score'])\n",
    "    wts = float(as_data.loc[as_data['aa1'] == 'wt', 'score'])\n",
    "    as_data = as_data[as_data['aa2'] == 'A']\n",
    "    as_data = as_data.astype({'u_pos': int, 'position': int}).rename(columns={'score': 'AS_score'})\n",
    "    as_data['AS_score'] = (as_data['AS_score'] - nons) / (wts - nons)  # Normalize.\n",
    "    norm_as.append(as_data)\n",
    "    \n",
    "norm_as = pd.concat(norm_as, ignore_index=True)\n",
    "#norm_as.to_csv('../data/normalized/as_data_221024.csv')"
   ]
  },
  {
   "cell_type": "markdown",
   "id": "a9926157",
   "metadata": {},
   "source": [
    "# DMS-AS correlation"
   ]
  },
  {
   "cell_type": "markdown",
   "id": "467c9e6d",
   "metadata": {},
   "source": [
    "We then calculate the Spearman's correlation between each DMS-AS pair.  \n",
    "\n",
    "We first merge (map) each DMS and AS data by protein positions, and add information about the DMS-AS pair.\n",
    "\n",
    "Then the correlation and regularized correlation values are calculate between __AS scores__ and __DMS scores of alanine substitutions__."
   ]
  },
  {
   "cell_type": "code",
   "execution_count": 295,
   "id": "061f791c",
   "metadata": {},
   "outputs": [],
   "source": [
    "# Merge in a cartesian product way.\n",
    "dms_all_as = pd.merge(demask_dms, norm_as[['uniprot_id', 'u_pos', 'Ascan_id', 'AS_score']], \n",
    "                      on=['uniprot_id', 'u_pos'], how='left')\n",
    "\n",
    "# Identifier for each DMS+AS combined dataset.\n",
    "dms_all_as['dmsa_id'] = dms_all_as['dms_id'] + '@' + dms_all_as['Ascan_id'].astype(str)\n",
    "dms_all_as['Ascan_score_avail'] = ~dms_all_as['AS_score'].isna()"
   ]
  },
  {
   "cell_type": "code",
   "execution_count": 322,
   "id": "ceb23f00",
   "metadata": {},
   "outputs": [],
   "source": [
    "corr_stat = []\n",
    "for dmsa, df in dms_all_as.groupby('dmsa_id'):\n",
    "    if dmsa[-4:] == '@nan':  # No AS data available.\n",
    "        continue\n",
    "        \n",
    "    df = df[df['aa2'] == 'A']\n",
    "    row = dict()\n",
    "    row['dmsa_id'] = dmsa\n",
    "    row['n_ala'] = len(df)\n",
    "    corr = spearmanr(df['score'], df['AS_score'])[0]\n",
    "    if np.isnan(corr):\n",
    "        # Impute missing value by 0 which is caused by only one or no alanine residue available.\n",
    "        row['ala_score_correlation'] = 0.\n",
    "    else:\n",
    "        row['ala_score_correlation'] = corr\n",
    "    row['regularized_correlation'] = (row['n_ala']-1) / (row['n_ala']+1) * row['ala_score_correlation']\n",
    "    corr_stat.append(row)\n",
    "    \n",
    "# Right merge: some DMS and AS data have no overlapping residues (e.g.: urn:mavedb:00000003-a-2@brca1_yeast_growth),\n",
    "# that should be removed.\n",
    "data_corr = pd.merge(data_info, pd.DataFrame(corr_stat), on='dmsa_id', how='right', validate='1:1')\n",
    "#data_corr.to_csv('../data/data_info/dms_as_info_221024.csv')"
   ]
  },
  {
   "cell_type": "markdown",
   "id": "6abea4f9",
   "metadata": {},
   "source": [
    "# Working data (TO BE REMOVED)"
   ]
  },
  {
   "cell_type": "markdown",
   "id": "dc69eb9f",
   "metadata": {},
   "source": [
    "## New check"
   ]
  },
  {
   "cell_type": "code",
   "execution_count": 293,
   "id": "d7731ae9",
   "metadata": {
    "scrolled": true
   },
   "outputs": [],
   "source": [
    "foo = pd.read_csv('../data/normalized/new_temp_normalized_dms_DeMaSk_features.csv', \n",
    "                  index_col=0, na_values=[''], keep_default_na=False)\n",
    "dms_map = {'temp_aicda': 'urn:mavedb:00000106-c-1', 'temp_jun': 'tmp:UCrl0vQc6AQv4KH4', \n",
    "           'temp_gb1': 'urn:mavedb:00000105-a-1', 'temp_brca1_starita2018': 'urn:mavedb:00000081-a-2'}\n",
    "foo = foo.replace(dms_map)\n",
    "pd.testing.assert_frame_equal(demask_dms.sort_values(['dms_id', 'position', 'aa2']).reset_index(drop=True)[foo.columns], \n",
    "                              foo.sort_values(['dms_id', 'position', 'aa2']).reset_index(drop=True))"
   ]
  },
  {
   "cell_type": "markdown",
   "id": "c1bfb639",
   "metadata": {},
   "source": [
    "## MaveDB source"
   ]
  },
  {
   "cell_type": "code",
   "execution_count": 3,
   "id": "1201de74",
   "metadata": {},
   "outputs": [],
   "source": [
    "dms_data = []\n",
    "\n",
    "root = '/Users/fu.j/AnacondaProjects/Project_3_extrapolation_model/data/dms_data/normalized_data/version_221005/uniprot_mapped/'\n",
    "files = os.listdir(root)\n",
    "files.sort()\n",
    "for file_name in files:\n",
    "    if file_name in ['.DS_Store']:\n",
    "        continue    \n",
    "    dms_data.append(pd.read_csv(f\"{root}{file_name}\", index_col=0))\n",
    "dms_data = pd.concat(dms_data)"
   ]
  },
  {
   "cell_type": "markdown",
   "id": "482829fb",
   "metadata": {},
   "source": [
    "## Local"
   ]
  },
  {
   "cell_type": "code",
   "execution_count": 7,
   "id": "de686b4b",
   "metadata": {},
   "outputs": [],
   "source": [
    "import re\n",
    "sys.path.append('/Users/fu.j/PycharmProjects/FirstPyCharm/')\n",
    "import mavedb_tool.mavedb_tool as mtool\n",
    "\n",
    "\n",
    "def annotate_single_mutation(urn_data):\n",
    "    if_single = []\n",
    "    pos_list = []\n",
    "    aa1_list = []\n",
    "    aa2_list = []\n",
    "    mut_type = []\n",
    "    for mutation in urn_data[\"hgvs_pro\"]:\n",
    "        # Remove multiple mutation (e.g.: p.[...]), uncertain mutation (e.g.: p.Met1?), stoploss \n",
    "        # variant (e.g.: p.Ter...) and deletion-insertion (e.g.: p.Cys28delinsTrpVal).\n",
    "        found = re.search(\"delins\", mutation)\n",
    "        if (\n",
    "            (mutation[-1] == \"]\")\n",
    "            | (mutation[-1] == \"?\")\n",
    "            | (mutation[2:5] == \"Ter\")\n",
    "            | (found is not None)\n",
    "        ):\n",
    "            pos_list.append(\"np.nan\")\n",
    "            aa1_list.append(\"np.nan\")\n",
    "            aa2_list.append(\"np.nan\")\n",
    "            mut_type.append(\"np.nan\")\n",
    "\n",
    "        else:  # Single mutation.\n",
    "            aa1 = mtool.par.AMINO_ACID_SINGLE.get(mutation[2:5], \"np.nan\")\n",
    "            aa1_list.append(aa1)\n",
    "            # Synonymous mutation / no change. e.g.: p.=, p.Met1=, p.(=), _wt, _sy.\n",
    "            # Refs: https://www.mavedb.org/docs/mavehgvs/spec.html\n",
    "            # https://www.hgvs.org/mutnomen/recs-prot.html\n",
    "            if (mutation[-1] == \"=\") | (mutation in ['p.(=)', '_wt', '_sy']):  \n",
    "                if len(mutation) >= 6:\n",
    "                    pos_list.append(\n",
    "                        int(mutation[5:-1])\n",
    "                    )  # Set to int for checking and sorting.\n",
    "                else:\n",
    "                    pos_list.append(\"np.nan\")\n",
    "                aa2_list.append(aa1)\n",
    "                mut_type.append(\"synonymous\")\n",
    "            elif mutation[-1] == \"*\":  # Nonsense mutation.\n",
    "                pos_list.append(int(mutation[5:-1]))\n",
    "                aa2_list.append(\"Ter\")\n",
    "                mut_type.append(\"nonsense\")\n",
    "            elif mutation[-3:] == \"Ter\":  # Nonsense mutation.\n",
    "                pos_list.append(int(mutation[5:-3]))\n",
    "                aa2_list.append(\"Ter\")\n",
    "                mut_type.append(\"nonsense\")\n",
    "            elif mutation[-3:] == \"del\":  # Deletion.\n",
    "                try:\n",
    "                    pos_list.append(int(mutation[5:-3]))\n",
    "                except ValueError:  # Example: p.Arg189_Lys190del.\n",
    "                    print(\"Not recognised deletion:\", mutation)\n",
    "                    pos_list.append(\"np.nan\")\n",
    "                aa2_list.append(\"del\")\n",
    "                mut_type.append(\"deletion\")\n",
    "            elif re.search(\"fs\", mutation):  # Frame shift.\n",
    "                try:\n",
    "                    pos_list.append(int(mutation[5:-2]))\n",
    "                except ValueError:  # Example: p.Asn234Thrfs*5.\n",
    "                    print(\"Not recognised frame shift:\", mutation)\n",
    "                    pos_list.append(\"np.nan\")\n",
    "                aa2_list.append(\"fs\")\n",
    "                mut_type.append(\"frame shift\")\n",
    "            else:  # Missense mutation\n",
    "                pos_list.append(int(mutation[5:-3]))\n",
    "                aa2 = mtool.par.AMINO_ACID_SINGLE[mutation[-3:]]\n",
    "                aa2_list.append(aa2)\n",
    "                if aa1 != aa2:\n",
    "                    mut_type.append(\"missense\")\n",
    "                else:\n",
    "                    mut_type.append(\"synonymous\")  # This can happen.\n",
    "\n",
    "    # Assign first then select, in case it is miss matched.\n",
    "    urn_data[\"position\"] = pos_list\n",
    "    urn_data[\"aa1\"] = aa1_list\n",
    "    urn_data[\"aa2\"] = aa2_list\n",
    "    urn_data[\"mut_type\"] = mut_type\n",
    "    return urn_data\n",
    "\n",
    "\n",
    "def convert_mavedb_to_dms(mavedb_data, dms_id):\n",
    "    mavedb_data = mtool.par.clean_scores(mavedb_data)\n",
    "    mavedb_data = annotate_single_mutation(mavedb_data)\n",
    "    mavedb_data[\"dms_id\"] = dms_id\n",
    "\n",
    "    mavedb_data.index = (\n",
    "        mavedb_data[\"dms_id\"]\n",
    "        + \"_\"\n",
    "        + mavedb_data[\"position\"].astype(str)\n",
    "        + \"_\"\n",
    "        + mavedb_data[\"aa2\"]\n",
    "    )\n",
    "    # Test if indices for missense variants are unique.\n",
    "    if len(mavedb_data.query(\"mut_type=='missense'\")) != len(mavedb_data.query(\"mut_type=='missense'\").index.unique()):\n",
    "        raise Exception(\"Index is not unique!\")\n",
    "    return mavedb_data[[\"score\", \"dms_id\", \"position\", \"aa1\", \"aa2\", \"mut_type\", \"hgvs_pro\"]]"
   ]
  },
  {
   "cell_type": "code",
   "execution_count": 11,
   "id": "ed4fab20",
   "metadata": {},
   "outputs": [],
   "source": [
    "def get_wildtype_score(conv_mave):\n",
    "    syn_data = conv_mave.query(\"mut_type=='synonymous'\")\n",
    "    syn_hgvs = syn_data['hgvs_pro'].unique()\n",
    "    if len(syn_data) == 0:\n",
    "        return np.nan\n",
    "    for syn_label in ['p.=', 'p.(=)', '_wt', '_sy']:\n",
    "        if syn_label in syn_hgvs:\n",
    "            # Should be one row or the same.\n",
    "            wt_score = syn_data.query(\"hgvs_pro == @syn_label\").iloc[0]['score']\n",
    "            return wt_score\n",
    "    \n",
    "    # Synonymous mutations are measured on each codon.\n",
    "    wt_score = syn_data['score'].median()\n",
    "    return wt_score\n",
    "\n",
    "\n",
    "def normalize_score(work_data, wt_score, non_score):\n",
    "    # Version 220307\n",
    "    df = work_data.copy()\n",
    "    if non_score == 'positive':\n",
    "        lower_bound = df['score'].sort_values(ascending=False).iloc[:int(len(df) * 0.01)+1].median()  # Plus 1 to avoid small datset.\n",
    "    elif non_score == 'negative':\n",
    "        lower_bound = df['score'].sort_values().iloc[:int(len(df) * 0.01)+1].median()  # Plus 1 to avoid small datset.\n",
    "    else:\n",
    "        raise ValueError(f\"Wrong non_score input: {non_score}\")\n",
    "    df['score'] = 1 - (df['score'] - wt_score) / (lower_bound - wt_score)\n",
    "    return df"
   ]
  },
  {
   "cell_type": "code",
   "execution_count": 84,
   "id": "9ac0808f",
   "metadata": {},
   "outputs": [],
   "source": [
    "def get_protein_seq_from_uniprot(uniprot_id):\n",
    "    # 221005 version.\n",
    "    with open(f\"/Users/fu.j/AnacondaProjects/Project_2_Enlarged_data/Uniprot_data/{uniprot_id}.fasta\", 'r') as file:\n",
    "        str_seq = file.read()\n",
    "    str_seq = ''.join(str_seq.split('\\n')[1:-1])\n",
    "    pro_seq = pd.Series(dict(zip(np.arange(len(str_seq))+1, str_seq)))\n",
    "    return pro_seq\n",
    "\n",
    "\n",
    "def correct_mismatch_seq(dms_id, dms_seq, pro_seq):\n",
    "    mapped_dms_seq = dms_seq.copy()\n",
    "    mapped_res = []\n",
    "    print(f\"MISMATCH FOUND IN {dms_id}:\")\n",
    "    for i, upos_res in enumerate(mapped_dms_seq.index):\n",
    "        if mapped_dms_seq[upos_res] != pro_seq[upos_res]:\n",
    "            print(f\"Deleting: Residue {upos_res}. DMS wildtype: {dms_seq[upos_res]}. UniProt wildtype: {pro_seq[upos_res]}\")\n",
    "            mapped_dms_seq[upos_res] = '-'\n",
    "        else:\n",
    "            mapped_res.append(upos_res)\n",
    "    print('Corrected DMS seq.: >',''.join(mapped_dms_seq))\n",
    "    print('*'*80)\n",
    "    return mapped_res"
   ]
  },
  {
   "cell_type": "code",
   "execution_count": 17,
   "id": "57075cef",
   "metadata": {},
   "outputs": [],
   "source": [
    "root = '/Users/fu.j/AnacondaProjects/Project_3_extrapolation_model/new_dms/MAVEdb_share_box/'\n",
    "files = {'temp_jun': 'Diss2018_JUN&FOS/formatted/jun_sav_score.csv',\n",
    "         'temp_aicda': 'Gajula2014_AICDA/formatted/aicda_G3_score.csv',\n",
    "         'temp_gb1': 'Olson2014_GB1/mavedb_format/gb1_score.csv',\n",
    "         'temp_brca1_starita2018': 'Starita2018_BRCA1/formatted/brca1_trial_score.csv'}"
   ]
  },
  {
   "cell_type": "code",
   "execution_count": 18,
   "id": "8a393088",
   "metadata": {},
   "outputs": [],
   "source": [
    "# Correction: supported by MaveDB method section that the synonymous scores are 0 centered.\n",
    "#dms_wt_score['urn:mavedb:00000054-a-1'] = 0\n",
    "\n",
    "defined_wt_scores = {'urn:mavedb:00000004-a-1': 0,  # Indicated by score calculation.\n",
    "                     'urn:mavedb:00000010-a-1': 1,  # Defined by the paper.\n",
    "                     'urn:mavedb:00000012-a-1': 0,  # Indicated by score calculation.\n",
    "                     'urn:mavedb:00000012-a-2': 0,  # Indicated by score calculation.,\n",
    "                     'urn:mavedb:00000012-a-3': 0,  # Indicated by score calculation.,\n",
    "                     'urn:mavedb:00000012-a-4': 0,  # Indicated by score calculation.,\n",
    "                     'urn:mavedb:00000012-a-5': 0,  # Indicated by score calculation.,\n",
    "                     'urn:mavedb:00000012-a-6': 0,  # Indicated by score calculation.,\n",
    "                     'urn:mavedb:00000041-a-1': 0,  # Defined by the paper.\n",
    "                     'urn:mavedb:00000041-b-1': 0,  # Defined by the paper.\n",
    "                     'urn:mavedb:00000053-a-2': 0,  # Defined by the paper.\n",
    "                     'urn:mavedb:00000060-a-1': 0,  # Defined by the paper.\n",
    "                     'urn:mavedb:00000060-a-2': 0,  # Defined by the paper.\n",
    "                     'urn:mavedb:00000062-b-1': 0.7050428,  # Taken from urn:mavedb:00000062-a-1\n",
    "                     'urn:mavedb:00000077-b-1': 0,  # Indicated by score calculation.\n",
    "                     'urn:mavedb:00000079-a-1': 0,  # Indicated by score calculation.\n",
    "                     'urn:mavedb:00000086-a-1': 0,  # Defined by the paper.\n",
    "                     'urn:mavedb:00000086-b-1': 0,  # Defined by the paper.\n",
    "                     'urn:mavedb:00000086-c-1': 0,  # Defined by the paper.\n",
    "                     'urn:mavedb:00000086-d-1': 0,  # Defined by the paper.\n",
    "                     'urn:mavedb:00000086-e-1': 0,  # Defined by the paper.\n",
    "                     'urn:mavedb:00000086-f-1': 0,  # Defined by the paper.\n",
    "                     'urn:mavedb:00000086-g-1': 0,  # Defined by the paper.\n",
    "                     'temp_brca1_starita2018': 0,  # Indicated by score calculation.\n",
    "                     'temp_jun': 1,  # Indicated by score calculation.\n",
    "                     }\n",
    "#dms_wt_score = {**dms_wt_score, **defined_wt_scores}"
   ]
  },
  {
   "cell_type": "code",
   "execution_count": 19,
   "id": "850a70f7",
   "metadata": {},
   "outputs": [],
   "source": [
    "# Nonsense-like variants in the following DMS data have positive scores, either identified according \n",
    "# to assay setup or directly from scores of nonsense variants.\n",
    "positive_loss = ['urn:mavedb:00000041-a-1', 'urn:mavedb:00000041-b-1', 'urn:mavedb:00000045-a-1', \n",
    "                 'urn:mavedb:00000045-b-1', 'urn:mavedb:00000045-c-1', 'urn:mavedb:00000045-d-1', \n",
    "                 'urn:mavedb:00000045-e-1', 'urn:mavedb:00000045-f-1', 'urn:mavedb:00000045-g-1', \n",
    "                 'urn:mavedb:00000045-h-1', 'urn:mavedb:00000045-i-1', 'urn:mavedb:00000045-j-1', \n",
    "                 'urn:mavedb:00000045-k-1', 'urn:mavedb:00000045-l-1', 'urn:mavedb:00000051-a-1', \n",
    "                 'urn:mavedb:00000051-b-1', 'urn:mavedb:00000060-a-1', 'urn:mavedb:00000060-a-2', \n",
    "                 'urn:mavedb:00000076-a-1', 'urn:mavedb:00000076-b-1', 'urn:mavedb:00000076-c-1', \n",
    "                 'urn:mavedb:00000076-e-1', 'urn:mavedb:00000051-c-1', 'urn:mavedb:00000058-a-1', \n",
    "                 'urn:mavedb:00000059-a-1', 'urn:mavedb:00000068-b-1']"
   ]
  },
  {
   "cell_type": "code",
   "execution_count": 20,
   "id": "eea08efd",
   "metadata": {},
   "outputs": [
    {
     "name": "stdout",
     "output_type": "stream",
     "text": [
      "temp_jun converting\n",
      "temp_aicda converting\n",
      "temp_gb1 converting\n",
      "temp_brca1_starita2018 converting\n"
     ]
    }
   ],
   "source": [
    "convert_data = dict()\n",
    "for dms, file_name in files.items():\n",
    "    print(f\"{dms} converting\")\n",
    "    mave_data =pd.read_csv(f\"{root}{file_name}\")\n",
    "    convert_data[dms] = convert_mavedb_to_dms(mave_data[['hgvs_pro', 'score']], dms)"
   ]
  },
  {
   "cell_type": "code",
   "execution_count": 82,
   "id": "ba70b860",
   "metadata": {
    "scrolled": true
   },
   "outputs": [
    {
     "name": "stdout",
     "output_type": "stream",
     "text": [
      "temp_jun\n"
     ]
    },
    {
     "data": {
      "image/png": "[encoded data removed]",
      "text/plain": [
       "<Figure size 432x288 with 1 Axes>"
      ]
     },
     "metadata": {
      "needs_background": "light"
     },
     "output_type": "display_data"
    },
    {
     "name": "stdout",
     "output_type": "stream",
     "text": [
      "temp_aicda\n"
     ]
    },
    {
     "data": {
      "image/png": "[encoded data removed]",
      "text/plain": [
       "<Figure size 432x288 with 1 Axes>"
      ]
     },
     "metadata": {
      "needs_background": "light"
     },
     "output_type": "display_data"
    },
    {
     "name": "stdout",
     "output_type": "stream",
     "text": [
      "temp_brca1_starita2018\n"
     ]
    },
    {
     "data": {
      "image/png": "[encoded data removed]",
      "text/plain": [
       "<Figure size 432x288 with 1 Axes>"
      ]
     },
     "metadata": {
      "needs_background": "light"
     },
     "output_type": "display_data"
    }
   ],
   "source": [
    "normed_data = dict()\n",
    "for dms_id, input_data in convert_data.items():\n",
    "    # Should be specially normalised due to the scoring methods.\n",
    "    if dms_id in ['temp_gb1']: \n",
    "        continue\n",
    "        \n",
    "    # Set wildtype-like and nonsense-variant-like scores.\n",
    "    wt_score = get_wildtype_score(input_data)\n",
    "    if np.isnan(wt_score):\n",
    "        wt_score = defined_wt_scores[dms_id]\n",
    "    if dms_id in positive_loss:\n",
    "        non_score = 'positive'\n",
    "    else:\n",
    "        non_score = 'negative'\n",
    "        \n",
    "    data = input_data.query(\"mut_type == 'missense'\").copy()\n",
    "    data = normalize_score(data, wt_score, non_score)\n",
    "    normed_data[dms_id] = data\n",
    "    \n",
    "    print(dms_id)\n",
    "    sns.distplot(data['score'], label='score distribution')\n",
    "    plt.legend()\n",
    "    plt.show()"
   ]
  },
  {
   "cell_type": "code",
   "execution_count": 83,
   "id": "2dedacc5",
   "metadata": {},
   "outputs": [
    {
     "name": "stdout",
     "output_type": "stream",
     "text": [
      "temp_gb1\n"
     ]
    },
    {
     "data": {
      "image/png": "[encoded data removed]",
      "text/plain": [
       "<Figure size 432x288 with 1 Axes>"
      ]
     },
     "metadata": {
      "needs_background": "light"
     },
     "output_type": "display_data"
    }
   ],
   "source": [
    "dms_id = 'temp_gb1'\n",
    "input_data = convert_data[dms_id]\n",
    "\n",
    "data = input_data.query(\"mut_type == 'missense'\").copy()\n",
    "data['score'] = np.log(data['score'])  # The scores are not log-transformed but most other DMS data are.\n",
    "wt_score = 0  # Indicated by score calculation (original: 1, logged: 0).\n",
    "non_score = 'negative'\n",
    "data = normalize_score(data, wt_score, non_score)\n",
    "normed_data[dms_id] = data\n",
    "\n",
    "print(dms_id)\n",
    "sns.distplot(data['score'], label='score distribution')\n",
    "plt.legend()\n",
    "plt.show()"
   ]
  },
  {
   "cell_type": "code",
   "execution_count": 105,
   "id": "a4cb5024",
   "metadata": {},
   "outputs": [],
   "source": [
    "unip_info = pd.DataFrame({'temp_jun': [276, 'P05412'],\n",
    "         'temp_aicda': [0, 'Q9GZX7'],\n",
    "         'temp_gb1': [227, 'P06654'],\n",
    "         'temp_brca1_starita2018': [0, 'P38398']}, index=['offset', 'uniprot_id']).T"
   ]
  },
  {
   "cell_type": "code",
   "execution_count": 109,
   "id": "ea3b2b96",
   "metadata": {
    "scrolled": true
   },
   "outputs": [
    {
     "name": "stdout",
     "output_type": "stream",
     "text": [
      "PERFECT MATCH FOR temp_jun\n",
      "********************************************************************************\n",
      "PERFECT MATCH FOR temp_aicda\n",
      "********************************************************************************\n",
      "PERFECT MATCH FOR temp_brca1_starita2018\n",
      "********************************************************************************\n",
      "MISMATCH FOUND IN temp_gb1:\n",
      "Deleting: Residue 228. DMS wildtype: Q. UniProt wildtype: T\n",
      "Corrected DMS seq.: > -YKLILNGKTLKGETTTEAVDAATAEKVFKQYANDNGVDGEWTYDDATKTFTVTE\n",
      "********************************************************************************\n"
     ]
    }
   ],
   "source": [
    "mapped_data = []\n",
    "for dms_id, input_data in normed_data.items():\n",
    "    # Set UniProt positions.\n",
    "    unip = unip_info.loc[dms_id]['uniprot_id']\n",
    "    offset = int(unip_info.loc[dms_id]['offset'])\n",
    "    data = input_data.copy()\n",
    "    data['uniprot_id'] = unip\n",
    "    data['u_pos'] = data['position'].astype(int) + offset\n",
    "    \n",
    "    # Check if DMS indicated protein sequence conforms with UniProt sequence.\n",
    "    pro_seq = get_protein_seq_from_uniprot(unip)\n",
    "    dms_seq = data.groupby('u_pos')['aa1'].first()\n",
    "    if any(dms_seq != pro_seq.loc[dms_seq.index]):\n",
    "        mapped_res = correct_mismatch_seq(dms_id, dms_seq, pro_seq)\n",
    "        data = data[data['u_pos'].isin(mapped_res)]  # Drop wild type mismatched positions.\n",
    "    else:\n",
    "        print(f\"PERFECT MATCH FOR {dms_id}\")\n",
    "        print('*'*80)\n",
    "    \n",
    "    mapped_data.append(data)"
   ]
  },
  {
   "cell_type": "code",
   "execution_count": 111,
   "id": "0b17d900",
   "metadata": {},
   "outputs": [],
   "source": [
    "dms_data = pd.concat([dms_data]+mapped_data)"
   ]
  },
  {
   "cell_type": "markdown",
   "id": "efafac6c",
   "metadata": {},
   "source": [
    "## DeMaSk feature"
   ]
  },
  {
   "cell_type": "code",
   "execution_count": 124,
   "id": "e8775946",
   "metadata": {},
   "outputs": [],
   "source": [
    "feat_dms = []\n",
    "for unip, prot_data in dms_data.groupby('uniprot_id'):\n",
    "    feat_data = pd.read_csv(f\"../data/feature/demask/{unip}.txt\")\n",
    "    featured_data = pd.merge(prot_data, feat_data, left_on=['u_pos', 'aa1', 'aa2'], \n",
    "                             right_on=['pos', 'WT', 'var'], how='left', \n",
    "                             suffixes=['', '_online_pred'])\n",
    "    featured_data['sub_type'] = featured_data['aa1'] + featured_data['aa2']\n",
    "    feat_dms.append(featured_data)\n",
    "feat_dms = pd.concat(feat_dms)"
   ]
  },
  {
   "cell_type": "code",
   "execution_count": null,
   "id": "71d46d2f",
   "metadata": {},
   "outputs": [],
   "source": [
    "feat_dms = feat_dms[['dms_id', 'position', 'aa2', 'aa1', 'entropy', 'log2f_var', 'matrix', 'score', \n",
    "                     'sub_type', 'u_pos', 'uniprot_id']].reset_index(drop=True)\n",
    "#feat_dms.to_csv('../data/normalized/new_temp_normalized_dms_DeMaSk_features.csv')"
   ]
  },
  {
   "cell_type": "markdown",
   "id": "9044101a",
   "metadata": {},
   "source": [
    "## Info data temp replacement"
   ]
  },
  {
   "cell_type": "code",
   "execution_count": 348,
   "id": "7b0ac497",
   "metadata": {},
   "outputs": [],
   "source": [
    "dmsa_info = pd.read_csv('/Users/fu.j/AnacondaProjects/Project_3_extrapolation_model/data/as_data/221007/221010_compatibility.csv', index_col=0)"
   ]
  },
  {
   "cell_type": "code",
   "execution_count": 349,
   "id": "3a0a78a4",
   "metadata": {},
   "outputs": [],
   "source": [
    "replace = {'aicda-g3': 'temp_aicda',\n",
    "           'brca1-starita2018': 'temp_brca1_starita2018',\n",
    "           'gb1': 'temp_gb1',\n",
    "           'jun-full-trans': 'temp_jun'}\n",
    "dmsa_info.dms_id = dmsa_info.dms_id.replace(replace)\n",
    "dmsa_info['dmsa_id'] = dmsa_info['dms_id'] + '@' + dmsa_info['Ascan_id']\n",
    "dmsa_info = dmsa_info[['uniprot_id', 'dms_id', 'protein_name', 'dms_name', 'Ascan_id', 'dmsa_id', 'assumed_compatibility']]"
   ]
  },
  {
   "cell_type": "code",
   "execution_count": 350,
   "id": "3271e239",
   "metadata": {},
   "outputs": [],
   "source": [
    "curated_dmsa = pd.read_csv('/Users/fu.j/AnacondaProjects/Project_3_extrapolation_model/data/as_data/221007/temp_extra_dmsa.csv')\n",
    "curated_dmsa = curated_dmsa[['uniprot_id', 'dms_id', 'protein_name', 'dms_name', 'Ascan_id', 'dmsa_id', 'assumed_compatibility']]\n",
    "curated_ids = curated_dmsa.dmsa_id\n",
    "dmsa_info = pd.concat([dmsa_info.query(\"dmsa_id not in @curated_ids\"), curated_dmsa], ignore_index=True)"
   ]
  },
  {
   "cell_type": "markdown",
   "id": "0768db86",
   "metadata": {},
   "source": [
    "## Move Envision data"
   ]
  },
  {
   "cell_type": "code",
   "execution_count": 339,
   "id": "0e691940",
   "metadata": {
    "scrolled": true
   },
   "outputs": [
    {
     "name": "stderr",
     "output_type": "stream",
     "text": [
      "/Users/fu.j/.conda/envs/ala_proj_finalize/lib/python3.6/site-packages/ipykernel_launcher.py:3: FutureWarning: Sorting because non-concatenation axis is not aligned. A future version\n",
      "of pandas will change to not sort by default.\n",
      "\n",
      "To accept the future behavior, pass 'sort=False'.\n",
      "\n",
      "To retain the current behavior and silence the warning, pass 'sort=True'.\n",
      "\n",
      "  This is separate from the ipykernel package so we can avoid doing imports until\n",
      "/Users/fu.j/.conda/envs/ala_proj_finalize/lib/python3.6/site-packages/IPython/core/interactiveshell.py:3072: DtypeWarning: Columns (25,26) have mixed types. Specify dtype option on import or set low_memory=False.\n",
      "  interactivity=interactivity, compiler=compiler, result=result)\n"
     ]
    },
    {
     "name": "stdout",
     "output_type": "stream",
     "text": [
      "CALM1 P0DP23\n",
      "Cohesin-Cc Q06851\n",
      "Cohesin-Ct B8I7V0\n",
      "DHFR P0ABQ4\n",
      "Dlg4 P31016\n",
      "FIS1 P40515\n",
      "HSP90 P02829\n",
      "LamB P02943\n",
      "PyKS A0A3G4RHW3_ATRBE\n",
      "TEM-1 P62593\n",
      "avGFP P42212\n",
      "GB1 P06654\n"
     ]
    }
   ],
   "source": [
    "unip_proname_map = data_info.groupby('uniprot_id')['protein_name'].first()\n",
    "\n",
    "foo = pd.concat(mapped_data.values(), ignore_index=True)\n",
    "for unip in foo.uniprot_id.unique():\n",
    "    try:\n",
    "        pro_data = pd.read_csv(f\"/Users/fu.j/AnacondaProjects/Project_2_Enlarged_data/Envision_feature/{unip}_envisionData.csv\", \n",
    "                    index_col=0)\n",
    "        #pro_data.to_csv(f\"../data/raw/protein_feature/envision/{unip}_envisionData.csv\")\n",
    "    except FileNotFoundError:\n",
    "        print(unip_proname_map[unip], unip)"
   ]
  },
  {
   "cell_type": "markdown",
   "id": "1967b57d",
   "metadata": {},
   "source": [
    "## Compare Envision features"
   ]
  },
  {
   "cell_type": "code",
   "execution_count": 616,
   "id": "9d0dcc72",
   "metadata": {
    "scrolled": true
   },
   "outputs": [
    {
     "name": "stderr",
     "output_type": "stream",
     "text": [
      "/Users/fu.j/.conda/envs/ala_proj_finalize/lib/python3.6/site-packages/IPython/core/interactiveshell.py:3072: DtypeWarning: Columns (22,27) have mixed types. Specify dtype option on import or set low_memory=False.\n",
      "  interactivity=interactivity, compiler=compiler, result=result)\n",
      "/Users/fu.j/.conda/envs/ala_proj_finalize/lib/python3.6/site-packages/IPython/core/interactiveshell.py:3072: DtypeWarning: Columns (25,26) have mixed types. Specify dtype option on import or set low_memory=False.\n",
      "  interactivity=interactivity, compiler=compiler, result=result)\n"
     ]
    }
   ],
   "source": [
    "old = pd.read_csv('../data/normalized/normalized_dms_Envision_features.csv', \n",
    "                  index_col=0, na_values=[''], keep_default_na=False)\n",
    "new = pd.read_csv('../data/normalized/dms_Envision_features_221024.csv', \n",
    "                  index_col=0, na_values=[''], keep_default_na=False)"
   ]
  },
  {
   "cell_type": "code",
   "execution_count": 617,
   "id": "324bbe70",
   "metadata": {},
   "outputs": [
    {
     "name": "stdout",
     "output_type": "stream",
     "text": [
      "set()\n",
      "{'mut_type', 'pos_id'}\n"
     ]
    }
   ],
   "source": [
    "print(set(new.columns) - set(old.columns))\n",
    "print(set(old.columns) - set(new.columns))\n",
    "old = old[new.columns]"
   ]
  },
  {
   "cell_type": "code",
   "execution_count": 618,
   "id": "46b26b1e",
   "metadata": {},
   "outputs": [
    {
     "name": "stdout",
     "output_type": "stream",
     "text": [
      "['urn:mavedb:00000005-a-5' 'urn:mavedb:00000005-a-6'\n",
      " 'urn:mavedb:00000035-a-1-exp' 'urn:mavedb:00000035-a-2-exp'\n",
      " 'urn:mavedb:00000035-a-3-exp' 'urn:mavedb:00000036-a-1-exp'\n",
      " 'urn:mavedb:00000036-a-2-exp' 'urn:mavedb:00000049-a-1-exp'\n",
      " 'urn:mavedb:00000049-a-4-exp' 'urn:mavedb:00000049-a-6-exp']\n",
      "['urn:mavedb:00000005-a-1' 'urn:mavedb:00000005-a-2'\n",
      " 'urn:mavedb:00000035-a-1' 'urn:mavedb:00000035-a-2'\n",
      " 'urn:mavedb:00000035-a-3' 'urn:mavedb:00000036-a-1'\n",
      " 'urn:mavedb:00000036-a-2' 'urn:mavedb:00000049-a-1'\n",
      " 'urn:mavedb:00000049-a-4' 'urn:mavedb:00000049-a-6']\n"
     ]
    }
   ],
   "source": [
    "data = pd.read_excel('/Users/fu.j/Documents/Manual_results/Dataset_archive.xlsx', sheet_name='DMS')\n",
    "data = data[data['uniprot_id'].notna()]\n",
    "dms_urn_map = data.query(\"mavedb_urn!=dms_id\").groupby('dms_id')['mavedb_urn'].first()\n",
    "dms_urn_map['jun-full-trans'] = 'tmp:UCrl0vQc6AQv4KH4'\n",
    "\n",
    "old = old.query(\"uniprot_id not in ['P06654', 'P02829', 'P62593', 'P31016']\")\n",
    "old.dms_id = old.dms_id.replace(dms_urn_map)\n",
    "rm_new = np.sort(list(set(new.dms_id.unique()) - set(old.dms_id.unique())))\n",
    "print(rm_new)\n",
    "new = new.query(\"dms_id not in @rm_new\").sort_values(['dms_id', 'u_pos', 'aa2']).reset_index(drop=True)\n",
    "rm_old = np.sort(list(set(old.dms_id.unique()) - set(new.dms_id.unique())))\n",
    "print(rm_old)\n",
    "old = old.query(\"dms_id not in @rm_old\").sort_values(['dms_id', 'u_pos', 'aa2']).reset_index(drop=True)"
   ]
  },
  {
   "cell_type": "code",
   "execution_count": 619,
   "id": "cf3dbae6",
   "metadata": {
    "scrolled": true
   },
   "outputs": [
    {
     "name": "stdout",
     "output_type": "stream",
     "text": [
      "tmp:UCrl0vQc6AQv4KH4\n",
      "urn:mavedb:00000001-a-2\n",
      "urn:mavedb:00000001-a-3\n",
      "urn:mavedb:00000001-b-2\n",
      "urn:mavedb:00000001-d-1\n",
      "urn:mavedb:00000002-a-2\n",
      "urn:mavedb:00000004-a-1\n",
      "urn:mavedb:00000010-a-1\n",
      "urn:mavedb:00000012-a-1\n",
      "urn:mavedb:00000012-a-2\n",
      "urn:mavedb:00000012-a-3\n",
      "urn:mavedb:00000012-a-4\n",
      "urn:mavedb:00000012-a-5\n",
      "urn:mavedb:00000012-a-6\n",
      "urn:mavedb:00000013-a-1\n",
      "urn:mavedb:00000013-b-1\n",
      "urn:mavedb:00000037-a-1\n",
      "urn:mavedb:00000038-b-1\n",
      "urn:mavedb:00000038-b-2\n",
      "urn:mavedb:00000041-a-1\n",
      "urn:mavedb:00000041-b-1\n",
      "urn:mavedb:00000043-a-1\n",
      "urn:mavedb:00000045-a-1\n",
      "urn:mavedb:00000045-b-1\n",
      "urn:mavedb:00000045-c-1\n",
      "urn:mavedb:00000045-d-1\n",
      "urn:mavedb:00000045-e-1\n",
      "urn:mavedb:00000045-f-1\n",
      "urn:mavedb:00000045-g-1\n",
      "urn:mavedb:00000045-h-1\n",
      "urn:mavedb:00000045-i-1\n",
      "urn:mavedb:00000045-j-1\n",
      "urn:mavedb:00000045-k-1\n",
      "urn:mavedb:00000045-l-1\n",
      "urn:mavedb:00000046-a-1\n",
      "urn:mavedb:00000047-a-1\n",
      "urn:mavedb:00000047-b-1\n",
      "urn:mavedb:00000047-c-1\n",
      "urn:mavedb:00000048-a-1\n",
      "urn:mavedb:00000048-b-1\n",
      "urn:mavedb:00000048-c-1\n",
      "urn:mavedb:00000049-a-7\n",
      "urn:mavedb:00000051-a-1\n",
      "urn:mavedb:00000051-b-1\n",
      "urn:mavedb:00000051-c-1\n",
      "urn:mavedb:00000052-a-1\n",
      "urn:mavedb:00000052-b-1\n",
      "urn:mavedb:00000053-a-2\n",
      "urn:mavedb:00000054-a-1\n",
      "urn:mavedb:00000055-a-1\n",
      "urn:mavedb:00000055-b-1\n",
      "urn:mavedb:00000057-a-1\n",
      "urn:mavedb:00000057-b-1\n",
      "urn:mavedb:00000057-c-1\n",
      "urn:mavedb:00000058-a-1\n",
      "urn:mavedb:00000059-a-1\n",
      "urn:mavedb:00000060-a-1\n",
      "urn:mavedb:00000060-a-2\n",
      "urn:mavedb:00000061-a-1\n",
      "urn:mavedb:00000061-b-1\n",
      "urn:mavedb:00000061-c-1\n",
      "urn:mavedb:00000061-d-1\n",
      "urn:mavedb:00000061-e-1\n",
      "urn:mavedb:00000061-f-1\n",
      "urn:mavedb:00000061-g-1\n",
      "urn:mavedb:00000061-h-1\n",
      "urn:mavedb:00000061-i-1\n",
      "urn:mavedb:00000062-a-1\n",
      "urn:mavedb:00000062-b-1\n",
      "urn:mavedb:00000065-a-1\n",
      "urn:mavedb:00000066-a-1\n",
      "urn:mavedb:00000067-a-1\n",
      "urn:mavedb:00000068-b-1\n",
      "urn:mavedb:00000068-c-1\n",
      "urn:mavedb:00000069-a-1\n",
      "urn:mavedb:00000078-a-1\n",
      "urn:mavedb:00000078-b-1\n",
      "urn:mavedb:00000081-a-2\n",
      "urn:mavedb:00000097-0-1\n",
      "urn:mavedb:00000106-c-1\n"
     ]
    }
   ],
   "source": [
    "for dms in new.dms_id.unique():\n",
    "    if dms in ['urn:mavedb:00000003-a-2', 'urn:mavedb:00000003-b-2', 'urn:mavedb:00000038-a-1']:\n",
    "        continue\n",
    "    print(dms)\n",
    "    new_dms = new.query(\"dms_id==@dms\").copy().reset_index(drop=True)\n",
    "    old_dms = old.query(\"dms_id==@dms\").copy().reset_index(drop=True)\n",
    "    new_dms = new_dms.astype({'position': float, 'aa1_weight': float, 'aa2_weight': float, 'deltaWeight': float})\n",
    "    new_dms = new_dms.drop(columns=['score', 'position'])\n",
    "    old_dms = old_dms.drop(columns=['score', 'position'])\n",
    "    pd.testing.assert_frame_equal(new_dms, old_dms)"
   ]
  },
  {
   "cell_type": "code",
   "execution_count": 620,
   "id": "b77d5bf1",
   "metadata": {},
   "outputs": [
    {
     "name": "stdout",
     "output_type": "stream",
     "text": [
      "urn:mavedb:00000003-a-2\n",
      "new 3701\n",
      "old 8558\n",
      "mave 4635\n",
      "urn:mavedb:00000003-b-2\n",
      "new 4132\n",
      "old 5880\n",
      "mave 4635\n",
      "urn:mavedb:00000038-a-1\n",
      "new 1380\n",
      "old 2465\n",
      "mave 1528\n"
     ]
    }
   ],
   "source": [
    "for dms in ['urn:mavedb:00000003-a-2', 'urn:mavedb:00000003-b-2', 'urn:mavedb:00000038-a-1']:\n",
    "    print(dms)\n",
    "    new_dms = new.query(\"dms_id==@dms\").copy().reset_index(drop=True)\n",
    "    print('new', len(new_dms))\n",
    "    old_dms = old.query(\"dms_id==@dms\").copy().reset_index(drop=True)\n",
    "    print('old', len(old_dms))\n",
    "    mave = pd.read_csv(f\"../data/raw/mavedb_data/{dms}.csv\", header=4)\n",
    "    print('mave', sum(mave[['hgvs_pro']].drop_duplicates()['hgvs_pro'].str[2]!='['))"
   ]
  },
  {
   "cell_type": "markdown",
   "id": "3acc9304",
   "metadata": {},
   "source": [
    "### paper derived"
   ]
  },
  {
   "cell_type": "code",
   "execution_count": 112,
   "id": "dc278aa8",
   "metadata": {},
   "outputs": [],
   "source": [
    "old = pd.read_csv('../data/normalized/normalized_dms_Envision_features.csv', \n",
    "                  index_col=0, na_values=[''], keep_default_na=False)\n",
    "new = pd.read_csv('../data/normalized/dms_Envision_features_extra_221027.csv', \n",
    "                  index_col=0, na_values=[''], keep_default_na=False)"
   ]
  },
  {
   "cell_type": "code",
   "execution_count": 113,
   "id": "de8cace0",
   "metadata": {},
   "outputs": [
    {
     "name": "stdout",
     "output_type": "stream",
     "text": [
      "set()\n",
      "{'mut_type', 'pos_id'}\n"
     ]
    }
   ],
   "source": [
    "print(set(new.columns) - set(old.columns))\n",
    "print(set(old.columns) - set(new.columns))\n",
    "old = old[new.columns]"
   ]
  },
  {
   "cell_type": "code",
   "execution_count": 114,
   "id": "ada8487b",
   "metadata": {},
   "outputs": [
    {
     "name": "stdout",
     "output_type": "stream",
     "text": [
      "['urn:mavedb:00000005-a-5' 'urn:mavedb:00000005-a-6'\n",
      " 'urn:mavedb:00000035-a-1-exp' 'urn:mavedb:00000035-a-2-exp'\n",
      " 'urn:mavedb:00000035-a-3-exp' 'urn:mavedb:00000036-a-1-exp'\n",
      " 'urn:mavedb:00000036-a-2-exp' 'urn:mavedb:00000049-a-1-exp'\n",
      " 'urn:mavedb:00000049-a-4-exp' 'urn:mavedb:00000049-a-6-exp']\n",
      "['urn:mavedb:00000005-a-1' 'urn:mavedb:00000005-a-2'\n",
      " 'urn:mavedb:00000035-a-1' 'urn:mavedb:00000035-a-2'\n",
      " 'urn:mavedb:00000035-a-3' 'urn:mavedb:00000036-a-1'\n",
      " 'urn:mavedb:00000036-a-2' 'urn:mavedb:00000049-a-1'\n",
      " 'urn:mavedb:00000049-a-4' 'urn:mavedb:00000049-a-6']\n"
     ]
    }
   ],
   "source": [
    "data = pd.read_excel('/Users/fu.j/Documents/Manual_results/Dataset_archive.xlsx', sheet_name='DMS')\n",
    "data = data[data['uniprot_id'].notna()]\n",
    "dms_urn_map = data.query(\"mavedb_urn!=dms_id\").groupby('dms_id')['mavedb_urn'].first()\n",
    "dms_urn_map['jun-full-trans'] = 'tmp:UCrl0vQc6AQv4KH4'\n",
    "\n",
    "old.dms_id = old.dms_id.replace(dms_urn_map)\n",
    "rm_new = np.sort(list(set(new.dms_id.unique()) - set(old.dms_id.unique())))\n",
    "print(rm_new)\n",
    "new = new.query(\"dms_id not in @rm_new\").sort_values(['dms_id', 'u_pos', 'aa2']).reset_index(drop=True)\n",
    "rm_old = np.sort(list(set(old.dms_id.unique()) - set(new.dms_id.unique())))\n",
    "print(rm_old)\n",
    "old = old.query(\"dms_id not in @rm_old\").sort_values(['dms_id', 'u_pos', 'aa2']).reset_index(drop=True)"
   ]
  },
  {
   "cell_type": "code",
   "execution_count": 116,
   "id": "3aa9743a",
   "metadata": {
    "scrolled": true
   },
   "outputs": [
    {
     "name": "stdout",
     "output_type": "stream",
     "text": [
      "tmp:UCrl0vQc6AQv4KH4\n",
      "urn:mavedb:00000001-a-2\n",
      "urn:mavedb:00000001-a-3\n",
      "urn:mavedb:00000001-b-2\n",
      "urn:mavedb:00000001-d-1\n",
      "urn:mavedb:00000002-a-2\n",
      "urn:mavedb:00000004-a-1\n",
      "urn:mavedb:00000010-a-1\n",
      "urn:mavedb:00000011-a-1\n",
      "urn:mavedb:00000012-a-1\n",
      "urn:mavedb:00000012-a-2\n",
      "urn:mavedb:00000012-a-3\n",
      "urn:mavedb:00000012-a-4\n",
      "urn:mavedb:00000012-a-5\n",
      "urn:mavedb:00000012-a-6\n",
      "urn:mavedb:00000013-a-1\n",
      "urn:mavedb:00000013-b-1\n",
      "urn:mavedb:00000037-a-1\n",
      "urn:mavedb:00000038-b-1\n",
      "urn:mavedb:00000038-b-2\n",
      "urn:mavedb:00000039-a-1\n",
      "urn:mavedb:00000039-a-2\n",
      "urn:mavedb:00000039-a-3\n",
      "urn:mavedb:00000039-a-4\n",
      "urn:mavedb:00000039-a-5\n",
      "urn:mavedb:00000039-a-6\n",
      "urn:mavedb:00000039-a-7\n",
      "urn:mavedb:00000040-a-1\n",
      "urn:mavedb:00000040-a-2\n",
      "urn:mavedb:00000040-a-3\n",
      "urn:mavedb:00000040-a-4\n",
      "urn:mavedb:00000041-a-1\n",
      "urn:mavedb:00000041-b-1\n",
      "urn:mavedb:00000043-a-1\n",
      "urn:mavedb:00000045-a-1\n",
      "urn:mavedb:00000045-b-1\n",
      "urn:mavedb:00000045-c-1\n",
      "urn:mavedb:00000045-d-1\n",
      "urn:mavedb:00000045-e-1\n",
      "urn:mavedb:00000045-f-1\n",
      "urn:mavedb:00000045-g-1\n",
      "urn:mavedb:00000045-h-1\n",
      "urn:mavedb:00000045-i-1\n",
      "urn:mavedb:00000045-j-1\n",
      "urn:mavedb:00000045-k-1\n",
      "urn:mavedb:00000045-l-1\n",
      "urn:mavedb:00000046-a-1\n",
      "urn:mavedb:00000047-a-1\n",
      "urn:mavedb:00000047-b-1\n",
      "urn:mavedb:00000047-c-1\n",
      "urn:mavedb:00000048-a-1\n",
      "urn:mavedb:00000048-b-1\n",
      "urn:mavedb:00000048-c-1\n",
      "urn:mavedb:00000049-a-7\n",
      "urn:mavedb:00000051-a-1\n",
      "urn:mavedb:00000051-b-1\n",
      "urn:mavedb:00000051-c-1\n",
      "urn:mavedb:00000052-a-1\n",
      "urn:mavedb:00000052-b-1\n",
      "urn:mavedb:00000053-a-2\n",
      "urn:mavedb:00000054-a-1\n",
      "urn:mavedb:00000055-a-1\n",
      "urn:mavedb:00000055-b-1\n",
      "urn:mavedb:00000057-a-1\n",
      "urn:mavedb:00000057-b-1\n",
      "urn:mavedb:00000057-c-1\n",
      "urn:mavedb:00000058-a-1\n",
      "urn:mavedb:00000059-a-1\n",
      "urn:mavedb:00000060-a-1\n",
      "urn:mavedb:00000060-a-2\n",
      "urn:mavedb:00000061-a-1\n",
      "urn:mavedb:00000061-b-1\n",
      "urn:mavedb:00000061-c-1\n",
      "urn:mavedb:00000061-d-1\n",
      "urn:mavedb:00000061-e-1\n",
      "urn:mavedb:00000061-f-1\n",
      "urn:mavedb:00000061-g-1\n",
      "urn:mavedb:00000061-h-1\n",
      "urn:mavedb:00000061-i-1\n",
      "urn:mavedb:00000062-a-1\n",
      "urn:mavedb:00000062-b-1\n",
      "urn:mavedb:00000065-a-1\n",
      "urn:mavedb:00000066-a-1\n",
      "urn:mavedb:00000067-a-1\n",
      "urn:mavedb:00000068-b-1\n",
      "urn:mavedb:00000068-c-1\n",
      "urn:mavedb:00000069-a-1\n",
      "urn:mavedb:00000070-a-2\n",
      "urn:mavedb:00000074-a-1\n",
      "urn:mavedb:00000078-a-1\n",
      "urn:mavedb:00000078-b-1\n",
      "urn:mavedb:00000081-a-2\n",
      "urn:mavedb:00000086-a-1\n",
      "urn:mavedb:00000086-b-1\n",
      "urn:mavedb:00000086-c-1\n",
      "urn:mavedb:00000086-d-1\n",
      "urn:mavedb:00000086-e-1\n",
      "urn:mavedb:00000086-f-1\n",
      "urn:mavedb:00000086-g-1\n",
      "urn:mavedb:00000090-a-1\n",
      "urn:mavedb:00000090-b-1\n",
      "urn:mavedb:00000097-0-1\n",
      "urn:mavedb:00000105-a-1\n",
      "urn:mavedb:00000106-c-1\n"
     ]
    }
   ],
   "source": [
    "for dms in new.dms_id.unique():\n",
    "    if dms in ['urn:mavedb:00000003-a-2', 'urn:mavedb:00000003-b-2', 'urn:mavedb:00000038-a-1']:\n",
    "        continue\n",
    "    print(dms)\n",
    "    new_dms = new.query(\"dms_id==@dms\").copy().reset_index(drop=True)\n",
    "    old_dms = old.query(\"dms_id==@dms\").copy().reset_index(drop=True)\n",
    "    new_dms = new_dms.astype({'position': float, 'aa1_weight': float, 'aa2_weight': float, 'deltaWeight': float})\n",
    "    new_dms = new_dms.drop(columns=['score', 'position'])\n",
    "    old_dms = old_dms.drop(columns=['score', 'position'])\n",
    "    pd.testing.assert_frame_equal(new_dms, old_dms)"
   ]
  },
  {
   "cell_type": "code",
   "execution_count": 117,
   "id": "4e384fde",
   "metadata": {},
   "outputs": [
    {
     "name": "stdout",
     "output_type": "stream",
     "text": [
      "urn:mavedb:00000003-a-2\n",
      "new 3701\n",
      "old 8558\n",
      "mave 4635\n",
      "urn:mavedb:00000003-b-2\n",
      "new 4132\n",
      "old 5880\n",
      "mave 4635\n",
      "urn:mavedb:00000038-a-1\n",
      "new 1380\n",
      "old 2465\n",
      "mave 1528\n"
     ]
    }
   ],
   "source": [
    "for dms in ['urn:mavedb:00000003-a-2', 'urn:mavedb:00000003-b-2', 'urn:mavedb:00000038-a-1']:\n",
    "    print(dms)\n",
    "    new_dms = new.query(\"dms_id==@dms\").copy().reset_index(drop=True)\n",
    "    print('new', len(new_dms))\n",
    "    old_dms = old.query(\"dms_id==@dms\").copy().reset_index(drop=True)\n",
    "    print('old', len(old_dms))\n",
    "    mave = pd.read_csv(f\"../data/raw/mavedb_data/{dms}.csv\", header=4)\n",
    "    print('mave', sum(mave[['hgvs_pro']].drop_duplicates()['hgvs_pro'].str[2]!='['))"
   ]
  },
  {
   "cell_type": "code",
   "execution_count": 207,
   "id": "85b02f65",
   "metadata": {},
   "outputs": [],
   "source": [
    "paper = clean_supp_feat.copy()\n",
    "paper_unip = paper.uniprot_id.unique()\n",
    "download = envision_dms_extra[clean_supp_feat.columns].drop_duplicates().query(\"uniprot_id not in @paper_unip\").copy()"
   ]
  },
  {
   "cell_type": "code",
   "execution_count": 224,
   "id": "2828f729",
   "metadata": {
    "scrolled": true
   },
   "outputs": [
    {
     "name": "stdout",
     "output_type": "stream",
     "text": [
      "Hydrophobic       4878\n",
      "Polar             2395\n",
      "PositiveCharge    1534\n",
      "Special           1345\n",
      "negativeCharge    1670\n",
      "Name: aa1_polarity, dtype: int64\n",
      "Hydrophobic       50622\n",
      "Polar             26639\n",
      "PositiveCharge    17429\n",
      "Special           17670\n",
      "negativeCharge    15734\n",
      "Name: aa1_polarity, dtype: int64\n",
      "********************************************************************************\n",
      "Hydrophobic       4659\n",
      "Polar             2394\n",
      "PositiveCharge    1800\n",
      "Special           1804\n",
      "negativeCharge    1165\n",
      "Name: aa2_polarity, dtype: int64\n",
      "Hydrophobic       51932\n",
      "Polar             25574\n",
      "PositiveCharge    18965\n",
      "Special           19470\n",
      "negativeCharge    12153\n",
      "Name: aa2_polarity, dtype: int64\n",
      "********************************************************************************\n",
      "aa1_PI\n"
     ]
    },
    {
     "data": {
      "image/png": "[encoded data removed]",
      "text/plain": [
       "<Figure size 432x288 with 1 Axes>"
      ]
     },
     "metadata": {
      "needs_background": "light"
     },
     "output_type": "display_data"
    },
    {
     "name": "stdout",
     "output_type": "stream",
     "text": [
      "********************************************************************************\n",
      "aa2_PI\n"
     ]
    },
    {
     "data": {
      "image/png": "[encoded data removed]",
      "text/plain": [
       "<Figure size 432x288 with 1 Axes>"
      ]
     },
     "metadata": {
      "needs_background": "light"
     },
     "output_type": "display_data"
    },
    {
     "name": "stdout",
     "output_type": "stream",
     "text": [
      "********************************************************************************\n",
      "deltaPI\n"
     ]
    },
    {
     "data": {
      "image/png": "[encoded data removed]",
      "text/plain": [
       "<Figure size 432x288 with 1 Axes>"
      ]
     },
     "metadata": {
      "needs_background": "light"
     },
     "output_type": "display_data"
    },
    {
     "name": "stdout",
     "output_type": "stream",
     "text": [
      "********************************************************************************\n",
      "aa1_weight\n"
     ]
    },
    {
     "data": {
      "image/png": "[encoded data removed]",
      "text/plain": [
       "<Figure size 432x288 with 1 Axes>"
      ]
     },
     "metadata": {
      "needs_background": "light"
     },
     "output_type": "display_data"
    },
    {
     "name": "stdout",
     "output_type": "stream",
     "text": [
      "********************************************************************************\n",
      "aa2_weight\n"
     ]
    },
    {
     "data": {
      "image/png": "[encoded data removed]",
      "text/plain": [
       "<Figure size 432x288 with 1 Axes>"
      ]
     },
     "metadata": {
      "needs_background": "light"
     },
     "output_type": "display_data"
    },
    {
     "name": "stdout",
     "output_type": "stream",
     "text": [
      "********************************************************************************\n",
      "deltaWeight\n"
     ]
    },
    {
     "data": {
      "image/png": "[encoded data removed]",
      "text/plain": [
       "<Figure size 432x288 with 1 Axes>"
      ]
     },
     "metadata": {
      "needs_background": "light"
     },
     "output_type": "display_data"
    },
    {
     "name": "stdout",
     "output_type": "stream",
     "text": [
      "********************************************************************************\n",
      "aa1vol\n"
     ]
    },
    {
     "data": {
      "image/png": "[encoded data removed]",
      "text/plain": [
       "<Figure size 432x288 with 1 Axes>"
      ]
     },
     "metadata": {
      "needs_background": "light"
     },
     "output_type": "display_data"
    },
    {
     "name": "stdout",
     "output_type": "stream",
     "text": [
      "********************************************************************************\n",
      "aa2vol\n"
     ]
    },
    {
     "data": {
      "image/png": "[encoded data removed]",
      "text/plain": [
       "<Figure size 432x288 with 1 Axes>"
      ]
     },
     "metadata": {
      "needs_background": "light"
     },
     "output_type": "display_data"
    },
    {
     "name": "stdout",
     "output_type": "stream",
     "text": [
      "********************************************************************************\n",
      "deltavolume\n"
     ]
    },
    {
     "data": {
      "image/png": "[encoded data removed]",
      "text/plain": [
       "<Figure size 432x288 with 1 Axes>"
      ]
     },
     "metadata": {
      "needs_background": "light"
     },
     "output_type": "display_data"
    },
    {
     "name": "stdout",
     "output_type": "stream",
     "text": [
      "********************************************************************************\n",
      "Grantham\n"
     ]
    },
    {
     "data": {
      "image/png": "[encoded data removed]",
      "text/plain": [
       "<Figure size 432x288 with 1 Axes>"
      ]
     },
     "metadata": {
      "needs_background": "light"
     },
     "output_type": "display_data"
    },
    {
     "name": "stdout",
     "output_type": "stream",
     "text": [
      "********************************************************************************\n",
      "aa1_psic\n"
     ]
    },
    {
     "data": {
      "image/png": "[encoded data removed]",
      "text/plain": [
       "<Figure size 432x288 with 1 Axes>"
      ]
     },
     "metadata": {
      "needs_background": "light"
     },
     "output_type": "display_data"
    },
    {
     "name": "stdout",
     "output_type": "stream",
     "text": [
      "********************************************************************************\n",
      "aa2_psic\n"
     ]
    },
    {
     "data": {
      "image/png": "[encoded data removed]",
      "text/plain": [
       "<Figure size 432x288 with 1 Axes>"
      ]
     },
     "metadata": {
      "needs_background": "light"
     },
     "output_type": "display_data"
    },
    {
     "name": "stdout",
     "output_type": "stream",
     "text": [
      "********************************************************************************\n",
      "delta_psic\n"
     ]
    },
    {
     "data": {
      "image/png": "[encoded data removed]",
      "text/plain": [
       "<Figure size 432x288 with 1 Axes>"
      ]
     },
     "metadata": {
      "needs_background": "light"
     },
     "output_type": "display_data"
    },
    {
     "name": "stdout",
     "output_type": "stream",
     "text": [
      "********************************************************************************\n",
      "accessibility\n"
     ]
    },
    {
     "data": {
      "image/png": "[encoded data removed]",
      "text/plain": [
       "<Figure size 432x288 with 1 Axes>"
      ]
     },
     "metadata": {
      "needs_background": "light"
     },
     "output_type": "display_data"
    },
    {
     "name": "stdout",
     "output_type": "stream",
     "text": [
      "********************************************************************************\n",
      ".     832\n",
      "E    2333\n",
      "G     539\n",
      "H    3051\n",
      "I      92\n",
      "S     866\n",
      "T    1279\n",
      "Name: dssp_sec_str, dtype: int64\n",
      ".     7999\n",
      "B      307\n",
      "E     7105\n",
      "G     1234\n",
      "H    13695\n",
      "I      577\n",
      "S     3452\n",
      "T     4566\n",
      "Name: dssp_sec_str, dtype: int64\n",
      "********************************************************************************\n",
      "?      18\n",
      "A    4679\n",
      "B    2807\n",
      "L     146\n",
      "P      19\n",
      "a     320\n",
      "b     312\n",
      "g      14\n",
      "l     239\n",
      "p      45\n",
      "Name: phi_psi_reg, dtype: int64\n",
      ".       41\n",
      "?      111\n",
      "A    19313\n",
      "B    12847\n",
      "L      345\n",
      "a     1720\n",
      "b     2573\n",
      "g      451\n",
      "l     1386\n",
      "p      148\n",
      "Name: phi_psi_reg, dtype: int64\n",
      "********************************************************************************\n",
      "delta_solvent_accessibility\n"
     ]
    },
    {
     "data": {
      "image/png": "[encoded data removed]",
      "text/plain": [
       "<Figure size 432x288 with 1 Axes>"
      ]
     },
     "metadata": {
      "needs_background": "light"
     },
     "output_type": "display_data"
    },
    {
     "name": "stdout",
     "output_type": "stream",
     "text": [
      "********************************************************************************\n",
      "b_factor\n"
     ]
    },
    {
     "data": {
      "image/png": "[encoded data removed]",
      "text/plain": [
       "<Figure size 432x288 with 1 Axes>"
      ]
     },
     "metadata": {
      "needs_background": "light"
     },
     "output_type": "display_data"
    },
    {
     "name": "stdout",
     "output_type": "stream",
     "text": [
      "********************************************************************************\n",
      "mut_msa_congruency\n"
     ]
    },
    {
     "data": {
      "image/png": "[encoded data removed]",
      "text/plain": [
       "<Figure size 432x288 with 1 Axes>"
      ]
     },
     "metadata": {
      "needs_background": "light"
     },
     "output_type": "display_data"
    },
    {
     "name": "stdout",
     "output_type": "stream",
     "text": [
      "********************************************************************************\n",
      "mut_mut_msa_congruency\n"
     ]
    },
    {
     "data": {
      "image/png": "[encoded data removed]",
      "text/plain": [
       "<Figure size 432x288 with 1 Axes>"
      ]
     },
     "metadata": {
      "needs_background": "light"
     },
     "output_type": "display_data"
    },
    {
     "name": "stdout",
     "output_type": "stream",
     "text": [
      "********************************************************************************\n",
      "seq_ind_closest_mut\n"
     ]
    },
    {
     "data": {
      "image/png": "[encoded data removed]",
      "text/plain": [
       "<Figure size 432x288 with 1 Axes>"
      ]
     },
     "metadata": {
      "needs_background": "light"
     },
     "output_type": "display_data"
    },
    {
     "name": "stdout",
     "output_type": "stream",
     "text": [
      "********************************************************************************\n",
      "evolutionary_coupling_avg\n"
     ]
    },
    {
     "data": {
      "image/png": "[encoded data removed]",
      "text/plain": [
       "<Figure size 432x288 with 1 Axes>"
      ]
     },
     "metadata": {
      "needs_background": "light"
     },
     "output_type": "display_data"
    },
    {
     "name": "stdout",
     "output_type": "stream",
     "text": [
      "********************************************************************************\n"
     ]
    }
   ],
   "source": [
    "for col in paper.columns:\n",
    "    if col in ['u_pos', 'uniprot_id', 'aa1', 'aa2', 'wt_mut']:\n",
    "        continue\n",
    "    if download[col].dtypes=='O':\n",
    "        print(paper[col].value_counts().sort_index())\n",
    "        print(download[col].value_counts().sort_index())\n",
    "    else:\n",
    "        print(col)\n",
    "        sns.violinplot(data=[paper[col], download[col]])\n",
    "        plt.grid()\n",
    "        plt.show()\n",
    "    print('*'*80)"
   ]
  },
  {
   "cell_type": "markdown",
   "id": "bd2e93ed",
   "metadata": {},
   "source": [
    "## Supp table 1"
   ]
  },
  {
   "cell_type": "code",
   "execution_count": 149,
   "id": "da2bab40",
   "metadata": {
    "scrolled": true
   },
   "outputs": [],
   "source": [
    "collection = pd.read_excel('/Users/fu.j/AnacondaProjects/Project_3_extrapolation_model/data/dms_data/mavedb/220304/collection_criteria.xlsx',\n",
    "                    index_col=0)\n",
    "collection = collection[['urn', 'uniprot_id', 'short_description', 'collect_decision', 'forward_process', 'note']]\n",
    "collection = collection.rename(columns={'urn': 'mavedb_urn'})"
   ]
  },
  {
   "cell_type": "code",
   "execution_count": null,
   "id": "c82ca5a4",
   "metadata": {},
   "outputs": [],
   "source": [
    "dms_info = pd.read_excel('/Users/fu.j/AnacondaProjects/Project_3_extrapolation_model/data/dms_data/mavedb/221005/DMS_info.xlsx', \n",
    "              sheet_name='Picked_DMS')"
   ]
  },
  {
   "cell_type": "code",
   "execution_count": 142,
   "id": "ea82ea35",
   "metadata": {},
   "outputs": [],
   "source": [
    "import requests\n",
    "\n",
    "\n",
    "mavedb_scoresets = requests.get(\"https://www.mavedb.org/api/scoresets/\").json()\n",
    "urn = []\n",
    "short_description = []\n",
    "for scoreset in mavedb_scoresets:\n",
    "    urn.append(scoreset[\"urn\"])\n",
    "    short_description.append(scoreset[\"short_description\"])\n",
    "scoreset_info = pd.DataFrame({\"mavedb_urn\": urn, \"short_description\": short_description})"
   ]
  },
  {
   "cell_type": "code",
   "execution_count": 163,
   "id": "f0bba12d",
   "metadata": {
    "scrolled": true
   },
   "outputs": [],
   "source": [
    "mave_info = pd.merge(dms_info[['uniprot_id', 'mavedb_urn', 'offset']], scoreset_info, on='mavedb_urn',\n",
    "                     how='left', validate='1:1')\n",
    "mave_info['included'] = True\n",
    "mave_info = pd.merge(mave_info, collection, on=['mavedb_urn', 'uniprot_id', 'short_description'], \n",
    "                     how='outer', validate='1:1')\n",
    "mave_info = mave_info.sort_values('mavedb_urn')"
   ]
  },
  {
   "cell_type": "code",
   "execution_count": 187,
   "id": "d1b83226",
   "metadata": {},
   "outputs": [],
   "source": [
    "\"\"\"with pd.ExcelWriter(\"/Users/fu.j/OneDrive - wehi.edu.au/Alanine_scanning manuscript/supplementary/Supplementary_Table_1.xlsx\") as writer:\n",
    "    mave_info.to_excel(writer, sheet_name=\"MaveDB_DMS\", index=None)  \n",
    "\n",
    "    foo = dms_info.drop(columns='offset').sort_values(['protein_name', 'dms_name']).copy()\n",
    "    foo.to_excel(writer, sheet_name='DMS_info', index=None)\n",
    "    \n",
    "    as_info = pd.read_csv('/Users/fu.j/AnacondaProjects/Project_3_extrapolation_model/data/as_data/221007/AS_info.csv')\n",
    "    as_info = as_info.sort_values(['molecule_name', 'pmid'])\n",
    "    as_info.to_excel(writer, sheet_name='AS_info', index=None)\n",
    "    \n",
    "    foo = data_info[data_info['Ascan_id'].notna()].sort_values(['protein_name', 'dms_name', 'Ascan_id']).drop(columns='offset')\n",
    "    foo.to_excel(writer, sheet_name='DMS-AS_compatibility', index=None)\"\"\""
   ]
  },
  {
   "cell_type": "code",
   "execution_count": 188,
   "id": "cc558fe5",
   "metadata": {},
   "outputs": [],
   "source": [
    "foo = data_info[data_info['Ascan_id'].notna()].sort_values(['protein_name', 'dms_name', 'Ascan_id']).drop(columns='offset')"
   ]
  },
  {
   "cell_type": "code",
   "execution_count": 194,
   "id": "1a7b29e8",
   "metadata": {},
   "outputs": [
    {
     "data": {
      "text/html": [
       "<div>\n",
       "<style scoped>\n",
       "    .dataframe tbody tr th:only-of-type {\n",
       "        vertical-align: middle;\n",
       "    }\n",
       "\n",
       "    .dataframe tbody tr th {\n",
       "        vertical-align: top;\n",
       "    }\n",
       "\n",
       "    .dataframe thead th {\n",
       "        text-align: right;\n",
       "    }\n",
       "</style>\n",
       "<table border=\"1\" class=\"dataframe\">\n",
       "  <thead>\n",
       "    <tr style=\"text-align: right;\">\n",
       "      <th></th>\n",
       "      <th>assumed_compatibility</th>\n",
       "      <th>reason</th>\n",
       "    </tr>\n",
       "  </thead>\n",
       "  <tbody>\n",
       "    <tr>\n",
       "      <td>246</td>\n",
       "      <td>High</td>\n",
       "      <td>Assays both select on protein general property.</td>\n",
       "    </tr>\n",
       "    <tr>\n",
       "      <td>232</td>\n",
       "      <td>High</td>\n",
       "      <td>Assays select on similar specific protein prop...</td>\n",
       "    </tr>\n",
       "    <tr>\n",
       "      <td>231</td>\n",
       "      <td>Low</td>\n",
       "      <td>AS assay does not fulfill the experimental dem...</td>\n",
       "    </tr>\n",
       "    <tr>\n",
       "      <td>330</td>\n",
       "      <td>Low</td>\n",
       "      <td>AS assay selects on drug response of the targe...</td>\n",
       "    </tr>\n",
       "    <tr>\n",
       "      <td>58</td>\n",
       "      <td>Low</td>\n",
       "      <td>AS assay selects on gain of new protein functi...</td>\n",
       "    </tr>\n",
       "    <tr>\n",
       "      <td>82</td>\n",
       "      <td>Low</td>\n",
       "      <td>AS assay selects on gain of new protein functi...</td>\n",
       "    </tr>\n",
       "    <tr>\n",
       "      <td>206</td>\n",
       "      <td>Low</td>\n",
       "      <td>AS has no effect according to the paper.</td>\n",
       "    </tr>\n",
       "    <tr>\n",
       "      <td>377</td>\n",
       "      <td>Low</td>\n",
       "      <td>DMS assay is under non-selective environment a...</td>\n",
       "    </tr>\n",
       "    <tr>\n",
       "      <td>405</td>\n",
       "      <td>Low</td>\n",
       "      <td>DMS assay selects on gain of new protein funct...</td>\n",
       "    </tr>\n",
       "    <tr>\n",
       "      <td>27</td>\n",
       "      <td>Low</td>\n",
       "      <td>Only one of the assay involves in pathogen inf...</td>\n",
       "    </tr>\n",
       "    <tr>\n",
       "      <td>204</td>\n",
       "      <td>Medium</td>\n",
       "      <td>AS selects under non-physical condition.</td>\n",
       "    </tr>\n",
       "    <tr>\n",
       "      <td>250</td>\n",
       "      <td>Medium</td>\n",
       "      <td>Assays select on different yet specific protei...</td>\n",
       "    </tr>\n",
       "    <tr>\n",
       "      <td>252</td>\n",
       "      <td>Medium</td>\n",
       "      <td>One assay measures protein general property, b...</td>\n",
       "    </tr>\n",
       "  </tbody>\n",
       "</table>\n",
       "</div>"
      ],
      "text/plain": [
       "    assumed_compatibility                                             reason\n",
       "246                  High    Assays both select on protein general property.\n",
       "232                  High  Assays select on similar specific protein prop...\n",
       "231                   Low  AS assay does not fulfill the experimental dem...\n",
       "330                   Low  AS assay selects on drug response of the targe...\n",
       "58                    Low  AS assay selects on gain of new protein functi...\n",
       "82                    Low  AS assay selects on gain of new protein functi...\n",
       "206                   Low           AS has no effect according to the paper.\n",
       "377                   Low  DMS assay is under non-selective environment a...\n",
       "405                   Low  DMS assay selects on gain of new protein funct...\n",
       "27                    Low  Only one of the assay involves in pathogen inf...\n",
       "204                Medium           AS selects under non-physical condition.\n",
       "250                Medium  Assays select on different yet specific protei...\n",
       "252                Medium  One assay measures protein general property, b..."
      ]
     },
     "execution_count": 194,
     "metadata": {},
     "output_type": "execute_result"
    }
   ],
   "source": [
    "foo[['assumed_compatibility','reason']].drop_duplicates().sort_values(['assumed_compatibility', 'reason'])"
   ]
  },
  {
   "cell_type": "code",
   "execution_count": 193,
   "id": "0bf41965",
   "metadata": {},
   "outputs": [
    {
     "data": {
      "text/plain": [
       "reason\n",
       "AS assay does not fulfill the experimental demand according to the paper                     1\n",
       "AS assay selects on drug response of the target protein.                                    40\n",
       "AS assay selects on gain of new protein function (infection of simian virus).                1\n",
       "AS assay selects on gain of new protein function (novel antibody binding).                   4\n",
       "AS has no effect according to the paper.                                                     9\n",
       "AS selects under non-physical condition.                                                     9\n",
       "Assays both select on protein general property.                                             21\n",
       "Assays select on different yet specific protein properties.                                 44\n",
       "Assays select on similar specific protein property.                                         82\n",
       "DMS assay is under non-selective environment according to the paper.                         1\n",
       "DMS assay selects on gain of new protein function (consistant activation without ligand)     2\n",
       "One assay measures protein general property, but the other measures a specific one.         74\n",
       "Only one of the assay involves in pathogen infection through the target protein.            92\n",
       "Name: dmsa_id, dtype: int64"
      ]
     },
     "execution_count": 193,
     "metadata": {},
     "output_type": "execute_result"
    }
   ],
   "source": [
    "foo.groupby(['reason'])['dmsa_id'].count()"
   ]
  },
  {
   "cell_type": "code",
   "execution_count": 200,
   "id": "c01acf43",
   "metadata": {
    "scrolled": true
   },
   "outputs": [
    {
     "data": {
      "text/plain": [
       "array(['ACE2-s-high', 'AICDA-G3', 'Abeta42', 'BRCA1_E3',\n",
       "       'BRCA1_Starita_2018', 'CCR5-2d7-bind', 'CCR5-expression',\n",
       "       'CCR5-gp120cd4-bind', 'CXCR4-12g5-bind', 'CXCR4-cxcl12-bind',\n",
       "       'CXCR4-expression', 'GB1', 'GCN4-complete', 'GCN4-starvation',\n",
       "       'JUN-full-trans', 'LamB-Maltodextrins', 'PTEN_Phosphatase',\n",
       "       'RAF1-modify-10h', 'RAF1-modify-12h', 'RAF1-modify-24h',\n",
       "       'RAF1-modify-2h', 'RAF1-modify-48h', 'RAF1-modify-4h',\n",
       "       'RAF1-modify-6h', 'RAF1-modify-72h', 'RAF1-modify-8h'],\n",
       "      dtype=object)"
      ]
     },
     "execution_count": 200,
     "metadata": {},
     "output_type": "execute_result"
    }
   ],
   "source": [
    "foo.query(\"reason=='Assays select on similar specific protein property.'\").dms_name.unique()"
   ]
  },
  {
   "cell_type": "code",
   "execution_count": 203,
   "id": "c85dd6a3",
   "metadata": {},
   "outputs": [
    {
     "name": "stdout",
     "output_type": "stream",
     "text": [
      "16\n",
      "66\n"
     ]
    }
   ],
   "source": [
    "abnormal_dms = ['ACE2-s-high', 'CCR5-gp120cd4-bind', ]\n",
    "                \n",
    "normal_dms = ['AICDA-G3', 'Abeta42', 'BRCA1_E3',\n",
    "       'BRCA1_Starita_2018', 'CCR5-2d7-bind', 'CCR5-expression','CXCR4-12g5-bind', 'CXCR4-cxcl12-bind',\n",
    "       'CXCR4-expression', 'GB1', 'GCN4-complete', 'GCN4-starvation',\n",
    "       'JUN-full-trans', 'LamB-Maltodextrins', 'PTEN_Phosphatase',\n",
    "       'RAF1-modify-10h', 'RAF1-modify-12h', 'RAF1-modify-24h',\n",
    "       'RAF1-modify-2h', 'RAF1-modify-48h', 'RAF1-modify-4h',\n",
    "       'RAF1-modify-6h', 'RAF1-modify-72h', 'RAF1-modify-8h']\n",
    "                \n",
    "print(len(foo.query(\"reason=='Assays select on similar specific protein property.' & dms_name in @abnormal_dms\")))\n",
    "print(len(foo.query(\"reason=='Assays select on similar specific protein property.' & dms_name in @normal_dms\")))"
   ]
  },
  {
   "cell_type": "code",
   "execution_count": null,
   "id": "d9c00da1",
   "metadata": {},
   "outputs": [],
   "source": []
  },
  {
   "cell_type": "code",
   "execution_count": null,
   "id": "91f2af0e",
   "metadata": {},
   "outputs": [],
   "source": []
  },
  {
   "cell_type": "code",
   "execution_count": null,
   "id": "b845e90c",
   "metadata": {},
   "outputs": [],
   "source": []
  },
  {
   "cell_type": "code",
   "execution_count": null,
   "id": "f03b6334",
   "metadata": {},
   "outputs": [],
   "source": []
  },
  {
   "cell_type": "code",
   "execution_count": null,
   "id": "affab848",
   "metadata": {},
   "outputs": [],
   "source": []
  },
  {
   "cell_type": "code",
   "execution_count": null,
   "id": "05c0fc9a",
   "metadata": {},
   "outputs": [],
   "source": []
  }
 ],
 "metadata": {
  "kernelspec": {
   "display_name": "Python 3",
   "language": "python",
   "name": "python3"
  },
  "language_info": {
   "codemirror_mode": {
    "name": "ipython",
    "version": 3
   },
   "file_extension": ".py",
   "mimetype": "text/x-python",
   "name": "python",
   "nbconvert_exporter": "python",
   "pygments_lexer": "ipython3",
   "version": "3.6.13"
  },
  "toc": {
   "base_numbering": 1,
   "nav_menu": {},
   "number_sections": true,
   "sideBar": true,
   "skip_h1_title": false,
   "title_cell": "Table of Contents",
   "title_sidebar": "Contents",
   "toc_cell": false,
   "toc_position": {
    "height": "calc(100% - 180px)",
    "left": "10px",
    "top": "150px",
    "width": "349.5px"
   },
   "toc_section_display": true,
   "toc_window_display": true
  }
 },
 "nbformat": 4,
 "nbformat_minor": 5
}
